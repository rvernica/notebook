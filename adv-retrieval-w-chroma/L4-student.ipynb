{
 "cells": [
  {
   "cell_type": "markdown",
   "id": "f057401b-a4ee-462a-9ba9-3e342e06eb1a",
   "metadata": {},
   "source": [
    "## Lab 4 - Cross-encoder re-ranking"
   ]
  },
  {
   "cell_type": "code",
   "execution_count": 2,
   "id": "5a5536f0-651c-40e7-aa15-27ee0cda80b7",
   "metadata": {
    "height": 64
   },
   "outputs": [],
   "source": [
    "from helper_utils import word_wrap, project_embeddings\n",
    "import numpy as np\n",
    "import chromadb\n",
    "import os\n",
    "from helper_utils import word_wrap\n",
    "from chromadb.utils.embedding_functions import OpenAIEmbeddingFunction"
   ]
  },
  {
   "cell_type": "code",
   "execution_count": 3,
   "id": "3748b16d-d4a7-49c3-a48a-57dcfc42acd6",
   "metadata": {
    "height": 81
   },
   "outputs": [
    {
     "data": {
      "text/plain": [
       "307"
      ]
     },
     "execution_count": 3,
     "metadata": {},
     "output_type": "execute_result"
    }
   ],
   "source": [
    "openai_api_key = os.environ['OPENAI_API_KEY']\n",
    "embedding_function = OpenAIEmbeddingFunction(api_key=openai_api_key, model_name=\"text-embedding-3-small\")\n",
    "\n",
    "chroma_collection = chromadb.PersistentClient('microsoft_annual_report_2022').create_collection(\n",
    "    \"microsoft_annual_report_2022\", \n",
    "    embedding_function=embedding_function,\n",
    "    get_or_create=True)\n",
    "\n",
    "chroma_collection.count()"
   ]
  },
  {
   "cell_type": "markdown",
   "id": "68486bf8-37dd-4257-a23b-9ef50c47bcc5",
   "metadata": {},
   "source": [
    "# Re-ranking the long tail"
   ]
  },
  {
   "cell_type": "code",
   "execution_count": 4,
   "id": "888a86f8-2fe2-4682-bdaf-c15129ed1a32",
   "metadata": {
    "height": 149
   },
   "outputs": [
    {
     "name": "stdout",
     "output_type": "stream",
     "text": [
      "Research and Development Research and development expenses include\n",
      "payroll, employee benefits, stock -based compensation expense, and\n",
      "other headcount-related expenses associated with product development.\n",
      "Research and development expenses also include third-party development\n",
      "and programming costs, localization costs incurred to translate\n",
      "software for international markets, and the amortization of purchased\n",
      "software code and services content. Such costs related to software\n",
      "development are included in research and development expense until the\n",
      "point that technological feasibility is reached, which for our software\n",
      "products, is generally shortly before the products are released to\n",
      "production. Once technological feasibility is reached, such costs are\n",
      "capitalized and amortized to cost of revenue over the estimated lives\n",
      "of the products\n",
      "\n",
      "We believe our continuing research and product development are not\n",
      "materially dependent on any single license or other agreement with a\n",
      "third party relating to the development of our products. Investing in\n",
      "the Future Our success is based on our ability to create new and\n",
      "compelling products, services, and experiences for our users, to\n",
      "initiate and embrace disruptive technology trends, to enter new\n",
      "geographic and product markets, and to drive broad adoption of our\n",
      "products and services. We invest in a range of emerging technology\n",
      "trends and breakthroughs that we believe offer significant\n",
      "opportunities to deliver value to our customers and growth for the\n",
      "Company. Based on our assessment of key technology trends, we maintain\n",
      "our long-term commitment to research and development across a wide\n",
      "spectrum of technologies, tools, and platforms spanning digital work\n",
      "and life experiences, cloud computing, AI, devices, and operating\n",
      "systems\n",
      "\n",
      "While our main product research and development facilities are located\n",
      "in Redmond, Washington, we also operate research and development\n",
      "facilities in other parts of the U.S. and around the world. This global\n",
      "approach helps us remain competitive in local markets and enables us to\n",
      "continue to attract top talent from across the world. We plan to\n",
      "continue to make significant investments in a broad range of product\n",
      "research and development activities, and as appropriate we will\n",
      "coordinate our research and development across operating segments and\n",
      "leverage the results across the Company. In addition to our main\n",
      "research and development operations, we also operate Microsoft Research\n",
      "\n",
      "RESEARCH AND DEVELOPMENT Product and Service Development, and\n",
      "Intellectual Property We develop most of our products and services\n",
      "internally through the following engineering groups. • Cloud and AI ,\n",
      "focuses on making IT professionals, developers, and their systems more\n",
      "productive and efficient through development of cloud infrastructure,\n",
      "server, database, CRM, ERP, software development tools and services\n",
      "(including GitHub), AI cognitive services, and other business process\n",
      "applications and services for enterprises. • Experiences and Devices,\n",
      "focuses on instilling a unifying product ethos across our end -user\n",
      "experiences and devices, including Office, Windows, Teams, consumer web\n",
      "experiences (including search and news advertising), and the Surface\n",
      "line of devices. • Security, Compliance, Identity, and Management ,\n",
      "focuses on cloud platform and application security, identity and\n",
      "network access, enterprise mobility, information protection, and\n",
      "managed services\n",
      "\n",
      "Operating income increased $1.5 billion or 8%. • Gross margin increased\n",
      "$3.1 billion or 10% driven by growth in Windows and Search and news\n",
      "advertising. Gross margin percentage was relatively unchanged. •\n",
      "Operating expenses increased $1.5 billion or 14% driven by investments\n",
      "in Gaming, Search and news advertising, and Windows marketing.\n",
      "OPERATING EXPENSES Research and Development (In millions, except\n",
      "percentages) 2022 2021 Percentage Change Research and development $\n",
      "24,512 $ 20,716 18% As a percent of revenue 12% 12% 0ppt Research and\n",
      "development expenses include payroll, employee benefits, stock -based\n",
      "compensation expense, and other headcount-related expenses associated\n",
      "with product development. Research and development expenses also\n",
      "include third-party development and programming costs, localization\n",
      "costs incurred to translate software for international markets, and the\n",
      "amortization of purchased software code and services content. Research\n",
      "and development expenses increased $3\n",
      "\n",
      "• Technology and Research , focuses on our AI innovations and other\n",
      "forward -looking research and development efforts spanning\n",
      "infrastructure, services, and applications. • LinkedIn, focuses on our\n",
      "services that transform the way customers hire, market, sell, and\n",
      "learn. 26 • Gaming, focuses on developing hardware, content, and\n",
      "services across a large range of platforms to help grow our user base\n",
      "through game experiences and social interaction. Internal development\n",
      "allows us to maintain competitive advantages that come from product\n",
      "differentiation and closer technical control over our products and\n",
      "services. It also gives us the freedom to decide which modifications\n",
      "and enhancements are most important and when they should be\n",
      "implemented. We strive to obtain information as early as possible about\n",
      "changing usage patterns and hardware advances that may affect software\n",
      "and hardware design\n",
      "\n",
      "We will continue to invest in sales, marketing, product support\n",
      "infrastructure, and existing and advanced areas of technology, as well\n",
      "as continue making acquisitions that align with our business strategy.\n",
      "Additions to property and equipment will continue, including new\n",
      "facilities, datacenters, and computer systems for research and\n",
      "development, sales and marketing, support, and administrative staff. We\n",
      "expect capital expenditures to increase in coming years to support\n",
      "growth in our cloud offerings. We have operating and finance leases for\n",
      "datacenters, corporate offices, research and development facilities,\n",
      "Microsoft Experience Centers, and certain equipment. We have not\n",
      "engaged in any related party transactions or arrangements with\n",
      "unconsolidated entities or other persons that are reasonably likely to\n",
      "materially affect liquidity or the availability of capital resources\n",
      "\n",
      "3 billion or 14% driven by investments in cloud engineering, LinkedIn,\n",
      "Gaming, and commercial sales. Key changes in operating expenses were: •\n",
      "Research and development expenses increased $3.8 billion or 18% driven\n",
      "by investments in cloud engineering, Gaming, and LinkedIn. • Sales and\n",
      "marketing expenses increased $1.7 billion or 8% driven by investments\n",
      "in commercial sales and LinkedIn. Sales and marketing included a\n",
      "favorable foreign currency impact of 2%. • General and administrative\n",
      "expenses increased $793 million or 16% driven by investments in\n",
      "corporate functions. Operating income increased $13.5 billion or 19%\n",
      "driven by growth across each of our segments. Current year net income\n",
      "and diluted EPS were positively impacted by the net tax benefit related\n",
      "to the transfer of intangible properties, which resulted in an increase\n",
      "to net income and diluted EPS of $3.3 billion and $0.44, respectively\n",
      "\n",
      "Before releasing new software platforms, and as we make significant\n",
      "modifications to existing platforms, we provide application vendors\n",
      "with a range of resources and guidelines for development, training, and\n",
      "testing. Generally, we also create product documentation internally. We\n",
      "protect our intellectual property investments in a variety of ways. We\n",
      "work actively in the U.S. and internationally to ensure the enforcement\n",
      "of copyright, trademark, trade secret, and other protections that apply\n",
      "to our software and hardware products, services, business plans, and\n",
      "branding. We are a leader among technology companies in pursuing\n",
      "patents and currently have a portfolio of over 69,000 U.S. and\n",
      "international patents issued and over 19,000 pending worldwide. While\n",
      "we employ much of our internally -developed intellectual property\n",
      "exclusively in our products and services, we also engage in outbound\n",
      "licensing of specific patented technologies that are incorporated into\n",
      "licensees’ products\n",
      "\n",
      "Microsoft Research is one of the world’s largest corporate research\n",
      "organizations and works in close collaboration with top universities\n",
      "around the world to advance the state-of-the-art in computer science\n",
      "and a broad range of other disciplines, providing us a unique\n",
      "perspective on future trends and contributing to our innovation. 27\n",
      "DISTRIBUTION, SALES, AND MARKETING We market and distribute our\n",
      "products and services through the following channels: OEMs, direct, and\n",
      "distributors and resellers. Our sales force performs a variety of\n",
      "functions, including working directly with commercial enterprises and\n",
      "public-sector organizations worldwide to identify and meet their\n",
      "technology and digital transformation requirements; managing OEM\n",
      "relationships; and supporting system integrators, independent software\n",
      "vendors, and other partners who engage directly with our customers to\n",
      "perform sales, consulting, and fulfillment functions for our products\n",
      "and services\n",
      "\n"
     ]
    }
   ],
   "source": [
    "query = \"What has been the investment in research and development?\"\n",
    "results = chroma_collection.query(query_texts=query, n_results=10, include=['documents', 'embeddings'])\n",
    "\n",
    "retrieved_documents = results['documents'][0]\n",
    "\n",
    "for document in results['documents'][0]:\n",
    "    print(word_wrap(document))\n",
    "    print('')"
   ]
  },
  {
   "cell_type": "code",
   "execution_count": 6,
   "id": "5665c695-22ea-4264-b1ac-5ba720b6d78b",
   "metadata": {
    "height": 47
   },
   "outputs": [],
   "source": [
    "def _cosine_similarity(a, b):\n",
    "    return float(np.dot(a, b) / (np.linalg.norm(a) * np.linalg.norm(b)))\n",
    "\n",
    "def embedding_rerank(query, documents):\n",
    "    query_embedding = embedding_function([query])[0]\n",
    "    doc_embeddings = embedding_function(documents)\n",
    "    return [_cosine_similarity(query_embedding, doc_embedding) for doc_embedding in doc_embeddings]"
   ]
  },
  {
   "cell_type": "code",
   "execution_count": 7,
   "id": "c2a13d14-4484-46f0-8e67-277337f9d138",
   "metadata": {
    "height": 98
   },
   "outputs": [
    {
     "name": "stdout",
     "output_type": "stream",
     "text": [
      "Scores:\n",
      "0.5758931636810303\n",
      "0.526953399181366\n",
      "0.5089221596717834\n",
      "0.5032009482383728\n",
      "0.4815691113471985\n",
      "0.47638198733329773\n",
      "0.4717883765697479\n",
      "0.44306454062461853\n",
      "0.43757501244544983\n",
      "0.43075031042099\n"
     ]
    }
   ],
   "source": [
    "scores = embedding_rerank(query, retrieved_documents)\n",
    "print(\"Scores:\")\n",
    "for score in scores:\n",
    "    print(score)"
   ]
  },
  {
   "cell_type": "code",
   "execution_count": 8,
   "id": "8ba6c8c5-9ce4-44d0-9223-6fdd77871f87",
   "metadata": {
    "height": 64
   },
   "outputs": [
    {
     "name": "stdout",
     "output_type": "stream",
     "text": [
      "New Ordering:\n",
      "1\n",
      "2\n",
      "3\n",
      "4\n",
      "5\n",
      "6\n",
      "7\n",
      "8\n",
      "9\n",
      "10\n"
     ]
    }
   ],
   "source": [
    "print(\"New Ordering:\")\n",
    "for o in np.argsort(scores)[::-1]:\n",
    "    print(o+1)"
   ]
  },
  {
   "cell_type": "markdown",
   "id": "9f54cc00-eebc-4294-91bf-1a2cdce51708",
   "metadata": {},
   "source": [
    "# Re-ranking with Query Expansion"
   ]
  },
  {
   "cell_type": "code",
   "execution_count": 9,
   "id": "377a84aa-1d93-4e97-9b2d-d59c46355338",
   "metadata": {
    "height": 149
   },
   "outputs": [],
   "source": [
    "original_query = \"What were the most important factors that contributed to increases in revenue?\"\n",
    "generated_queries = [\n",
    "    \"What were the major drivers of revenue growth?\",\n",
    "    \"Were there any new product launches that contributed to the increase in revenue?\",\n",
    "    \"Did any changes in pricing or promotions impact the revenue growth?\",\n",
    "    \"What were the key market trends that facilitated the increase in revenue?\",\n",
    "    \"Did any acquisitions or partnerships contribute to the revenue growth?\"\n",
    "]"
   ]
  },
  {
   "cell_type": "code",
   "execution_count": 10,
   "id": "ba0ed8ca-6640-4c09-9cb3-9de5e7cf46dc",
   "metadata": {
    "height": 81
   },
   "outputs": [],
   "source": [
    "queries = [original_query] + generated_queries\n",
    "\n",
    "results = chroma_collection.query(query_texts=queries, n_results=10, include=['documents', 'embeddings'])\n",
    "retrieved_documents = results['documents']"
   ]
  },
  {
   "cell_type": "code",
   "execution_count": 11,
   "id": "28bac3a2-0d29-48dc-9b48-2d9313239a25",
   "metadata": {
    "height": 132
   },
   "outputs": [],
   "source": [
    "# Deduplicate the retrieved documents\n",
    "unique_documents = set()\n",
    "for documents in retrieved_documents:\n",
    "    for document in documents:\n",
    "        unique_documents.add(document)\n",
    "\n",
    "unique_documents = list(unique_documents)"
   ]
  },
  {
   "cell_type": "code",
   "execution_count": 12,
   "id": "db9f2758-0f5a-49e5-b1fa-517b91324575",
   "metadata": {
    "height": 64
   },
   "outputs": [],
   "source": [
    "# Unique documents prepared above; embedding rerank runs directly on them."
   ]
  },
  {
   "cell_type": "code",
   "execution_count": 13,
   "id": "aee59493-8a99-4da8-b94f-4747efcfc79d",
   "metadata": {
    "height": 47
   },
   "outputs": [],
   "source": [
    "scores = embedding_rerank(original_query, unique_documents)"
   ]
  },
  {
   "cell_type": "code",
   "execution_count": 14,
   "id": "f5eda9bc-ae76-4db6-9e0c-ae099d852d78",
   "metadata": {
    "height": 64
   },
   "outputs": [
    {
     "name": "stdout",
     "output_type": "stream",
     "text": [
      "Scores:\n",
      "0.40258246660232544\n",
      "0.4279424846172333\n",
      "0.41656142473220825\n",
      "0.4491081237792969\n",
      "0.40405285358428955\n",
      "0.4580407440662384\n",
      "0.39477717876434326\n",
      "0.42988112568855286\n",
      "0.37401607632637024\n",
      "0.4755610525608063\n",
      "0.4336984157562256\n",
      "0.40853530168533325\n",
      "0.37585631012916565\n",
      "0.43725767731666565\n",
      "0.3604590594768524\n",
      "0.3891030550003052\n",
      "0.4317931830883026\n",
      "0.4182521104812622\n"
     ]
    }
   ],
   "source": [
    "print(\"Scores:\")\n",
    "for score in scores:\n",
    "    print(score)"
   ]
  },
  {
   "cell_type": "code",
   "execution_count": 15,
   "id": "b1183e75-4c65-422e-bc47-48010d8b29c9",
   "metadata": {
    "height": 64
   },
   "outputs": [
    {
     "name": "stdout",
     "output_type": "stream",
     "text": [
      "New Ordering:\n",
      "9\n",
      "5\n",
      "3\n",
      "13\n",
      "10\n",
      "16\n",
      "7\n",
      "1\n",
      "17\n",
      "2\n",
      "11\n",
      "4\n",
      "0\n",
      "6\n",
      "15\n",
      "12\n",
      "8\n",
      "14\n"
     ]
    }
   ],
   "source": [
    "print(\"New Ordering:\")\n",
    "for o in np.argsort(scores)[::-1]:\n",
    "    print(o)"
   ]
  }
 ],
 "metadata": {
  "kernelspec": {
   "display_name": "adv-retrieval-w-chroma (3.13.3)",
   "language": "python",
   "name": "python3"
  },
  "language_info": {
   "codemirror_mode": {
    "name": "ipython",
    "version": 3
   },
   "file_extension": ".py",
   "mimetype": "text/x-python",
   "name": "python",
   "nbconvert_exporter": "python",
   "pygments_lexer": "ipython3",
   "version": "3.13.3"
  }
 },
 "nbformat": 4,
 "nbformat_minor": 5
}
