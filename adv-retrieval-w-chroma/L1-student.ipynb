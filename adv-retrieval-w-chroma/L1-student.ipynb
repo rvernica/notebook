{
 "cells": [
  {
   "cell_type": "markdown",
   "id": "ec889d86-0d16-477f-8b7f-be03d73ad957",
   "metadata": {},
   "source": [
    "# Lab 1 - Overview of embeddings-based retrieval"
   ]
  },
  {
   "cell_type": "markdown",
   "id": "58ee2f53-d88b-4f00-94a2-75a66d4149e9",
   "metadata": {},
   "source": [
    "Welcome! Here's a few notes about the Chroma course notebooks.\n",
    " - A number of warnings pop up when running the notebooks. These are normal and can be ignored.\n",
    " - Some operations such as calling an LLM or an opeation using generated data return unpredictable results and so your notebook outputs may differ from the video.\n",
    "  \n",
    "Enjoy the course!"
   ]
  },
  {
   "cell_type": "code",
   "execution_count": 69,
   "id": "5a5536f0-651c-40e7-aa15-27ee0cda80b7",
   "metadata": {
    "height": 30
   },
   "outputs": [],
   "source": [
    "from helper_utils import word_wrap"
   ]
  },
  {
   "cell_type": "code",
   "execution_count": 70,
   "id": "3748b16d-d4a7-49c3-a48a-57dcfc42acd6",
   "metadata": {
    "height": 166
   },
   "outputs": [
    {
     "name": "stdout",
     "output_type": "stream",
     "text": [
      "1 \n",
      "Dear shareholders, colleagues, customers, and partners:  \n",
      "We are\n",
      "living through a period of historic economic, societal, and\n",
      "geopolitical change. The world in 2022 looks nothing like \n",
      "the world in\n",
      "2019. As I write this, inflation is at a 40 -year high, supply chains\n",
      "are stretched, and the war in Ukraine is \n",
      "ongoing. At the same time, we\n",
      "are entering a technological era with the potential to power awesome\n",
      "advancements \n",
      "across every sector of our economy and society. As the\n",
      "world’s largest software company, this places us at a historic\n",
      "\n",
      "intersection of opportunity and responsibility to the world around us.\n",
      " \n",
      "Our mission to empower every person and every organization on the\n",
      "planet to achieve more has never been more \n",
      "urgent or more necessary.\n",
      "For all the uncertainty in the world, one thing is clear: People and\n",
      "organizations in every \n",
      "industry are increasingly looking to digital\n",
      "technology to overcome today’s challenges and emerge stronger. And no\n",
      "\n",
      "company is better positioned to help them than Microsoft.  \n",
      "Every day\n",
      "this past fiscal year I have had the privilege to witness our customers\n",
      "use our platforms and tools to connect \n",
      "what technology can do with\n",
      "what the world needs it to do.  \n",
      "Here are just a few examples:  \n",
      "•\n",
      "Ferrovial, which builds and manages some of the world’s busiest\n",
      "airports and highways, is using our cloud \n",
      "infrastructure to build\n",
      "safer roads as it prepares for a future of autonomous transportation. \n",
      "\n",
      "• Peace Parks Foundation, a nonprofit helping protect natural\n",
      "ecosystems in Southern Africa, is using Microsoft \n",
      "Dynamics 365 and\n",
      "Power BI to secure essential funding, as well as our Azure AI and IoT\n",
      "solutions to help \n",
      "rangers scale their park maintenance and wildlife\n",
      "crime prevention work.  \n",
      "• One of the world’s largest robotics\n",
      "companies, Kawasaki Heavy Industries, is using the breadth of our tools\n",
      "—\n",
      "from Azure IoT and HoloLens—to create an industrial metaverse\n",
      "solution that brings its distributed workforce \n",
      "together with its\n",
      "network of connected equipment to improve productivity and keep\n",
      "employees safe.  \n",
      "• Globo, the biggest media and TV company in Brazil,\n",
      "is using Power Platform to empower its employees to \n",
      "build their own\n",
      "solutions for everything from booking sets to setting schedules.  \n",
      "•\n",
      "And Ørsted, which produces a quarter of the world’s wind energy, is\n",
      "using the Microsoft Intelligent Data \n",
      "Platform to turn data from its\n",
      "offshore turbines into insights for predictive maintenance.  \n",
      "Amid this\n",
      "dynamic environment, we delivered record results in fiscal year 2022:\n",
      "We reported $198  billion in revenue and \n",
      "$83 billion in operating\n",
      "income. And the Microsoft Cloud surpassed $100 billion in annualized\n",
      "revenue for the first time.  \n",
      "OUR RESPONSIBILITY  \n",
      "As a corporation,\n",
      "our purpose and actions must be aligned with addressing the world’s\n",
      "problems, not creating new ones. \n",
      "At our very core, we need to deliver\n",
      "innovation that helps drive broad economic growth. We, as a company,\n",
      "will do well \n",
      "when the world around us does well.  \n",
      "That’s what I\n",
      "believe will lead to widespread human progress and ultimately improve\n",
      "the lives of everyone. There is no \n",
      "more powerful input than digital\n",
      "technology to drive the world’s economic output. This is the core\n",
      "thesis for our being as a \n",
      "company, but it’s not enough. As we drive\n",
      "global economic growth, we must also commit to creating a more\n",
      "inclusive, \n",
      "equitable, sustainable, and trusted future.  \n",
      "Support\n",
      "inclusive economic growth  \n",
      "We must ensure the growth we drive reaches\n",
      "every person, organization, community, and country. This starts with\n",
      "\n",
      "increasing access to digital skills. This year alone, more than 23 \n",
      "million people accessed digital skills training as part of \n",
      "our global\n",
      "skills initiative.\n"
     ]
    }
   ],
   "source": [
    "from pypdf import PdfReader\n",
    "\n",
    "reader = PdfReader(\"microsoft_annual_report_2022.pdf\")\n",
    "pdf_texts = [p.extract_text().strip() for p in reader.pages]\n",
    "\n",
    "# Filter the empty strings\n",
    "pdf_texts = [text for text in pdf_texts if text]\n",
    "\n",
    "print(word_wrap(pdf_texts[0]))"
   ]
  },
  {
   "cell_type": "markdown",
   "id": "bbd608a5-b6c9-4ae9-a871-a3e470a4d12a",
   "metadata": {},
   "source": [
    "You can view the pdf in your browser [here](./microsoft_annual_report_2022.pdf) if you would like. "
   ]
  },
  {
   "cell_type": "code",
   "execution_count": 71,
   "id": "441b4ce2",
   "metadata": {},
   "outputs": [
    {
     "name": "stderr",
     "output_type": "stream",
     "text": [
      "[nltk_data] Downloading package punkt_tab to /home/rares/nltk_data...\n",
      "[nltk_data]   Package punkt_tab is already up-to-date!\n"
     ]
    },
    {
     "data": {
      "text/plain": [
       "True"
      ]
     },
     "execution_count": 71,
     "metadata": {},
     "output_type": "execute_result"
    }
   ],
   "source": [
    "import nltk\n",
    "nltk.download('punkt_tab')"
   ]
  },
  {
   "cell_type": "code",
   "execution_count": 72,
   "id": "a338ec83-6301-41a5-9ab1-e5d583306a3f",
   "metadata": {
    "height": 47
   },
   "outputs": [],
   "source": [
    "import re\n",
    "\n",
    "joint_pdf_texts = '\\n'.join(pdf_texts)\n",
    "joint_pdf_texts = re.sub(r'\\s+', ' ', joint_pdf_texts)"
   ]
  },
  {
   "cell_type": "code",
   "execution_count": 81,
   "id": "888a86f8-2fe2-4682-bdaf-c15129ed1a32",
   "metadata": {
    "height": 166
   },
   "outputs": [
    {
     "name": "stdout",
     "output_type": "stream",
     "text": [
      "1 Dear shareholders, colleagues, customers, and partners: We are living\n",
      "through a period of historic economic, societal, and geopolitical\n",
      "change. The world in 2022 looks nothing like the world in 2019. As I\n",
      "write this, inflation is at a 40 -year high, supply chains are\n",
      "stretched, and the war in Ukraine is ongoing. At the same time, we are\n",
      "entering a technological era with the potential to power awesome\n",
      "advancements across every sector of our economy and society. As the\n",
      "world’s largest software company, this places us at a historic\n",
      "intersection of opportunity and responsibility to the world around us.\n",
      "Our mission to empower every person and every organization on the\n",
      "planet to achieve more has never been more urgent or more necessary.\n",
      "For all the uncertainty in the world, one thing is clear: People and\n",
      "organizations in every industry are increasingly looking to digital\n",
      "technology to overcome today’s challenges and emerge stronger\n",
      "\n",
      "Total chunks: 307\n"
     ]
    }
   ],
   "source": [
    "from langchain.text_splitter import RecursiveCharacterTextSplitter\n",
    "\n",
    "splitter = RecursiveCharacterTextSplitter(\n",
    "    separators=[\"\\n\\n\", \".\"], #\"\\n\", \". \", \" \", \"\"],\n",
    "    keep_separator=False,\n",
    "    chunk_size=1000,\n",
    "    chunk_overlap=0\n",
    ")\n",
    "\n",
    "split_texts = splitter.split_text(joint_pdf_texts)\n",
    "\n",
    "print(word_wrap(split_texts[0]))\n",
    "print(f\"\\nTotal chunks: {len(split_texts)}\")"
   ]
  },
  {
   "cell_type": "code",
   "execution_count": 82,
   "id": "c2a13d14-4484-46f0-8e67-277337f9d138",
   "metadata": {
    "height": 98
   },
   "outputs": [
    {
     "name": "stdout",
     "output_type": "stream",
     "text": [
      "[array([-0.00921401, -0.01512612,  0.03912692, ...,  0.00043272,\n",
      "       -0.02321774, -0.00480603], shape=(1536,), dtype=float32)]\n"
     ]
    }
   ],
   "source": [
    "import os\n",
    "import chromadb\n",
    "from chromadb.utils.embedding_functions import OpenAIEmbeddingFunction\n",
    "\n",
    "# from dotenv import load_dotenv, find_dotenv\n",
    "# _ = load_dotenv(find_dotenv()) # read local .env file\n",
    "openai_api_key = os.environ['OPENAI_API_KEY']\n",
    "\n",
    "embedding_function = OpenAIEmbeddingFunction(api_key=openai_api_key, model_name=\"text-embedding-3-small\")\n",
    "print(embedding_function([split_texts[0]]))"
   ]
  },
  {
   "cell_type": "code",
   "execution_count": null,
   "id": "8ba6c8c5-9ce4-44d0-9223-6fdd77871f87",
   "metadata": {
    "height": 147
   },
   "outputs": [
    {
     "data": {
      "text/plain": [
       "307"
      ]
     },
     "execution_count": 95,
     "metadata": {},
     "output_type": "execute_result"
    }
   ],
   "source": [
    "chroma_client = chromadb.PersistentClient('microsoft_annual_report_2022')\n",
    "chroma_collection = chroma_client.create_collection(\n",
    "    \"microsoft_annual_report_2022\", \n",
    "    embedding_function=embedding_function,\n",
    "    get_or_create=True)\n",
    "\n",
    "if not chroma_collection.count():\n",
    "    ids = [str(i) for i in range(len(split_texts))]\n",
    "    chroma_collection.add(ids=ids, documents=split_texts)\n",
    "\n",
    "chroma_collection.count()"
   ]
  },
  {
   "cell_type": "code",
   "execution_count": null,
   "id": "bfdb54db-a442-423c-b006-c33a257cd7d7",
   "metadata": {
    "height": 149
   },
   "outputs": [
    {
     "name": "stdout",
     "output_type": "stream",
     "text": [
      "Revenue, classified by the major geographic areas in which our\n",
      "customers were located, was as follows: (In millions) Year Ended June\n",
      "30, 2022 2021 2020 United States (a) $ 100,218 $ 83,953 $ 73,160 Other\n",
      "countries 98,052 84,135 69,855 Total $ 198,270 $ 168,088 $ 143,015 (a)\n",
      "Includes billings to OEMs and certain multinational organizations\n",
      "because of the nature of these businesses and the impracticability of\n",
      "determining the geographic source of the revenue\n",
      "\n",
      "\n",
      "Revenue, classified by significant product and service offerings, was\n",
      "as follows: (In millions) Year Ended June 30, 2022 2021 2020 Server\n",
      "products and cloud services $ 67,321 $ 52,589 $ 41,379 Office products\n",
      "and cloud services 44,862 39,872 35,316 Windows 24,761 22,488 21,510\n",
      "Gaming 16,230 15,370 11,575 LinkedIn 13,816 10,289 8,077 Search and\n",
      "news advertising 11,591 9,267 8,524 Enterprise Services 7,407 6,943\n",
      "6,409 Devices 6,991 6,791 6,457 Other 5,291 4,479 3,768 Total $ 198,270\n",
      "$ 168,088 $ 143,015 We have recast certain previously reported amounts\n",
      "in the table above to conform to the way we internally manage and\n",
      "monitor our business. 83 Our Microsoft Cloud (formerly commercial\n",
      "cloud) revenue, which includes Azure and other cloud services, Office\n",
      "365 Commercial, the commercial portion of LinkedIn, Dynamics 365, and\n",
      "other commercial cloud properties, was $91.2 billion, $69.1 billion and\n",
      "$51.7 billion in fiscal years 2022, 2021, and 2020, respectively\n",
      "\n",
      "\n",
      "Revenue Product Revenue and Service and Other Revenue Product revenue\n",
      "includes sales from operating systems, cross -device productivity\n",
      "applications, server applications, business solution applications,\n",
      "desktop and server management tools, software development tools, video\n",
      "games, and hardware such as PCs, tablets, gaming and entertainment\n",
      "consoles, other intelligent devices, and related accessories. 53\n",
      "Service and other revenue includes sales from cloud -based solutions\n",
      "that provide customers with software, services, platforms, and content\n",
      "such as Office 365, Azure, Dynamics 365, and Xbox; solution support;\n",
      "and consulting services. Service and other revenue also includes sales\n",
      "from online advertising and LinkedIn. Revenue Recognition Revenue is\n",
      "recognized upon transfer of control of promised products or services to\n",
      "customers in an amount that reflects the consideration we expect to\n",
      "receive in exchange for those products or services\n",
      "\n",
      "\n",
      "74 NOTE 13 — UNEARNED REVENUE Unearned revenue by segment was as\n",
      "follows: (In millions) June 30, 2022 2021 Productivity and Business\n",
      "Processes $ 24,558 $ 22,120 Intelligent Cloud 19,371 17,710 More\n",
      "Personal Computing 4,479 4,311 Total $ 48,408 $ 44,141 Changes in\n",
      "unearned revenue were as follows: (In millions) Year Ended June 30,\n",
      "2022 Balance, beginning of period $ 44,141 Deferral of revenue 110,455\n",
      "Recognition of unearned revenue (106,188) Balance, end of period $\n",
      "48,408 Revenue allocated to remaining performance obligations, which\n",
      "includes unearned revenue and amounts that will be invoiced and\n",
      "recognized as revenue in future periods, was $193 billion as of June\n",
      "30, 2022, of which $189 billion is related to the commercial portion of\n",
      "revenue. We expect to recognize approximately 45% of this revenue over\n",
      "the next 12 months and the remainder thereafter\n",
      "\n",
      "\n",
      " Windows OEM revenue growth Revenue from sales of Windows Pro and non\n",
      "-Pro licenses sold through the OEM channel Windows Commercial products\n",
      "and cloud services revenue growth Revenue from Windows Commercial\n",
      "products and cloud services, comprising volume licensing of the Windows\n",
      "operating system, Windows cloud services, and other Windows commercial\n",
      "offerings Surface revenue growth Revenue from Surface devices and\n",
      "accessories Xbox content and services revenue growth Revenue from Xbox\n",
      "content and services, comprising first - and third- party content\n",
      "(including games and in -game content), Xbox Game Pass and other\n",
      "subscriptions, Xbox Cloud Gaming, third -party disc royalties,\n",
      "advertising, and other cloud services Search and news advertising\n",
      "revenue, excluding TAC, growth Revenue from search and news advertising\n",
      "excluding traffic acquisition costs (“TAC”) paid to Bing Ads network\n",
      "publishers and news partners SUMMARY RESULTS OF OPERATIONS (In\n",
      "millions, except percentages and per share amounts) 2022 2021\n",
      "Percentage Change Revenue $ 198,270 $ 168,088 18% Gross margin 135,620\n",
      "115,856 17% Operating income 83,383 69,916 19% Net income 72,738 61,271\n",
      "19% Diluted earnings per share 9\n",
      "\n",
      "\n"
     ]
    }
   ],
   "source": [
    "query = \"What was the total revenue?\"\n",
    "\n",
    "results = chroma_collection.query(query_texts=[query], n_results=5)\n",
    "retrieved_documents = results['documents'][0]\n",
    "\n",
    "for document in retrieved_documents:\n",
    "    print(word_wrap(document))\n",
    "    print('\\n')"
   ]
  },
  {
   "cell_type": "code",
   "execution_count": null,
   "id": "377a84aa-1d93-4e97-9b2d-d59c46355338",
   "metadata": {
    "height": 166
   },
   "outputs": [],
   "source": [
    "import openai\n",
    "\n",
    "openai_client = openai.OpenAI()"
   ]
  },
  {
   "cell_type": "code",
   "execution_count": null,
   "id": "ba0ed8ca-6640-4c09-9cb3-9de5e7cf46dc",
   "metadata": {
    "height": 334
   },
   "outputs": [],
   "source": [
    "def rag(query, retrieved_documents, model=\"gpt-3.5-turbo\"):\n",
    "    information = \"\\n\\n\".join(retrieved_documents)\n",
    "\n",
    "    messages = [\n",
    "        {\n",
    "            \"role\": \"system\",\n",
    "            \"content\": \"You are a helpful expert financial research assistant. Your users are asking questions about information contained in an annual report.\"\n",
    "            \"You will be shown the user's question, and the relevant information from the annual report. Answer the user's question using only this information.\"\n",
    "        },\n",
    "        {\"role\": \"user\", \"content\": f\"Question: {query}. \\n Information: {information}\"}\n",
    "    ]\n",
    "\n",
    "    response = openai_client.chat.completions.create(\n",
    "        model=model,\n",
    "        messages=messages,\n",
    "    )\n",
    "    content = response.choices[0].message.content\n",
    "    return content"
   ]
  },
  {
   "cell_type": "code",
   "execution_count": null,
   "id": "28bac3a2-0d29-48dc-9b48-2d9313239a25",
   "metadata": {
    "height": 64
   },
   "outputs": [
    {
     "name": "stdout",
     "output_type": "stream",
     "text": [
      "The revenue from outside the US (Other countries) was $98,052 million\n",
      "for the year ended June 30, 2022.\n"
     ]
    }
   ],
   "source": [
    "query = \"What is the revenue for from outside the US?\"\n",
    "\n",
    "output = rag(query=query, retrieved_documents=retrieved_documents)\n",
    "\n",
    "print(word_wrap(output))"
   ]
  }
 ],
 "metadata": {
  "kernelspec": {
   "display_name": "adv-retrieval-w-chroma (3.13.3)",
   "language": "python",
   "name": "python3"
  },
  "language_info": {
   "codemirror_mode": {
    "name": "ipython",
    "version": 3
   },
   "file_extension": ".py",
   "mimetype": "text/x-python",
   "name": "python",
   "nbconvert_exporter": "python",
   "pygments_lexer": "ipython3",
   "version": "3.13.3"
  }
 },
 "nbformat": 4,
 "nbformat_minor": 5
}
