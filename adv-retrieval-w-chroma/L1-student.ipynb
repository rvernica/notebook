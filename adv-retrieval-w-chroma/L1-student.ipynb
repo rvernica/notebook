{
 "cells": [
  {
   "cell_type": "markdown",
   "id": "ec889d86-0d16-477f-8b7f-be03d73ad957",
   "metadata": {},
   "source": [
    "# Lab 1 - Overview of embeddings-based retrieval"
   ]
  },
  {
   "cell_type": "markdown",
   "id": "58ee2f53-d88b-4f00-94a2-75a66d4149e9",
   "metadata": {},
   "source": [
    "Welcome! Here's a few notes about the Chroma course notebooks.\n",
    " - A number of warnings pop up when running the notebooks. These are normal and can be ignored.\n",
    " - Some operations such as calling an LLM or an opeation using generated data return unpredictable results and so your notebook outputs may differ from the video.\n",
    "  \n",
    "Enjoy the course!"
   ]
  },
  {
   "cell_type": "code",
   "execution_count": 4,
   "id": "5a5536f0-651c-40e7-aa15-27ee0cda80b7",
   "metadata": {
    "height": 30
   },
   "outputs": [],
   "source": [
    "from helper_utils import word_wrap"
   ]
  },
  {
   "cell_type": "code",
   "execution_count": 5,
   "id": "3748b16d-d4a7-49c3-a48a-57dcfc42acd6",
   "metadata": {
    "height": 166
   },
   "outputs": [
    {
     "name": "stdout",
     "output_type": "stream",
     "text": [
      "1 \n",
      "Dear shareholders, colleagues, customers, and partners:  \n",
      "We are\n",
      "living through a period of historic economic, societal, and\n",
      "geopolitical change. The world in 2022 looks nothing like \n",
      "the world in\n",
      "2019. As I write this, inflation is at a 40 -year high, supply chains\n",
      "are stretched, and the war in Ukraine is \n",
      "ongoing. At the same time, we\n",
      "are entering a technological era with the potential to power awesome\n",
      "advancements \n",
      "across every sector of our economy and society. As the\n",
      "world’s largest software company, this places us at a historic\n",
      "\n",
      "intersection of opportunity and responsibility to the world around us.\n",
      " \n",
      "Our mission to empower every person and every organization on the\n",
      "planet to achieve more has never been more \n",
      "urgent or more necessary.\n",
      "For all the uncertainty in the world, one thing is clear: People and\n",
      "organizations in every \n",
      "industry are increasingly looking to digital\n",
      "technology to overcome today’s challenges and emerge stronger. And no\n",
      "\n",
      "company is better positioned to help them than Microsoft.  \n",
      "Every day\n",
      "this past fiscal year I have had the privilege to witness our customers\n",
      "use our platforms and tools to connect \n",
      "what technology can do with\n",
      "what the world needs it to do.  \n",
      "Here are just a few examples:  \n",
      "•\n",
      "Ferrovial, which builds and manages some of the world’s busiest\n",
      "airports and highways, is using our cloud \n",
      "infrastructure to build\n",
      "safer roads as it prepares for a future of autonomous transportation. \n",
      "\n",
      "• Peace Parks Foundation, a nonprofit helping protect natural\n",
      "ecosystems in Southern Africa, is using Microsoft \n",
      "Dynamics 365 and\n",
      "Power BI to secure essential funding, as well as our Azure AI and IoT\n",
      "solutions to help \n",
      "rangers scale their park maintenance and wildlife\n",
      "crime prevention work.  \n",
      "• One of the world’s largest robotics\n",
      "companies, Kawasaki Heavy Industries, is using the breadth of our tools\n",
      "—\n",
      "from Azure IoT and HoloLens—to create an industrial metaverse\n",
      "solution that brings its distributed workforce \n",
      "together with its\n",
      "network of connected equipment to improve productivity and keep\n",
      "employees safe.  \n",
      "• Globo, the biggest media and TV company in Brazil,\n",
      "is using Power Platform to empower its employees to \n",
      "build their own\n",
      "solutions for everything from booking sets to setting schedules.  \n",
      "•\n",
      "And Ørsted, which produces a quarter of the world’s wind energy, is\n",
      "using the Microsoft Intelligent Data \n",
      "Platform to turn data from its\n",
      "offshore turbines into insights for predictive maintenance.  \n",
      "Amid this\n",
      "dynamic environment, we delivered record results in fiscal year 2022:\n",
      "We reported $198  billion in revenue and \n",
      "$83 billion in operating\n",
      "income. And the Microsoft Cloud surpassed $100 billion in annualized\n",
      "revenue for the first time.  \n",
      "OUR RESPONSIBILITY  \n",
      "As a corporation,\n",
      "our purpose and actions must be aligned with addressing the world’s\n",
      "problems, not creating new ones. \n",
      "At our very core, we need to deliver\n",
      "innovation that helps drive broad economic growth. We, as a company,\n",
      "will do well \n",
      "when the world around us does well.  \n",
      "That’s what I\n",
      "believe will lead to widespread human progress and ultimately improve\n",
      "the lives of everyone. There is no \n",
      "more powerful input than digital\n",
      "technology to drive the world’s economic output. This is the core\n",
      "thesis for our being as a \n",
      "company, but it’s not enough. As we drive\n",
      "global economic growth, we must also commit to creating a more\n",
      "inclusive, \n",
      "equitable, sustainable, and trusted future.  \n",
      "Support\n",
      "inclusive economic growth  \n",
      "We must ensure the growth we drive reaches\n",
      "every person, organization, community, and country. This starts with\n",
      "\n",
      "increasing access to digital skills. This year alone, more than 23 \n",
      "million people accessed digital skills training as part of \n",
      "our global\n",
      "skills initiative.\n"
     ]
    }
   ],
   "source": [
    "from pypdf import PdfReader\n",
    "\n",
    "reader = PdfReader(\"microsoft_annual_report_2022.pdf\")\n",
    "pdf_texts = [p.extract_text().strip() for p in reader.pages]\n",
    "\n",
    "# Filter the empty strings\n",
    "pdf_texts = [text for text in pdf_texts if text]\n",
    "\n",
    "print(word_wrap(pdf_texts[0]))"
   ]
  },
  {
   "cell_type": "markdown",
   "id": "bbd608a5-b6c9-4ae9-a871-a3e470a4d12a",
   "metadata": {},
   "source": [
    "You can view the pdf in your browser [here](./microsoft_annual_report_2022.pdf) if you would like. "
   ]
  },
  {
   "cell_type": "code",
   "execution_count": 6,
   "id": "a338ec83-6301-41a5-9ab1-e5d583306a3f",
   "metadata": {
    "height": 47
   },
   "outputs": [],
   "source": [
    "from langchain.text_splitter import RecursiveCharacterTextSplitter, SentenceTransformersTokenTextSplitter\n"
   ]
  },
  {
   "cell_type": "code",
   "execution_count": 7,
   "id": "888a86f8-2fe2-4682-bdaf-c15129ed1a32",
   "metadata": {
    "height": 166
   },
   "outputs": [
    {
     "name": "stdout",
     "output_type": "stream",
     "text": [
      "increased, due in large part to significant global datacenter\n",
      "expansions and the growth in Xbox sales and usage. Despite \n",
      "these\n",
      "increases, we remain dedicated to achieving a net -zero future. We\n",
      "recognize that progress won’t always be linear, \n",
      "and the rate at which\n",
      "we can implement emissions reductions is dependent on many factors that\n",
      "can fluctuate over time.  \n",
      "On the path to becoming water positive, we\n",
      "invested in 21 water replenishment projects that are expected to\n",
      "generate \n",
      "over 1.3 million cubic meters of volumetric benefits in nine\n",
      "water basins around the world. Progress toward our zero waste\n",
      "\n",
      "commitment included diverting more than 15,200 metric tons of solid\n",
      "waste otherwise headed to landfills and incinerators, \n",
      "as well as\n",
      "launching new Circular Centers to increase reuse and reduce e-waste at\n",
      "our datacenters.  \n",
      "We contracted to protect over 17,000 acres of land\n",
      "(50% more than the land we use to operate), thus achieving our\n",
      "\n",
      "Total chunks: 344\n"
     ]
    }
   ],
   "source": [
    "character_splitter = RecursiveCharacterTextSplitter(\n",
    "    separators=[\"\\n\\n\", \"\\n\", \". \", \" \", \"\"],\n",
    "    chunk_size=1000,\n",
    "    chunk_overlap=0\n",
    ")\n",
    "character_split_texts = character_splitter.split_text('\\n\\n'.join(pdf_texts))\n",
    "\n",
    "print(word_wrap(character_split_texts[10]))\n",
    "print(f\"\\nTotal chunks: {len(character_split_texts)}\")"
   ]
  },
  {
   "cell_type": "code",
   "execution_count": 10,
   "id": "5665c695-22ea-4264-b1ac-5ba720b6d78b",
   "metadata": {
    "height": 149
   },
   "outputs": [
    {
     "name": "stdout",
     "output_type": "stream",
     "text": [
      "increased, due in large part to significant global datacenter\n",
      "expansions and the growth in xbox sales and usage. despite these\n",
      "increases, we remain dedicated to achieving a net - zero future. we\n",
      "recognize that progress won ’ t always be linear, and the rate at which\n",
      "we can implement emissions reductions is dependent on many factors that\n",
      "can fluctuate over time. on the path to becoming water positive, we\n",
      "invested in 21 water replenishment projects that are expected to\n",
      "generate over 1. 3 million cubic meters of volumetric benefits in nine\n",
      "water basins around the world. progress toward our zero waste\n",
      "commitment included diverting more than 15, 200 metric tons of solid\n",
      "waste otherwise headed to landfills and incinerators, as well as\n",
      "launching new circular centers to increase reuse and reduce e - waste\n",
      "at our datacenters. we contracted to protect over 17, 000 acres of land\n",
      "( 50 % more than the land we use to operate ), thus achieving our\n",
      "\n",
      "Total chunks: 349\n"
     ]
    }
   ],
   "source": [
    "token_splitter = SentenceTransformersTokenTextSplitter(chunk_overlap=0, tokens_per_chunk=256)\n",
    "\n",
    "token_split_texts = []\n",
    "for text in character_split_texts:\n",
    "    token_split_texts += token_splitter.split_text(text)\n",
    "\n",
    "print(word_wrap(token_split_texts[10]))\n",
    "print(f\"\\nTotal chunks: {len(token_split_texts)}\")"
   ]
  },
  {
   "cell_type": "code",
   "execution_count": 11,
   "id": "c2a13d14-4484-46f0-8e67-277337f9d138",
   "metadata": {
    "height": 98
   },
   "outputs": [
    {
     "name": "stdout",
     "output_type": "stream",
     "text": [
      "[array([ 4.25626785e-02,  3.32118273e-02,  3.03401016e-02, -3.48665826e-02,\n",
      "        6.84165210e-02, -8.09091330e-02, -1.54743483e-02, -1.45095284e-03,\n",
      "       -1.67444423e-02,  6.77076876e-02, -5.05413935e-02, -4.91953641e-02,\n",
      "        5.13999127e-02,  9.19272602e-02, -7.17784166e-02,  3.95197235e-02,\n",
      "       -1.28335636e-02, -2.49475036e-02, -4.62287292e-02, -2.43574940e-02,\n",
      "        3.39496732e-02,  2.55024768e-02,  2.73171254e-02, -4.12624050e-03,\n",
      "       -3.63383405e-02,  3.69091681e-03, -2.74304487e-02,  4.79674852e-03,\n",
      "       -2.88962461e-02, -1.88706927e-02,  3.66662294e-02,  2.56958473e-02,\n",
      "        3.13128531e-02, -6.39344156e-02,  5.39440848e-02,  8.22535008e-02,\n",
      "       -4.17568497e-02, -6.99577760e-03, -2.34860200e-02, -3.07479352e-02,\n",
      "       -2.97923363e-03, -7.79093876e-02,  9.35316738e-03,  3.16290138e-03,\n",
      "       -2.22570971e-02, -1.82946529e-02, -9.61248670e-03, -3.15068550e-02,\n",
      "       -5.51966764e-03, -3.27030197e-02,  1.68029755e-01, -4.74596135e-02,\n",
      "       -5.00168800e-02, -2.65963329e-03, -4.10472304e-02, -7.00394437e-02,\n",
      "        1.82959400e-02, -3.14310975e-02, -4.74111997e-02, -2.36636437e-02,\n",
      "        5.94494827e-02, -7.20144138e-02,  4.94518736e-03, -5.53269982e-02,\n",
      "        8.74548033e-02,  2.78726723e-02, -3.97725739e-02,  3.45299281e-02,\n",
      "       -9.99202877e-02,  3.28975767e-02, -5.78042567e-02,  2.45471741e-03,\n",
      "       -2.78923176e-02, -4.99470755e-02, -4.05825153e-02,  1.19175054e-02,\n",
      "        2.04191227e-02,  7.76539594e-02,  6.35162219e-02,  1.75468978e-02,\n",
      "        2.34609861e-02, -7.91660417e-03,  1.70742366e-02,  8.64118803e-03,\n",
      "       -6.81534261e-02,  3.42961214e-02,  6.46485365e-04,  2.27354206e-02,\n",
      "        5.27935997e-02, -5.85731640e-02, -9.78410989e-02, -1.47186755e-03,\n",
      "        1.37398914e-01,  2.07945448e-03, -7.58151859e-02,  5.78657612e-02,\n",
      "       -6.06963895e-02, -6.59575313e-02, -3.36505920e-02, -3.18592936e-02,\n",
      "        1.22666340e-02,  9.37330425e-02,  6.79950416e-02, -8.43403339e-02,\n",
      "        4.40247804e-02, -4.26386893e-02,  1.11630941e-02,  1.05052136e-01,\n",
      "        2.95058843e-02, -1.85211264e-02, -2.96883006e-02, -3.37702781e-02,\n",
      "        1.49670511e-03,  3.73237170e-02, -2.02497467e-02,  5.84208071e-02,\n",
      "       -3.97916287e-02, -2.12197453e-02,  6.41816901e-03, -1.02902232e-02,\n",
      "        1.96260996e-02,  3.67974583e-03, -5.03108948e-02, -1.68970730e-02,\n",
      "        4.85449322e-02,  6.68230504e-02,  1.95363145e-02,  2.72274669e-33,\n",
      "       -3.59341130e-02,  1.56618766e-02,  9.67765525e-02, -2.85178248e-04,\n",
      "       -9.76851303e-03, -9.06847566e-02,  1.44863222e-02,  1.25907343e-02,\n",
      "        2.54358742e-02, -3.44348252e-02,  4.26290045e-03,  2.71213390e-02,\n",
      "       -2.04099696e-02,  7.68848732e-02,  3.57209817e-02, -1.34925336e-01,\n",
      "        5.65785430e-02,  1.83645096e-02,  2.25778706e-02, -3.58902551e-02,\n",
      "       -1.14567028e-02, -4.99382578e-02, -1.60123259e-02, -6.33536726e-02,\n",
      "        1.04639553e-01, -8.80160779e-02, -4.46229056e-03, -1.03010731e-02,\n",
      "       -1.76307261e-02, -2.02922672e-02,  6.70422800e-03,  9.17234123e-02,\n",
      "       -7.79506285e-03,  5.94943203e-03, -1.53489141e-02,  1.82795711e-02,\n",
      "       -1.89214814e-02,  3.98752913e-02, -3.96733033e-03,  3.34193110e-02,\n",
      "       -5.60772419e-02,  7.58125931e-02, -5.62550407e-03, -5.44552393e-02,\n",
      "        6.69843927e-02, -2.59744152e-02,  1.11995578e-01, -3.64214294e-02,\n",
      "        5.01257228e-03,  3.20099741e-02,  4.96368930e-02,  9.71159562e-02,\n",
      "       -1.15469404e-01,  6.41327500e-02, -3.39787453e-02, -9.29156169e-02,\n",
      "        4.97547910e-02, -8.61341506e-02, -8.36636405e-03, -1.37037179e-02,\n",
      "       -7.88280219e-02,  1.96544249e-02, -3.71504873e-02,  1.44761857e-02,\n",
      "       -4.94030900e-02,  5.34924492e-02,  9.13902000e-02,  3.10028717e-02,\n",
      "        3.02876309e-02,  2.13427525e-02, -4.39377762e-02, -4.29744832e-02,\n",
      "       -2.26508756e-03, -2.19440516e-02,  5.47461538e-03, -1.02439076e-02,\n",
      "        2.16779932e-02, -2.73236949e-02, -7.88209029e-04,  3.30891721e-02,\n",
      "       -7.40238884e-03,  9.83003806e-03,  1.35441478e-02, -3.27448659e-02,\n",
      "        5.60190417e-02, -6.01165332e-02,  3.11219655e-02,  3.44224125e-02,\n",
      "        2.65505332e-02, -6.80792611e-03, -1.10542206e-02, -1.44398939e-02,\n",
      "        2.27853227e-02, -2.79519781e-02, -1.62089653e-02, -3.68925118e-33,\n",
      "        2.92037502e-02,  4.67048846e-02, -4.96441908e-02,  6.32448569e-02,\n",
      "        2.84380242e-02, -2.23572142e-02,  3.34798396e-02, -1.84786953e-02,\n",
      "        1.87801290e-02,  2.41163047e-03, -8.16784427e-02,  1.00841694e-01,\n",
      "        4.90231328e-02,  3.64673138e-02, -4.55603711e-02, -7.04919621e-02,\n",
      "        2.53404118e-02, -3.26794721e-02, -4.29649614e-02, -7.25102425e-02,\n",
      "        4.13071178e-02,  5.04971780e-02,  6.47725724e-03, -3.32497107e-03,\n",
      "       -8.23566690e-02,  8.00771192e-02, -3.46538611e-02,  8.47043004e-03,\n",
      "        4.13895100e-02, -1.01476666e-02, -1.02896571e-01,  4.56713364e-02,\n",
      "        1.27960630e-02, -6.01776056e-02, -2.66278200e-02, -9.72523242e-02,\n",
      "        1.57986172e-02,  7.21912757e-02, -1.53258201e-02,  1.80713297e-03,\n",
      "        6.03953302e-02, -7.07764328e-02, -2.12787390e-02, -3.85163240e-02,\n",
      "       -5.74111566e-02, -4.25381493e-03,  3.28076743e-02, -1.75956320e-02,\n",
      "        4.97577116e-02, -7.37898564e-03, -8.35458748e-03,  4.31378335e-02,\n",
      "       -5.42916395e-02,  4.31621298e-02,  2.36885473e-02,  1.81715377e-02,\n",
      "        9.28221270e-02, -4.22291318e-03, -2.25145686e-02,  1.92882735e-02,\n",
      "       -3.68443616e-02,  1.00151919e-01,  1.77648030e-02,  2.28495132e-02,\n",
      "       -3.96768451e-02,  1.68093748e-03,  5.06692268e-02,  8.56492892e-02,\n",
      "       -2.64135208e-02, -3.26685943e-02, -3.69496122e-02, -2.09940709e-02,\n",
      "        1.77661013e-02, -7.41307065e-02, -2.46881414e-02, -3.99488844e-02,\n",
      "       -2.47680396e-02, -2.41940897e-02, -1.08164232e-02,  1.08160069e-02,\n",
      "       -3.05516962e-02,  1.05193712e-01, -8.02173559e-03, -3.28963064e-02,\n",
      "        1.48043916e-01, -7.09429905e-02, -5.02191335e-02, -1.52318865e-01,\n",
      "        2.27673966e-02,  1.38459563e-01, -7.92330801e-02, -4.16010842e-02,\n",
      "       -9.37167406e-02,  6.60182983e-02,  4.35203351e-02, -4.99797039e-08,\n",
      "       -1.05481092e-02,  6.00803010e-02,  2.88234707e-02,  7.07224533e-02,\n",
      "        3.15753035e-02, -5.91379702e-02,  5.48833348e-02,  1.63166463e-01,\n",
      "        3.47595140e-02,  2.78753433e-02,  7.12676570e-02, -6.94634765e-03,\n",
      "       -5.29043227e-02,  1.16190407e-02, -2.68350318e-02,  2.89543290e-02,\n",
      "        4.34469208e-02, -7.01200292e-02, -5.87939359e-02, -3.92193981e-02,\n",
      "       -1.72939207e-02, -3.00544742e-02, -8.11252892e-02, -4.50621173e-02,\n",
      "        5.24961688e-02, -4.92357351e-02,  8.05211961e-02,  6.58550560e-02,\n",
      "       -6.08056609e-04, -4.56641130e-02,  3.05870455e-02, -6.38603000e-03,\n",
      "       -3.17557864e-02,  8.22880492e-03,  1.07610309e-02,  1.04126392e-03,\n",
      "        1.90786961e-02,  3.22798230e-02, -1.44087179e-02,  3.57979126e-02,\n",
      "       -7.22818449e-02,  3.36329937e-02,  6.66354038e-03, -1.82062685e-02,\n",
      "       -2.04362646e-02, -2.63533276e-03, -1.85477152e-01,  1.24493307e-02,\n",
      "        2.97313388e-02, -3.85484770e-02, -9.75331385e-03, -1.36943506e-02,\n",
      "        9.18340124e-03,  8.48891884e-02,  1.27218828e-01,  5.54600246e-02,\n",
      "       -4.93616648e-02, -1.19120078e-02, -5.69792427e-02,  1.04200743e-01,\n",
      "        5.71806468e-02, -1.03950523e-01, -2.37677805e-02, -2.71690004e-02],\n",
      "      dtype=float32)]\n"
     ]
    }
   ],
   "source": [
    "import chromadb\n",
    "from chromadb.utils.embedding_functions import SentenceTransformerEmbeddingFunction\n",
    "\n",
    "embedding_function = SentenceTransformerEmbeddingFunction()\n",
    "print(embedding_function([token_split_texts[10]]))"
   ]
  },
  {
   "cell_type": "code",
   "execution_count": 12,
   "id": "8ba6c8c5-9ce4-44d0-9223-6fdd77871f87",
   "metadata": {
    "height": 147
   },
   "outputs": [
    {
     "data": {
      "text/plain": [
       "349"
      ]
     },
     "execution_count": 12,
     "metadata": {},
     "output_type": "execute_result"
    }
   ],
   "source": [
    "chroma_client = chromadb.Client()\n",
    "chroma_collection = chroma_client.create_collection(\"microsoft_annual_report_2022\", embedding_function=embedding_function)\n",
    "\n",
    "ids = [str(i) for i in range(len(token_split_texts))]\n",
    "\n",
    "chroma_collection.add(ids=ids, documents=token_split_texts)\n",
    "chroma_collection.count()"
   ]
  },
  {
   "cell_type": "code",
   "execution_count": 13,
   "id": "bfdb54db-a442-423c-b006-c33a257cd7d7",
   "metadata": {
    "height": 149
   },
   "outputs": [
    {
     "name": "stdout",
     "output_type": "stream",
     "text": [
      "74 note 13 — unearned revenue unearned revenue by segment was as\n",
      "follows : ( in millions ) june 30, 2022 2021 productivity and business\n",
      "processes $ 24, 558 $ 22, 120 intelligent cloud 19, 371 17, 710 more\n",
      "personal computing 4, 479 4, 311 total $ 48, 408 $ 44, 141 changes in\n",
      "unearned revenue were as follows : ( in millions ) year ended june 30,\n",
      "2022 balance, beginning of period $ 44, 141 deferral of revenue 110,\n",
      "455 recognition of unearned revenue ( 106, 188 ) balance, end of period\n",
      "$ 48, 408 revenue allocated to remaining performance obligations, which\n",
      "includes unearned revenue and amounts that will be invoiced and\n",
      "recognized as revenue in future periods, was $ 193 billion as of june\n",
      "30, 2022, of which $ 189 billion is related to the commercial portion\n",
      "of revenue. we expect to recognize approximately 45 % of this revenue\n",
      "over the next 12 months and the remainder thereafter. note 14 — leases\n",
      "\n",
      "\n",
      "that are not sold separately. • we tested the mathematical accuracy of\n",
      "management ’ s calculations of revenue and the associated timing of\n",
      "revenue recognized in the financial statements.\n",
      "\n",
      "\n",
      "82 in addition, certain costs incurred at a corporate level that are\n",
      "identifiable and that benefit our segments are allocated to them. these\n",
      "allocated costs include legal, including settlements and fines,\n",
      "information technology, human resources, finance, excise taxes, field\n",
      "selling, shared facilities services, and customer service and support.\n",
      "each allocation is measured differently based on the specific facts and\n",
      "circumstances of the costs being allocated. segment revenue and\n",
      "operating income were as follows during the periods presented : ( in\n",
      "millions ) year ended june 30, 2022 2021 2020 revenue productivity and\n",
      "business processes $ 63, 364 $ 53, 915 $ 46, 398 intelligent cloud 75,\n",
      "251 60, 080 48, 366 more personal computing 59, 655 54, 093 48, 251\n",
      "total $ 198, 270 $ 168, 088 $ 143, 015 operating income productivity\n",
      "and business processes $ 29, 687 $ 24, 351 $ 18, 724\n",
      "\n",
      "\n",
      "47 financial statements and supplementary data income statements ( in\n",
      "millions, except per share amounts ) year ended june 30, 2022 2021 2020\n",
      "revenue : product $ 72, 732 $ 71, 074 $ 68, 041 service and other 125,\n",
      "538 97, 014 74, 974 total revenue 198, 270 168, 088 143, 015 cost of\n",
      "revenue : product 19, 064 18, 219 16, 017 service and other 43, 586 34,\n",
      "013 30, 061 total cost of revenue 62, 650 52, 232 46, 078 gross margin\n",
      "135, 620 115, 856 96, 937 research and development 24, 512 20, 716 19,\n",
      "269 sales and marketing 21, 825 20, 117 19, 598 general and\n",
      "administrative 5, 900 5, 107 5, 111 operating income 83, 383 69, 916\n",
      "52, 959 other income, net 333 1, 186 77 income before income taxes 83,\n",
      "716 71, 102 53, 036 provision for income taxes 10, 978 9, 831 8, 755\n",
      "net income $ 72, 738 $ 61, 271 $ 44, 281\n",
      "\n",
      "\n",
      "intelligent cloud 32, 721 26, 126 18, 324 more personal computing 20,\n",
      "975 19, 439 15, 911 total $ 83, 383 $ 69, 916 $ 52, 959 no sales to an\n",
      "individual customer or country other than the united states accounted\n",
      "for more than 10 % of revenue for fiscal years 2022, 2021, or 2020.\n",
      "revenue, classified by the major geographic areas in which our\n",
      "customers were located, was as follows : ( in millions ) year ended\n",
      "june 30, 2022 2021 2020 united states ( a ) $ 100, 218 $ 83, 953 $ 73,\n",
      "160 other countries 98, 052 84, 135 69, 855 total $ 198, 270 $ 168, 088\n",
      "$ 143, 015 ( a ) includes billings to oems and certain multinational\n",
      "organizations because of the nature of these businesses and the\n",
      "impracticability of determining the geographic source of the revenue.\n",
      "revenue, classified by significant product and service offerings, was\n",
      "as follows : ( in millions ) year ended june 30, 2022 2021 2020\n",
      "\n",
      "\n"
     ]
    }
   ],
   "source": [
    "query = \"What was the total revenue?\"\n",
    "\n",
    "results = chroma_collection.query(query_texts=[query], n_results=5)\n",
    "retrieved_documents = results['documents'][0]\n",
    "\n",
    "for document in retrieved_documents:\n",
    "    print(word_wrap(document))\n",
    "    print('\\n')"
   ]
  },
  {
   "cell_type": "code",
   "execution_count": 15,
   "id": "377a84aa-1d93-4e97-9b2d-d59c46355338",
   "metadata": {
    "height": 166
   },
   "outputs": [],
   "source": [
    "import os\n",
    "import openai\n",
    "from openai import OpenAI\n",
    "\n",
    "from dotenv import load_dotenv, find_dotenv\n",
    "_ = load_dotenv(find_dotenv()) # read local .env file\n",
    "openai.api_key = os.environ['OPENAI_API_KEY']\n",
    "\n",
    "openai_client = OpenAI()"
   ]
  },
  {
   "cell_type": "code",
   "execution_count": null,
   "id": "ba0ed8ca-6640-4c09-9cb3-9de5e7cf46dc",
   "metadata": {
    "height": 334
   },
   "outputs": [],
   "source": [
    "def rag(query, retrieved_documents, model=\"gpt-3.5-turbo\"):\n",
    "    information = \"\\n\\n\".join(retrieved_documents)\n",
    "\n",
    "    messages = [\n",
    "        {\n",
    "            \"role\": \"system\",\n",
    "            \"content\": \"You are a helpful expert financial research assistant. Your users are asking questions about information contained in an annual report.\"\n",
    "            \"You will be shown the user's question, and the relevant information from the annual report. Answer the user's question using only this information.\"\n",
    "        },\n",
    "        {\"role\": \"user\", \"content\": f\"Question: {query}. \\n Information: {information}\"}\n",
    "    ]\n",
    "\n",
    "    response = openai_client.chat.completions.create(\n",
    "        model=model,\n",
    "        messages=messages,\n",
    "    )\n",
    "    content = response.choices[0].message.content\n",
    "    return content"
   ]
  },
  {
   "cell_type": "code",
   "execution_count": 17,
   "id": "28bac3a2-0d29-48dc-9b48-2d9313239a25",
   "metadata": {
    "height": 64
   },
   "outputs": [
    {
     "name": "stdout",
     "output_type": "stream",
     "text": [
      "The total revenue for the year ended June 30, 2022, was $198,270\n",
      "million.\n"
     ]
    }
   ],
   "source": [
    "output = rag(query=query, retrieved_documents=retrieved_documents)\n",
    "\n",
    "print(word_wrap(output))"
   ]
  }
 ],
 "metadata": {
  "kernelspec": {
   "display_name": ".venv",
   "language": "python",
   "name": "python3"
  },
  "language_info": {
   "codemirror_mode": {
    "name": "ipython",
    "version": 3
   },
   "file_extension": ".py",
   "mimetype": "text/x-python",
   "name": "python",
   "nbconvert_exporter": "python",
   "pygments_lexer": "ipython3",
   "version": "3.13.3"
  }
 },
 "nbformat": 4,
 "nbformat_minor": 5
}
