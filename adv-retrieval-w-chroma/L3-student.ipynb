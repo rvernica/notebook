{
 "cells": [
  {
   "cell_type": "markdown",
   "id": "293bcfbc-0883-4d68-be80-32329f3ca049",
   "metadata": {},
   "source": [
    "# Lab 3 - Query Expansion"
   ]
  },
  {
   "cell_type": "code",
   "execution_count": 1,
   "id": "5a5536f0-651c-40e7-aa15-27ee0cda80b7",
   "metadata": {
    "height": 47
   },
   "outputs": [],
   "source": [
    "from helper_utils import load_chroma, word_wrap, project_embeddings\n",
    "from chromadb.utils.embedding_functions import SentenceTransformerEmbeddingFunction"
   ]
  },
  {
   "cell_type": "code",
   "execution_count": 2,
   "id": "3748b16d-d4a7-49c3-a48a-57dcfc42acd6",
   "metadata": {
    "height": 96
   },
   "outputs": [
    {
     "data": {
      "application/vnd.jupyter.widget-view+json": {
       "model_id": "e7817bbd4ff34bf797bfd53277bfb12b",
       "version_major": 2,
       "version_minor": 0
      },
      "text/plain": [
       ".gitattributes: 0.00B [00:00, ?B/s]"
      ]
     },
     "metadata": {},
     "output_type": "display_data"
    },
    {
     "data": {
      "application/vnd.jupyter.widget-view+json": {
       "model_id": "ddfd8da9e41f4bfead195e399f9905c3",
       "version_major": 2,
       "version_minor": 0
      },
      "text/plain": [
       "config.json:   0%|          | 0.00/190 [00:00<?, ?B/s]"
      ]
     },
     "metadata": {},
     "output_type": "display_data"
    },
    {
     "data": {
      "application/vnd.jupyter.widget-view+json": {
       "model_id": "1ba89f61738543ba92ee2ce45e2a7a28",
       "version_major": 2,
       "version_minor": 0
      },
      "text/plain": [
       "README.md: 0.00B [00:00, ?B/s]"
      ]
     },
     "metadata": {},
     "output_type": "display_data"
    },
    {
     "data": {
      "application/vnd.jupyter.widget-view+json": {
       "model_id": "47b945a97af845f892a66421fde99c98",
       "version_major": 2,
       "version_minor": 0
      },
      "text/plain": [
       "config.json:   0%|          | 0.00/612 [00:00<?, ?B/s]"
      ]
     },
     "metadata": {},
     "output_type": "display_data"
    },
    {
     "data": {
      "application/vnd.jupyter.widget-view+json": {
       "model_id": "8828476ac98f4a8aa192ecab89fbbbc9",
       "version_major": 2,
       "version_minor": 0
      },
      "text/plain": [
       "config_sentence_transformers.json:   0%|          | 0.00/116 [00:00<?, ?B/s]"
      ]
     },
     "metadata": {},
     "output_type": "display_data"
    },
    {
     "data": {
      "application/vnd.jupyter.widget-view+json": {
       "model_id": "b9ce2d242d09473282aa6b1a5c3d31d2",
       "version_major": 2,
       "version_minor": 0
      },
      "text/plain": [
       "data_config.json: 0.00B [00:00, ?B/s]"
      ]
     },
     "metadata": {},
     "output_type": "display_data"
    },
    {
     "data": {
      "application/vnd.jupyter.widget-view+json": {
       "model_id": "c5a9a7e520bb4122a5e6c55611b6e1a4",
       "version_major": 2,
       "version_minor": 0
      },
      "text/plain": [
       "model.safetensors:   0%|          | 0.00/90.9M [00:00<?, ?B/s]"
      ]
     },
     "metadata": {},
     "output_type": "display_data"
    },
    {
     "data": {
      "application/vnd.jupyter.widget-view+json": {
       "model_id": "fbb137166e1747ab8b2ac005f879c7ef",
       "version_major": 2,
       "version_minor": 0
      },
      "text/plain": [
       "model.onnx:   0%|          | 0.00/90.4M [00:00<?, ?B/s]"
      ]
     },
     "metadata": {},
     "output_type": "display_data"
    },
    {
     "data": {
      "application/vnd.jupyter.widget-view+json": {
       "model_id": "87d2f96e9a3e441298df7464eb2bb86c",
       "version_major": 2,
       "version_minor": 0
      },
      "text/plain": [
       "model_O1.onnx:   0%|          | 0.00/90.4M [00:00<?, ?B/s]"
      ]
     },
     "metadata": {},
     "output_type": "display_data"
    },
    {
     "data": {
      "application/vnd.jupyter.widget-view+json": {
       "model_id": "55818520b4c841b7bb1d630d343ff972",
       "version_major": 2,
       "version_minor": 0
      },
      "text/plain": [
       "model_O2.onnx:   0%|          | 0.00/90.3M [00:00<?, ?B/s]"
      ]
     },
     "metadata": {},
     "output_type": "display_data"
    },
    {
     "data": {
      "application/vnd.jupyter.widget-view+json": {
       "model_id": "b951df02a1064b4dae71209092cd450f",
       "version_major": 2,
       "version_minor": 0
      },
      "text/plain": [
       "model_O3.onnx:   0%|          | 0.00/90.3M [00:00<?, ?B/s]"
      ]
     },
     "metadata": {},
     "output_type": "display_data"
    },
    {
     "data": {
      "application/vnd.jupyter.widget-view+json": {
       "model_id": "e4b43e20639f4847b4c337b7bf2623b6",
       "version_major": 2,
       "version_minor": 0
      },
      "text/plain": [
       "model_O4.onnx:   0%|          | 0.00/45.2M [00:00<?, ?B/s]"
      ]
     },
     "metadata": {},
     "output_type": "display_data"
    },
    {
     "data": {
      "application/vnd.jupyter.widget-view+json": {
       "model_id": "6448286a95c349dfa45ce6511ee588e8",
       "version_major": 2,
       "version_minor": 0
      },
      "text/plain": [
       "model_qint8_arm64.onnx:   0%|          | 0.00/23.0M [00:00<?, ?B/s]"
      ]
     },
     "metadata": {},
     "output_type": "display_data"
    },
    {
     "data": {
      "application/vnd.jupyter.widget-view+json": {
       "model_id": "400853ab27d545fab53d65acde66f924",
       "version_major": 2,
       "version_minor": 0
      },
      "text/plain": [
       "model_qint8_avx512.onnx:   0%|          | 0.00/23.0M [00:00<?, ?B/s]"
      ]
     },
     "metadata": {},
     "output_type": "display_data"
    },
    {
     "data": {
      "application/vnd.jupyter.widget-view+json": {
       "model_id": "0c5de5e9d7b0487a97b5a6eb964ee460",
       "version_major": 2,
       "version_minor": 0
      },
      "text/plain": [
       "model_qint8_avx512_vnni.onnx:   0%|          | 0.00/23.0M [00:00<?, ?B/s]"
      ]
     },
     "metadata": {},
     "output_type": "display_data"
    },
    {
     "data": {
      "application/vnd.jupyter.widget-view+json": {
       "model_id": "7ce2cd0744524d3b91fea1649f2adf95",
       "version_major": 2,
       "version_minor": 0
      },
      "text/plain": [
       "model_quint8_avx2.onnx:   0%|          | 0.00/23.0M [00:00<?, ?B/s]"
      ]
     },
     "metadata": {},
     "output_type": "display_data"
    },
    {
     "data": {
      "application/vnd.jupyter.widget-view+json": {
       "model_id": "74c5cf48d5134f8b8442ac28758fe2f9",
       "version_major": 2,
       "version_minor": 0
      },
      "text/plain": [
       "openvino_model.bin:   0%|          | 0.00/90.3M [00:00<?, ?B/s]"
      ]
     },
     "metadata": {},
     "output_type": "display_data"
    },
    {
     "data": {
      "application/vnd.jupyter.widget-view+json": {
       "model_id": "17015d5449d54576b214d35f0b1de6e1",
       "version_major": 2,
       "version_minor": 0
      },
      "text/plain": [
       "openvino_model.xml: 0.00B [00:00, ?B/s]"
      ]
     },
     "metadata": {},
     "output_type": "display_data"
    },
    {
     "data": {
      "application/vnd.jupyter.widget-view+json": {
       "model_id": "527e2c7d08fa4299b9bf86243dda69ec",
       "version_major": 2,
       "version_minor": 0
      },
      "text/plain": [
       "openvino_model_qint8_quantized.bin:   0%|          | 0.00/22.9M [00:00<?, ?B/s]"
      ]
     },
     "metadata": {},
     "output_type": "display_data"
    },
    {
     "data": {
      "application/vnd.jupyter.widget-view+json": {
       "model_id": "4702fcba061745d395f44167c112166a",
       "version_major": 2,
       "version_minor": 0
      },
      "text/plain": [
       "openvino_model_qint8_quantized.xml: 0.00B [00:00, ?B/s]"
      ]
     },
     "metadata": {},
     "output_type": "display_data"
    },
    {
     "data": {
      "application/vnd.jupyter.widget-view+json": {
       "model_id": "7f5080ba375c44e084d256ebedef6c75",
       "version_major": 2,
       "version_minor": 0
      },
      "text/plain": [
       "pytorch_model.bin:   0%|          | 0.00/90.9M [00:00<?, ?B/s]"
      ]
     },
     "metadata": {},
     "output_type": "display_data"
    },
    {
     "data": {
      "application/vnd.jupyter.widget-view+json": {
       "model_id": "cd79644eeb8a4a7db5c82eb72d041fc2",
       "version_major": 2,
       "version_minor": 0
      },
      "text/plain": [
       "sentence_bert_config.json:   0%|          | 0.00/53.0 [00:00<?, ?B/s]"
      ]
     },
     "metadata": {},
     "output_type": "display_data"
    },
    {
     "data": {
      "application/vnd.jupyter.widget-view+json": {
       "model_id": "4ca7cf325e4d468fa8c6ea9bb218d27e",
       "version_major": 2,
       "version_minor": 0
      },
      "text/plain": [
       "special_tokens_map.json:   0%|          | 0.00/112 [00:00<?, ?B/s]"
      ]
     },
     "metadata": {},
     "output_type": "display_data"
    },
    {
     "data": {
      "application/vnd.jupyter.widget-view+json": {
       "model_id": "5b150097122149d6bdc9f96d3dcc1868",
       "version_major": 2,
       "version_minor": 0
      },
      "text/plain": [
       "tokenizer.json: 0.00B [00:00, ?B/s]"
      ]
     },
     "metadata": {},
     "output_type": "display_data"
    },
    {
     "data": {
      "application/vnd.jupyter.widget-view+json": {
       "model_id": "ed0c03d8ee44441083e484158d825572",
       "version_major": 2,
       "version_minor": 0
      },
      "text/plain": [
       "tokenizer_config.json:   0%|          | 0.00/350 [00:00<?, ?B/s]"
      ]
     },
     "metadata": {},
     "output_type": "display_data"
    },
    {
     "data": {
      "application/vnd.jupyter.widget-view+json": {
       "model_id": "7f40c8d95fe146679171545f5fd58177",
       "version_major": 2,
       "version_minor": 0
      },
      "text/plain": [
       "train_script.py: 0.00B [00:00, ?B/s]"
      ]
     },
     "metadata": {},
     "output_type": "display_data"
    },
    {
     "data": {
      "application/vnd.jupyter.widget-view+json": {
       "model_id": "fc2e8ded95da44f9bbd6115c1a399a8a",
       "version_major": 2,
       "version_minor": 0
      },
      "text/plain": [
       "vocab.txt: 0.00B [00:00, ?B/s]"
      ]
     },
     "metadata": {},
     "output_type": "display_data"
    },
    {
     "data": {
      "application/vnd.jupyter.widget-view+json": {
       "model_id": "7ea3b52ee5b24742b2142ddaf1fc762b",
       "version_major": 2,
       "version_minor": 0
      },
      "text/plain": [
       "modules.json:   0%|          | 0.00/349 [00:00<?, ?B/s]"
      ]
     },
     "metadata": {},
     "output_type": "display_data"
    },
    {
     "data": {
      "application/vnd.jupyter.widget-view+json": {
       "model_id": "0255c38b2edd4acd9c7170742c24bd1b",
       "version_major": 2,
       "version_minor": 0
      },
      "text/plain": [
       ".gitattributes: 0.00B [00:00, ?B/s]"
      ]
     },
     "metadata": {},
     "output_type": "display_data"
    },
    {
     "data": {
      "application/vnd.jupyter.widget-view+json": {
       "model_id": "0415c89af74043fa8140e19d93c9563e",
       "version_major": 2,
       "version_minor": 0
      },
      "text/plain": [
       "config.json:   0%|          | 0.00/190 [00:00<?, ?B/s]"
      ]
     },
     "metadata": {},
     "output_type": "display_data"
    },
    {
     "data": {
      "application/vnd.jupyter.widget-view+json": {
       "model_id": "dd0d81c5b55a42e1af85cd351554906e",
       "version_major": 2,
       "version_minor": 0
      },
      "text/plain": [
       "README.md: 0.00B [00:00, ?B/s]"
      ]
     },
     "metadata": {},
     "output_type": "display_data"
    },
    {
     "data": {
      "application/vnd.jupyter.widget-view+json": {
       "model_id": "6168b5a8373c4937a8c88050c5fd0837",
       "version_major": 2,
       "version_minor": 0
      },
      "text/plain": [
       "config.json:   0%|          | 0.00/571 [00:00<?, ?B/s]"
      ]
     },
     "metadata": {},
     "output_type": "display_data"
    },
    {
     "data": {
      "application/vnd.jupyter.widget-view+json": {
       "model_id": "689e2ac87ec2445bba23418bf90c5562",
       "version_major": 2,
       "version_minor": 0
      },
      "text/plain": [
       "config_sentence_transformers.json:   0%|          | 0.00/116 [00:00<?, ?B/s]"
      ]
     },
     "metadata": {},
     "output_type": "display_data"
    },
    {
     "data": {
      "application/vnd.jupyter.widget-view+json": {
       "model_id": "a0a4ac4024e8408c9bbae531b399f737",
       "version_major": 2,
       "version_minor": 0
      },
      "text/plain": [
       "data_config.json: 0.00B [00:00, ?B/s]"
      ]
     },
     "metadata": {},
     "output_type": "display_data"
    },
    {
     "data": {
      "application/vnd.jupyter.widget-view+json": {
       "model_id": "6fc74ccb5c3e42be938b938a28dc763d",
       "version_major": 2,
       "version_minor": 0
      },
      "text/plain": [
       "model.safetensors:   0%|          | 0.00/438M [00:00<?, ?B/s]"
      ]
     },
     "metadata": {},
     "output_type": "display_data"
    },
    {
     "data": {
      "application/vnd.jupyter.widget-view+json": {
       "model_id": "2146f8a0e2a148b5b2dae43440310c0e",
       "version_major": 2,
       "version_minor": 0
      },
      "text/plain": [
       "model.onnx:   0%|          | 0.00/436M [00:00<?, ?B/s]"
      ]
     },
     "metadata": {},
     "output_type": "display_data"
    },
    {
     "data": {
      "application/vnd.jupyter.widget-view+json": {
       "model_id": "aa9b3ed2dd2a4247b91efff51c0d6240",
       "version_major": 2,
       "version_minor": 0
      },
      "text/plain": [
       "model_O1.onnx:   0%|          | 0.00/436M [00:00<?, ?B/s]"
      ]
     },
     "metadata": {},
     "output_type": "display_data"
    },
    {
     "data": {
      "application/vnd.jupyter.widget-view+json": {
       "model_id": "27439ebd0b0b47fb9aae858e60cefb4d",
       "version_major": 2,
       "version_minor": 0
      },
      "text/plain": [
       "model_O2.onnx:   0%|          | 0.00/436M [00:00<?, ?B/s]"
      ]
     },
     "metadata": {},
     "output_type": "display_data"
    },
    {
     "data": {
      "application/vnd.jupyter.widget-view+json": {
       "model_id": "6f72e96875c74614b4b0becb4cbc7b14",
       "version_major": 2,
       "version_minor": 0
      },
      "text/plain": [
       "model_O3.onnx:   0%|          | 0.00/436M [00:00<?, ?B/s]"
      ]
     },
     "metadata": {},
     "output_type": "display_data"
    },
    {
     "data": {
      "application/vnd.jupyter.widget-view+json": {
       "model_id": "49575d36784147f181f8f538fe2459b4",
       "version_major": 2,
       "version_minor": 0
      },
      "text/plain": [
       "model_O4.onnx:   0%|          | 0.00/218M [00:00<?, ?B/s]"
      ]
     },
     "metadata": {},
     "output_type": "display_data"
    },
    {
     "data": {
      "application/vnd.jupyter.widget-view+json": {
       "model_id": "df9f22f6e96e4024b2afedc0be7a01bb",
       "version_major": 2,
       "version_minor": 0
      },
      "text/plain": [
       "model_qint8_arm64.onnx:   0%|          | 0.00/110M [00:00<?, ?B/s]"
      ]
     },
     "metadata": {},
     "output_type": "display_data"
    },
    {
     "data": {
      "application/vnd.jupyter.widget-view+json": {
       "model_id": "f3164759de6f4f7c87b56aef0e51c234",
       "version_major": 2,
       "version_minor": 0
      },
      "text/plain": [
       "model_qint8_avx512.onnx:   0%|          | 0.00/110M [00:00<?, ?B/s]"
      ]
     },
     "metadata": {},
     "output_type": "display_data"
    },
    {
     "data": {
      "application/vnd.jupyter.widget-view+json": {
       "model_id": "9be71f48d51a45538cf2a15f68e29b9f",
       "version_major": 2,
       "version_minor": 0
      },
      "text/plain": [
       "model_qint8_avx512_vnni.onnx:   0%|          | 0.00/110M [00:00<?, ?B/s]"
      ]
     },
     "metadata": {},
     "output_type": "display_data"
    },
    {
     "data": {
      "application/vnd.jupyter.widget-view+json": {
       "model_id": "64499c6886be4d45a5f79c2edf2b6248",
       "version_major": 2,
       "version_minor": 0
      },
      "text/plain": [
       "model_quint8_avx2.onnx:   0%|          | 0.00/110M [00:00<?, ?B/s]"
      ]
     },
     "metadata": {},
     "output_type": "display_data"
    },
    {
     "data": {
      "application/vnd.jupyter.widget-view+json": {
       "model_id": "422ed8327e494f72845b3c79e3c4ad6b",
       "version_major": 2,
       "version_minor": 0
      },
      "text/plain": [
       "openvino_model.bin:   0%|          | 0.00/436M [00:00<?, ?B/s]"
      ]
     },
     "metadata": {},
     "output_type": "display_data"
    },
    {
     "data": {
      "application/vnd.jupyter.widget-view+json": {
       "model_id": "e37f04b664da49ca85e59bfccfe389a2",
       "version_major": 2,
       "version_minor": 0
      },
      "text/plain": [
       "openvino_model.xml: 0.00B [00:00, ?B/s]"
      ]
     },
     "metadata": {},
     "output_type": "display_data"
    },
    {
     "data": {
      "application/vnd.jupyter.widget-view+json": {
       "model_id": "e40d818afdbe411a9fe8060cc3d24dc6",
       "version_major": 2,
       "version_minor": 0
      },
      "text/plain": [
       "openvino_model_qint8_quantized.bin:   0%|          | 0.00/110M [00:00<?, ?B/s]"
      ]
     },
     "metadata": {},
     "output_type": "display_data"
    },
    {
     "data": {
      "application/vnd.jupyter.widget-view+json": {
       "model_id": "b0b303aada204fba9db2a2238ac254f0",
       "version_major": 2,
       "version_minor": 0
      },
      "text/plain": [
       "openvino_model_qint8_quantized.xml: 0.00B [00:00, ?B/s]"
      ]
     },
     "metadata": {},
     "output_type": "display_data"
    },
    {
     "data": {
      "application/vnd.jupyter.widget-view+json": {
       "model_id": "073be2f9ac174d01a3157ab2e0b57609",
       "version_major": 2,
       "version_minor": 0
      },
      "text/plain": [
       "pytorch_model.bin:   0%|          | 0.00/438M [00:00<?, ?B/s]"
      ]
     },
     "metadata": {},
     "output_type": "display_data"
    },
    {
     "data": {
      "application/vnd.jupyter.widget-view+json": {
       "model_id": "1f0877f359ad40529a317f28e7eea149",
       "version_major": 2,
       "version_minor": 0
      },
      "text/plain": [
       "sentence_bert_config.json:   0%|          | 0.00/53.0 [00:00<?, ?B/s]"
      ]
     },
     "metadata": {},
     "output_type": "display_data"
    },
    {
     "data": {
      "application/vnd.jupyter.widget-view+json": {
       "model_id": "5c16a8a9e10d40be9214940dd4ead69f",
       "version_major": 2,
       "version_minor": 0
      },
      "text/plain": [
       "special_tokens_map.json:   0%|          | 0.00/239 [00:00<?, ?B/s]"
      ]
     },
     "metadata": {},
     "output_type": "display_data"
    },
    {
     "data": {
      "application/vnd.jupyter.widget-view+json": {
       "model_id": "e070aeffac9d40c8b7f598a8138f7e73",
       "version_major": 2,
       "version_minor": 0
      },
      "text/plain": [
       "tokenizer.json: 0.00B [00:00, ?B/s]"
      ]
     },
     "metadata": {},
     "output_type": "display_data"
    },
    {
     "data": {
      "application/vnd.jupyter.widget-view+json": {
       "model_id": "e2d0701761814afaaa83d0d9a64bff65",
       "version_major": 2,
       "version_minor": 0
      },
      "text/plain": [
       "tokenizer_config.json:   0%|          | 0.00/363 [00:00<?, ?B/s]"
      ]
     },
     "metadata": {},
     "output_type": "display_data"
    },
    {
     "data": {
      "application/vnd.jupyter.widget-view+json": {
       "model_id": "13d4ea6aa20342628e8c7ac7eceff47c",
       "version_major": 2,
       "version_minor": 0
      },
      "text/plain": [
       "train_script.py: 0.00B [00:00, ?B/s]"
      ]
     },
     "metadata": {},
     "output_type": "display_data"
    },
    {
     "data": {
      "application/vnd.jupyter.widget-view+json": {
       "model_id": "408172e0c6514887b4f78f0eb1a20b98",
       "version_major": 2,
       "version_minor": 0
      },
      "text/plain": [
       "vocab.txt: 0.00B [00:00, ?B/s]"
      ]
     },
     "metadata": {},
     "output_type": "display_data"
    },
    {
     "data": {
      "application/vnd.jupyter.widget-view+json": {
       "model_id": "7ea3f735e3164383b7aaff8434314881",
       "version_major": 2,
       "version_minor": 0
      },
      "text/plain": [
       "modules.json:   0%|          | 0.00/349 [00:00<?, ?B/s]"
      ]
     },
     "metadata": {},
     "output_type": "display_data"
    },
    {
     "data": {
      "text/plain": [
       "349"
      ]
     },
     "execution_count": 2,
     "metadata": {},
     "output_type": "execute_result"
    }
   ],
   "source": [
    "embedding_function = SentenceTransformerEmbeddingFunction()\n",
    "\n",
    "chroma_collection = load_chroma(filename='microsoft_annual_report_2022.pdf', collection_name='microsoft_annual_report_2022', embedding_function=embedding_function)\n",
    "chroma_collection.count()"
   ]
  },
  {
   "cell_type": "code",
   "execution_count": 3,
   "id": "a338ec83-6301-41a5-9ab1-e5d583306a3f",
   "metadata": {
    "height": 166
   },
   "outputs": [],
   "source": [
    "import os\n",
    "import openai\n",
    "from openai import OpenAI\n",
    "\n",
    "from dotenv import load_dotenv, find_dotenv\n",
    "_ = load_dotenv(find_dotenv()) # read local .env file\n",
    "openai.api_key = os.environ['OPENAI_API_KEY']\n",
    "\n",
    "openai_client = OpenAI()"
   ]
  },
  {
   "cell_type": "code",
   "execution_count": 4,
   "id": "888a86f8-2fe2-4682-bdaf-c15129ed1a32",
   "metadata": {
    "height": 98
   },
   "outputs": [
    {
     "name": "stderr",
     "output_type": "stream",
     "text": [
      "/usr/local/lib/python3.9/site-packages/umap/umap_.py:1943: UserWarning: n_jobs value -1 overridden to 1 by setting random_state. Use no seed for parallelism.\n",
      "  warn(f\"n_jobs value {self.n_jobs} overridden to 1 by setting random_state. Use no seed for parallelism.\")\n",
      "100%|██████████| 349/349 [03:00<00:00,  1.93it/s]\n"
     ]
    }
   ],
   "source": [
    "import umap\n",
    "\n",
    "embeddings = chroma_collection.get(include=['embeddings'])['embeddings']\n",
    "umap_transform = umap.UMAP(random_state=0, transform_seed=0).fit(embeddings)\n",
    "projected_dataset_embeddings = project_embeddings(embeddings, umap_transform)"
   ]
  },
  {
   "cell_type": "markdown",
   "id": "00cafb52-7634-4e42-a334-c4d37259c951",
   "metadata": {},
   "source": [
    "## Expansion with generated answers\n",
    "\n",
    "https://arxiv.org/abs/2305.03653"
   ]
  },
  {
   "cell_type": "code",
   "execution_count": 5,
   "id": "c2a13d14-4484-46f0-8e67-277337f9d138",
   "metadata": {
    "height": 283
   },
   "outputs": [],
   "source": [
    "def augment_query_generated(query, model=\"gpt-3.5-turbo\"):\n",
    "    messages = [\n",
    "        {\n",
    "            \"role\": \"system\",\n",
    "            \"content\": \"You are a helpful expert financial research assistant. Provide an example answer to the given question, that might be found in a document like an annual report. \"\n",
    "        },\n",
    "        {\"role\": \"user\", \"content\": query}\n",
    "    ] \n",
    "\n",
    "    response = openai_client.chat.completions.create(\n",
    "        model=model,\n",
    "        messages=messages,\n",
    "    )\n",
    "    content = response.choices[0].message.content\n",
    "    return content"
   ]
  },
  {
   "cell_type": "code",
   "execution_count": 6,
   "id": "8ba6c8c5-9ce4-44d0-9223-6fdd77871f87",
   "metadata": {
    "height": 98
   },
   "outputs": [
    {
     "name": "stderr",
     "output_type": "stream",
     "text": [
      "huggingface/tokenizers: The current process just got forked, after parallelism has already been used. Disabling parallelism to avoid deadlocks...\n",
      "To disable this warning, you can either:\n",
      "\t- Avoid using `tokenizers` before the fork if possible\n",
      "\t- Explicitly set the environment variable TOKENIZERS_PARALLELISM=(true | false)\n"
     ]
    },
    {
     "name": "stdout",
     "output_type": "stream",
     "text": [
      "Was there significant turnover in the executive team? In the past year,\n",
      "there was minimal turnover in the executive team. The only change was\n",
      "the appointment of a new Chief Financial Officer who joined the company\n",
      "in September. The rest of the executive team remained consistent,\n",
      "providing stability and continuity in leadership.\n"
     ]
    }
   ],
   "source": [
    "original_query = \"Was there significant turnover in the executive team?\"\n",
    "hypothetical_answer = augment_query_generated(original_query)\n",
    "\n",
    "joint_query = f\"{original_query} {hypothetical_answer}\"\n",
    "print(word_wrap(joint_query))"
   ]
  },
  {
   "cell_type": "code",
   "execution_count": 7,
   "id": "bfdb54db-a442-423c-b006-c33a257cd7d7",
   "metadata": {
    "height": 130
   },
   "outputs": [
    {
     "name": "stdout",
     "output_type": "stream",
     "text": [
      "88 report of independent registered public accounting firm to the\n",
      "stockholders and the board of directors of microsoft corporation\n",
      "opinion on internal control over financial reporting we have audited\n",
      "the internal control over financial reporting of microsoft corporation\n",
      "and subsidiaries ( the “ company ” ) as of june 30, 2022, based on\n",
      "criteria established in internal control — integrated framework ( 2013\n",
      ") issued by the committee of sponsoring organizations of the treadway\n",
      "commission ( coso ). in our opinion, the company maintained, in all\n",
      "material respects, effective internal control over financial reporting\n",
      "as of june 30, 2022, based on criteria establis hed in internal control\n",
      "— integrated framework ( 2013 ) issued by coso. we have also audited,\n",
      "in accordance with the standards of the public company accounting\n",
      "oversight board ( united states ) ( pcaob ), the consolidated financial\n",
      "statements as of and for the year ended june 30, 2022, of the company\n",
      "and\n",
      "\n",
      "the company engaged deloitte & touche llp, an independent registered\n",
      "public accounting firm, to audit and render an opinion on the\n",
      "consolidated financial statements and internal control over financial\n",
      "reporting in accordance with the standards of the public company\n",
      "accounting oversight board ( united states ). the board of directors,\n",
      "through its audit committee, consisting solely of independent directors\n",
      "of the company, meets periodically with management, internal auditors,\n",
      "and our independent registered public accounting firm to ensure that\n",
      "each is meeting its responsibilities and to discuss matters concerning\n",
      "internal controls and financial reporting. deloitte & touche llp and\n",
      "the internal auditors each have full and free access to the audit\n",
      "committee. satya nadella chief executive officer amy e. hood executive\n",
      "vice president and chief financial officer alice l. jolla corporate\n",
      "vice president and chief accounting officer\n",
      "\n",
      "84 report of independent registered public accounting firm to the\n",
      "stockholders and the board of directors of microsoft corporation\n",
      "opinion on the financial statements we have audited the accompanying\n",
      "consolidated balance sheets of microsoft corporation and subsidiaries (\n",
      "the “ company ” ) as of june 30, 2022 and 2021, the related\n",
      "consolidated statements of income, comprehensive income, cash flows,\n",
      "and stockholders ’ equity, for each of the three years in the period\n",
      "ended june 30, 2022, and the related notes ( collectively referred to\n",
      "as the “ financial statements ” ). in our opinion, the financial\n",
      "statements present fairly, in all mat erial respects, the financial\n",
      "position of the company as of june 30, 2022 and 2021, and the results\n",
      "of its operations and its cash flows for each of the three years in the\n",
      "period ended june 30, 2022, in conformity with accounting principles\n",
      "generally accepted in the united states of america.\n",
      "\n",
      "89 directors and executive officers of microsoft corporation directors\n",
      "satya nadella chairman and chief executive officer, microsoft\n",
      "corporation sandra e. peterson 2, 3 operating partner, clayton,\n",
      "dubilier & rice, llc john w. stanton 1, 4 founder and chairman, trilogy\n",
      "partnerships reid g. hoffman 4 general partner, greylock partners penny\n",
      "s. pritzker 4 founder and chairman, psp partners, llc john w. thompson\n",
      "3, 4 lead independent director, microsoft corporation hugh f. johnston\n",
      "1 vice chairman and executive vice president and chief financial\n",
      "officer, pepsico, inc. carlos a. rodriguez 1 chief executive officer,\n",
      "adp, inc. emma n. walmsley 2, 4 chief executive officer, gsk, plc teri\n",
      "l. list 1, 3 former executive vice president and chief financial\n",
      "officer, gap, inc. charles w. scharf 2, 3 chief executive officer and\n",
      "president, wells fargo & company padmasree warrior 2 founder, president\n",
      "and chief executive\n",
      "\n",
      "30 management ’ s discussion and analysis of financial condition and\n",
      "results of operations the following management ’ s discussion and\n",
      "analysis of financial condition and results of operations ( “ md & a ”\n",
      ") is intended to help the reader understand the results of operations\n",
      "and financial condition of microsoft corporation. md & a is provided as\n",
      "a supplement to, and should be read in conjunction with, our\n",
      "consolidated financial statements and the accompanying notes to\n",
      "financial statements in our fiscal year 2022 form 10 - k. this section\n",
      "generally discusses the results of our operations for the year ended\n",
      "june 30, 2022 compared to the year ended june 30, 2021. for a\n",
      "discussion of the year ended june 30, 2021 compared to the year ended\n",
      "june 30, 2020, please refer to in our fiscal year 2022 form 10 - k, “\n",
      "management ’ s discussion and analysis of financial condition and\n",
      "results of operations ” in our annual report on form 10 - k for the\n",
      "year ended june 30, 2021. overview\n",
      "\n"
     ]
    }
   ],
   "source": [
    "results = chroma_collection.query(query_texts=joint_query, n_results=5, include=['documents', 'embeddings'])\n",
    "retrieved_documents = results['documents'][0]\n",
    "\n",
    "for doc in retrieved_documents:\n",
    "    print(word_wrap(doc))\n",
    "    print('')"
   ]
  },
  {
   "cell_type": "code",
   "execution_count": 8,
   "id": "377a84aa-1d93-4e97-9b2d-d59c46355338",
   "metadata": {
    "height": 147
   },
   "outputs": [
    {
     "name": "stderr",
     "output_type": "stream",
     "text": [
      "100%|██████████| 1/1 [00:00<00:00,  2.16it/s]\n",
      "100%|██████████| 1/1 [00:00<00:00,  2.19it/s]\n",
      "100%|██████████| 5/5 [00:02<00:00,  1.95it/s]\n"
     ]
    }
   ],
   "source": [
    "retrieved_embeddings = results['embeddings'][0]\n",
    "original_query_embedding = embedding_function([original_query])\n",
    "augmented_query_embedding = embedding_function([joint_query])\n",
    "\n",
    "projected_original_query_embedding = project_embeddings(original_query_embedding, umap_transform)\n",
    "projected_augmented_query_embedding = project_embeddings(augmented_query_embedding, umap_transform)\n",
    "projected_retrieved_embeddings = project_embeddings(retrieved_embeddings, umap_transform)"
   ]
  },
  {
   "cell_type": "code",
   "execution_count": 9,
   "id": "ba0ed8ca-6640-4c09-9cb3-9de5e7cf46dc",
   "metadata": {
    "height": 232
   },
   "outputs": [
    {
     "name": "stderr",
     "output_type": "stream",
     "text": [
      "huggingface/tokenizers: The current process just got forked, after parallelism has already been used. Disabling parallelism to avoid deadlocks...\n",
      "To disable this warning, you can either:\n",
      "\t- Avoid using `tokenizers` before the fork if possible\n",
      "\t- Explicitly set the environment variable TOKENIZERS_PARALLELISM=(true | false)\n"
     ]
    },
    {
     "data": {
      "text/plain": [
       "(-3.3378206849098206, 7.230811512470245, 5.923376560211182, 13.01902151107788)"
      ]
     },
     "execution_count": 9,
     "metadata": {},
     "output_type": "execute_result"
    },
    {
     "data": {
      "image/png": "[encoded data removed]",
      "text/plain": [
       "<Figure size 640x480 with 1 Axes>"
      ]
     },
     "metadata": {},
     "output_type": "display_data"
    }
   ],
   "source": [
    "import matplotlib.pyplot as plt\n",
    "\n",
    "# Plot the projected query and retrieved documents in the embedding space\n",
    "plt.figure()\n",
    "plt.scatter(projected_dataset_embeddings[:, 0], projected_dataset_embeddings[:, 1], s=10, color='gray')\n",
    "plt.scatter(projected_retrieved_embeddings[:, 0], projected_retrieved_embeddings[:, 1], s=100, facecolors='none', edgecolors='g')\n",
    "plt.scatter(projected_original_query_embedding[:, 0], projected_original_query_embedding[:, 1], s=150, marker='X', color='r')\n",
    "plt.scatter(projected_augmented_query_embedding[:, 0], projected_augmented_query_embedding[:, 1], s=150, marker='X', color='orange')\n",
    "\n",
    "plt.gca().set_aspect('equal', 'datalim')\n",
    "plt.title(f'{original_query}')\n",
    "plt.axis('off')"
   ]
  },
  {
   "cell_type": "markdown",
   "id": "24007a5a-4258-4f3d-8d14-d5b01bfa5cd0",
   "metadata": {},
   "source": [
    "## Expansion with multiple queries\n"
   ]
  },
  {
   "cell_type": "code",
   "execution_count": 10,
   "id": "db9f2758-0f5a-49e5-b1fa-517b91324575",
   "metadata": {
    "height": 368
   },
   "outputs": [],
   "source": [
    "def augment_multiple_query(query, model=\"gpt-3.5-turbo\"):\n",
    "    messages = [\n",
    "        {\n",
    "            \"role\": \"system\",\n",
    "            \"content\": \"You are a helpful expert financial research assistant. Your users are asking questions about an annual report. \"\n",
    "            \"Suggest up to five additional related questions to help them find the information they need, for the provided question. \"\n",
    "            \"Suggest only short questions without compound sentences. Suggest a variety of questions that cover different aspects of the topic.\"\n",
    "            \"Make sure they are complete questions, and that they are related to the original question.\"\n",
    "            \"Output one question per line. Do not number the questions.\"\n",
    "        },\n",
    "        {\"role\": \"user\", \"content\": query}\n",
    "    ]\n",
    "\n",
    "    response = openai_client.chat.completions.create(\n",
    "        model=model,\n",
    "        messages=messages,\n",
    "    )\n",
    "    content = response.choices[0].message.content\n",
    "    content = content.split(\"\\n\")\n",
    "    return content"
   ]
  },
  {
   "cell_type": "code",
   "execution_count": 11,
   "id": "aee59493-8a99-4da8-b94f-4747efcfc79d",
   "metadata": {
    "height": 113
   },
   "outputs": [
    {
     "name": "stdout",
     "output_type": "stream",
     "text": [
      "- What were the main sources of revenue for the company?\n",
      "- How did the company's pricing strategy impact revenue growth?\n",
      "- Were there any significant changes in customer demand that influenced revenue?\n",
      "- What regions or markets experienced the highest revenue growth?\n",
      "- Did any new product launches contribute to the increase in revenue?\n"
     ]
    }
   ],
   "source": [
    "original_query = \"What were the most important factors that contributed to increases in revenue?\"\n",
    "augmented_queries = augment_multiple_query(original_query)\n",
    "\n",
    "for query in augmented_queries:\n",
    "    print(query)"
   ]
  },
  {
   "cell_type": "code",
   "execution_count": 12,
   "id": "f5eda9bc-ae76-4db6-9e0c-ae099d852d78",
   "metadata": {
    "height": 351
   },
   "outputs": [
    {
     "name": "stdout",
     "output_type": "stream",
     "text": [
      "Query: What were the most important factors that contributed to increases in revenue?\n",
      "\n",
      "Results:\n",
      "engineering, gaming, and linkedin. • sales and marketing expenses\n",
      "increased $ 1. 7 billion or 8 % driven by investments in commercial\n",
      "sales and linkedin. sales and marketing included a favorable foreign\n",
      "currency impact of 2 %. • general and administrative expenses increased\n",
      "$ 793 million or 16 % driven by investments in corporate functions.\n",
      "operating income increased $ 13. 5 billion or 19 % driven by growth\n",
      "across each of our segments. current year net income and diluted eps\n",
      "were positively impacted by the net tax benefit related to the transfer\n",
      "of intangible properties, which resulted in an increase to net income\n",
      "and diluted eps of $ 3. 3 billion and $ 0. 44, respectively. prior year\n",
      "net income and diluted eps were positively impacted by the net tax\n",
      "benefit related to the india supreme court decision on withholding\n",
      "taxes, which resulted in an increase to net income and diluted eps of $\n",
      "620 million and $ 0. 08, respectively.\n",
      "\n",
      "independent recalculation of prices where appropriate. cash flows cash\n",
      "from operations increased $ 12. 3 billion to $ 89. 0 billion for fiscal\n",
      "year 2022, mainly due to an increase in cash received from customers,\n",
      "offset in part by an increase in cash paid to suppliers and employees.\n",
      "cash used in financing increased $ 10. 4 billion to $ 58. 9 billion for\n",
      "fiscal year 2022, mainly due to a $ 5. 3 billion increase in common\n",
      "stock repurchases and a $ 5. 3 billion increase in repayments of debt.\n",
      "cash used in investing increased $ 2. 7 billion to $ 30. 3 billion for\n",
      "fiscal year 2022, mainly due to a $ 13. 1 billion increase in cash used\n",
      "for acquisitions of companies, net of cash acquired, and purchases of\n",
      "intangible and other assets, and a $ 3. 3 billion increase in additions\n",
      "to property and equipment, offset in part by a $ 15. 6 billion increase\n",
      "in cash from net investment purchases, sales, and maturities.\n",
      "\n",
      "37 general and administrative expenses include payroll, employee\n",
      "benefits, stock - based compensation expense, and other headcount -\n",
      "related expenses associated with finance, legal, facilities, certain\n",
      "human resources and other administrative personnel, certain taxes, and\n",
      "legal and other administrative fees. general and administrative\n",
      "expenses increased $ 793 million or 16 % driven by investments in\n",
      "corporate functions. other income ( expense ), net the components of\n",
      "other income ( expense ), net were as follows : ( in millions ) year\n",
      "ended june 30, 2022 2021 interest and dividends income $ 2, 094 $ 2,\n",
      "131 interest expense ( 2, 063 ) ( 2, 346 ) net recognized gains on\n",
      "investments 461 1, 232 net gains ( losses ) on derivatives ( 52 ) 17\n",
      "net gains ( losses ) on foreign currency remeasurements ( 75 ) 54\n",
      "other, net ( 32 ) 98 total $ 333 $ 1, 186\n",
      "\n",
      "• windows revenue increased $ 2. 3 billion or 10 % driven by growth in\n",
      "windows oem and windows commercial. windows oem revenue increased 11 %\n",
      "driven by continued strength in the commercial pc market, which has\n",
      "higher revenue per license. windows commercial products and cloud\n",
      "services revenue increased 11 % driven by demand for microsoft 365.\n",
      "\n",
      "services. server products revenue increased 5 % driven by hybrid\n",
      "solutions, including windows server and sql server running in multi -\n",
      "cloud environments. • enterprise services revenue increased $ 464\n",
      "million or 7 % driven by growth in enterprise support services.\n",
      "operating income increased $ 6. 6 billion or 25 %. • gross margin\n",
      "increased $ 9. 4 billion or 22 % driven by growth in azure and other\n",
      "cloud services. gross margin percentage decreased. excluding the impact\n",
      "of the change in accounting estimate, gross margin percentage was\n",
      "relatively unchanged driven by improvement in azure and other cloud\n",
      "services, offset in part by sales mix shift to azure and other cloud\n",
      "services. • operating expenses increased $ 2. 8 billion or 16 % driven\n",
      "by investments in azure and other cloud services. revenue and operating\n",
      "income included an unfavorable foreign currency impact of 2 % and 3 %,\n",
      "respectively. more personal computing revenue increased $ 5. 6 billion\n",
      "or 10 %.\n",
      "\n",
      "----------------------------------------------------------------------------------------------------\n",
      "Query: - What were the main sources of revenue for the company?\n",
      "\n",
      "Results:\n",
      "37 general and administrative expenses include payroll, employee\n",
      "benefits, stock - based compensation expense, and other headcount -\n",
      "related expenses associated with finance, legal, facilities, certain\n",
      "human resources and other administrative personnel, certain taxes, and\n",
      "legal and other administrative fees. general and administrative\n",
      "expenses increased $ 793 million or 16 % driven by investments in\n",
      "corporate functions. other income ( expense ), net the components of\n",
      "other income ( expense ), net were as follows : ( in millions ) year\n",
      "ended june 30, 2022 2021 interest and dividends income $ 2, 094 $ 2,\n",
      "131 interest expense ( 2, 063 ) ( 2, 346 ) net recognized gains on\n",
      "investments 461 1, 232 net gains ( losses ) on derivatives ( 52 ) 17\n",
      "net gains ( losses ) on foreign currency remeasurements ( 75 ) 54\n",
      "other, net ( 32 ) 98 total $ 333 $ 1, 186\n",
      "\n",
      "that are not sold separately. • we tested the mathematical accuracy of\n",
      "management ’ s calculations of revenue and the associated timing of\n",
      "revenue recognized in the financial statements.\n",
      "\n",
      "82 in addition, certain costs incurred at a corporate level that are\n",
      "identifiable and that benefit our segments are allocated to them. these\n",
      "allocated costs include legal, including settlements and fines,\n",
      "information technology, human resources, finance, excise taxes, field\n",
      "selling, shared facilities services, and customer service and support.\n",
      "each allocation is measured differently based on the specific facts and\n",
      "circumstances of the costs being allocated. segment revenue and\n",
      "operating income were as follows during the periods presented : ( in\n",
      "millions ) year ended june 30, 2022 2021 2020 revenue productivity and\n",
      "business processes $ 63, 364 $ 53, 915 $ 46, 398 intelligent cloud 75,\n",
      "251 60, 080 48, 366 more personal computing 59, 655 54, 093 48, 251\n",
      "total $ 198, 270 $ 168, 088 $ 143, 015 operating income\n",
      "\n",
      "47 financial statements and supplementary data income statements ( in\n",
      "millions, except per share amounts ) year ended june 30, 2022 2021 2020\n",
      "revenue : product $ 72, 732 $ 71, 074 $ 68, 041 service and other 125,\n",
      "538 97, 014 74, 974 total revenue 198, 270 168, 088 143, 015 cost of\n",
      "revenue : product 19, 064 18, 219 16, 017 service and other 43, 586 34,\n",
      "013 30, 061 total cost of revenue 62, 650 52, 232 46, 078 gross margin\n",
      "135, 620 115, 856 96, 937 research and development 24, 512 20, 716 19,\n",
      "269 sales and marketing 21, 825 20, 117 19, 598 general and\n",
      "administrative 5, 900 5, 107 5, 111 operating income 83, 383 69, 916\n",
      "52, 959 other income, net 333 1, 186 77 income before income taxes 83,\n",
      "716 71, 102 53, 036 provision for income taxes 10, 978 9, 831 8, 755\n",
      "\n",
      "revenue, classified by significant product and service offerings, was\n",
      "as follows : ( in millions ) year ended june 30, 2022 2021 2020 server\n",
      "products and cloud services $ 67, 321 $ 52, 589 $ 41, 379 office\n",
      "products and cloud services 44, 862 39, 872 35, 316 windows 24, 761 22,\n",
      "488 21, 510 gaming 16, 230 15, 370 11, 575 linkedin 13, 816 10, 289 8,\n",
      "077 search and news advertising 11, 591 9, 267 8, 524 enterprise\n",
      "services 7, 407 6, 943 6, 409 devices 6, 991 6, 791 6, 457 other 5, 291\n",
      "4, 479 3, 768 total $ 198, 270 $ 168, 088 $ 143, 015 we have recast\n",
      "certain previously reported amounts in the table above to conform to\n",
      "the way we internally manage and monitor our business.\n",
      "\n",
      "----------------------------------------------------------------------------------------------------\n",
      "Query: - How did the company's pricing strategy impact revenue growth?\n",
      "\n",
      "Results:\n",
      "36 • search and news advertising revenue increased $ 2. 3 billion or 25\n",
      "%. search and news advertising revenue excluding traffic acquisition\n",
      "costs increased 27 % driven by higher revenue per search and search\n",
      "volume. • gaming revenue increased $ 860 million or 6 % on a strong\n",
      "prior year comparable that benefited from xbox series x | s launches\n",
      "and stay - at - home scenarios, driven by growth in xbox hardware and\n",
      "xbox content and services. xbox hardware revenue increased 16 % due to\n",
      "continued demand for xbox series x | s. xbox content and services\n",
      "revenue increased 3 % driven by growth in xbox game pass subscriptions\n",
      "and first - party content, offset in part by a decline in third - party\n",
      "content. • surface revenue increased $ 226 million or 3 %. operating\n",
      "income increased $ 1. 5 billion or 8 %. • gross margin increased $ 3. 1\n",
      "billion or 10 % driven by growth in windows and search and news\n",
      "advertising. gross margin percentage was relatively unchanged.\n",
      "\n",
      "• windows revenue increased $ 2. 3 billion or 10 % driven by growth in\n",
      "windows oem and windows commercial. windows oem revenue increased 11 %\n",
      "driven by continued strength in the commercial pc market, which has\n",
      "higher revenue per license. windows commercial products and cloud\n",
      "services revenue increased 11 % driven by demand for microsoft 365.\n",
      "\n",
      "35 reportable segments fiscal year 2022 compared with fiscal year 2021\n",
      "productivity and business processes revenue increased $ 9. 4 billion or\n",
      "18 %. • office commercial products and cloud services revenue increased\n",
      "$ 4. 4 billion or 13 %. office 365 commercial revenue grew 18 % driven\n",
      "by seat growth of 14 %, with continued momentum in small and medium\n",
      "business and frontline worker offerings, as well as growth in revenue\n",
      "per user. office commercial products revenue declined 22 % driven by\n",
      "continued customer shift to cloud offerings. • office consumer products\n",
      "and cloud services revenue increased $ 641 million or 11 % driven by\n",
      "microsoft 365 consumer subscription revenue. microsoft 365 consumer\n",
      "subscribers grew 15 % to 59. 7 million. • linkedin revenue increased $\n",
      "3. 5 billion or 34 % driven by a strong job market in our talent\n",
      "solutions business and advertising demand in our marketing solutions\n",
      "business.\n",
      "\n",
      "34 net income tax benefit related to an india supreme court decision on\n",
      "withholding taxes in the third quarter of fiscal year 2021. refer to\n",
      "the non - gaap financial measures section below for a reconciliation of\n",
      "our financial results reported in accordance with gaap to non - gaap\n",
      "financial results. see note 12 – income taxes of the notes to financial\n",
      "statements in our fiscal year 2022 form 10 - k for further discussion.\n",
      "fiscal year 2022 compared with fiscal year 2021 revenue increased $ 30.\n",
      "2 billion or 18 % driven by growth across each of our segments.\n",
      "intelligent cloud revenue increased driven by azure and other cloud\n",
      "services. productivity and business processes revenue increased driven\n",
      "by office 365 commercial and linkedin. more personal computing revenue\n",
      "increased driven by search and news advertising and windows. cost of\n",
      "revenue increased $ 10. 4 billion or 20 % driven by growth in microsoft\n",
      "cloud.\n",
      "\n",
      "( in millions, except percentages ) 2022 2021 percentage change sales\n",
      "and marketing $ 21, 825 $ 20, 117 8 % as a percent of revenue 11 % 12 %\n",
      "( 1 ) ppt sales and marketing expenses include payroll, employee\n",
      "benefits, stock - based compensation expense, and other headcount -\n",
      "related expenses associated with sales and marketing personnel, and the\n",
      "costs of advertising, promotions, trade shows, seminars, and other\n",
      "programs. sales and marketing expenses increased $ 1. 7 billion or 8 %\n",
      "driven by investments in commercial sales and linkedin. sales and\n",
      "marketing included a favorable foreign currency impact of 2 %. general\n",
      "and administrative ( in millions, except percentages ) 2022 2021\n",
      "percentage change general and administrative $ 5, 900 $ 5, 107 16 % as\n",
      "a percent of revenue 3 % 3 % 0ppt\n",
      "\n",
      "----------------------------------------------------------------------------------------------------\n",
      "Query: - Were there any significant changes in customer demand that influenced revenue?\n",
      "\n",
      "Results:\n",
      "35 reportable segments fiscal year 2022 compared with fiscal year 2021\n",
      "productivity and business processes revenue increased $ 9. 4 billion or\n",
      "18 %. • office commercial products and cloud services revenue increased\n",
      "$ 4. 4 billion or 13 %. office 365 commercial revenue grew 18 % driven\n",
      "by seat growth of 14 %, with continued momentum in small and medium\n",
      "business and frontline worker offerings, as well as growth in revenue\n",
      "per user. office commercial products revenue declined 22 % driven by\n",
      "continued customer shift to cloud offerings. • office consumer products\n",
      "and cloud services revenue increased $ 641 million or 11 % driven by\n",
      "microsoft 365 consumer subscription revenue. microsoft 365 consumer\n",
      "subscribers grew 15 % to 59. 7 million. • linkedin revenue increased $\n",
      "3. 5 billion or 34 % driven by a strong job market in our talent\n",
      "solutions business and advertising demand in our marketing solutions\n",
      "business.\n",
      "\n",
      "82 in addition, certain costs incurred at a corporate level that are\n",
      "identifiable and that benefit our segments are allocated to them. these\n",
      "allocated costs include legal, including settlements and fines,\n",
      "information technology, human resources, finance, excise taxes, field\n",
      "selling, shared facilities services, and customer service and support.\n",
      "each allocation is measured differently based on the specific facts and\n",
      "circumstances of the costs being allocated. segment revenue and\n",
      "operating income were as follows during the periods presented : ( in\n",
      "millions ) year ended june 30, 2022 2021 2020 revenue productivity and\n",
      "business processes $ 63, 364 $ 53, 915 $ 46, 398 intelligent cloud 75,\n",
      "251 60, 080 48, 366 more personal computing 59, 655 54, 093 48, 251\n",
      "total $ 198, 270 $ 168, 088 $ 143, 015 operating income\n",
      "\n",
      "( in millions, except percentages ) 2022 2021 percentage change sales\n",
      "and marketing $ 21, 825 $ 20, 117 8 % as a percent of revenue 11 % 12 %\n",
      "( 1 ) ppt sales and marketing expenses include payroll, employee\n",
      "benefits, stock - based compensation expense, and other headcount -\n",
      "related expenses associated with sales and marketing personnel, and the\n",
      "costs of advertising, promotions, trade shows, seminars, and other\n",
      "programs. sales and marketing expenses increased $ 1. 7 billion or 8 %\n",
      "driven by investments in commercial sales and linkedin. sales and\n",
      "marketing included a favorable foreign currency impact of 2 %. general\n",
      "and administrative ( in millions, except percentages ) 2022 2021\n",
      "percentage change general and administrative $ 5, 900 $ 5, 107 16 % as\n",
      "a percent of revenue 3 % 3 % 0ppt\n",
      "\n",
      "• windows revenue increased $ 2. 3 billion or 10 % driven by growth in\n",
      "windows oem and windows commercial. windows oem revenue increased 11 %\n",
      "driven by continued strength in the commercial pc market, which has\n",
      "higher revenue per license. windows commercial products and cloud\n",
      "services revenue increased 11 % driven by demand for microsoft 365.\n",
      "\n",
      "highlights from fiscal year 2022 compared with fiscal year 2021\n",
      "included : • microsoft cloud ( formerly commercial cloud ) revenue\n",
      "increased 32 % to $ 91. 2 billion. • office commercial products and\n",
      "cloud services revenue increased 13 % driven by office 365 commercial\n",
      "growth of 18 %. • office consumer products and cloud services revenue\n",
      "increased 11 % and microsoft 365 consumer subscribers grew to 59. 7\n",
      "million. • linkedin revenue increased 34 %. • dynamics products and\n",
      "cloud services revenue increased 25 % driven by dynamics 365 growth of\n",
      "39 %. • server products and cloud services revenue increased 28 %\n",
      "driven by azure and other cloud services growth of 45 %. • windows\n",
      "original equipment manufacturer licensing ( “ windows oem ” ) revenue\n",
      "increased 11 %. • windows commercial products and cloud services\n",
      "revenue increased 11 %. • xbox content and services revenue increased 3\n",
      "%. • search and news advertising revenue excluding traffic acquisition\n",
      "costs increased 27 %.\n",
      "\n",
      "----------------------------------------------------------------------------------------------------\n",
      "Query: - What regions or markets experienced the highest revenue growth?\n",
      "\n",
      "Results:\n",
      "productivity and business processes $ 29, 687 $ 24, 351 $ 18, 724\n",
      "intelligent cloud 32, 721 26, 126 18, 324 more personal computing 20,\n",
      "975 19, 439 15, 911 total $ 83, 383 $ 69, 916 $ 52, 959 no sales to an\n",
      "individual customer or country other than the united states accounted\n",
      "for more than 10 % of revenue for fiscal years 2022, 2021, or 2020.\n",
      "revenue, classified by the major geographic areas in which our\n",
      "customers were located, was as follows : ( in millions ) year ended\n",
      "june 30, 2022 2021 2020 united states ( a ) $ 100, 218 $ 83, 953 $ 73,\n",
      "160 other countries 98, 052 84, 135 69, 855 total $ 198, 270 $ 168, 088\n",
      "$ 143, 015 ( a ) includes billings to oems and certain multinational\n",
      "organizations because of the nature of these businesses and the\n",
      "impracticability of determining the geographic source of the revenue.\n",
      "\n",
      "gross margin and operating income both included an unfavorable foreign\n",
      "currency impact of 2 %. segment results of operations ( in millions,\n",
      "except percentages ) 2022 2021 percentage change revenue productivity\n",
      "and business processes $ 63, 364 $ 53, 915 18 % intelligent cloud 75,\n",
      "251 60, 080 25 % more personal computing 59, 655 54, 093 10 % total $\n",
      "198, 270 $ 168, 088 18 % operating income productivity and business\n",
      "processes $ 29, 687 $ 24, 351 22 % intelligent cloud 32, 721 26, 126 25\n",
      "% more personal computing 20, 975 19, 439 8 % total $ 83, 383 $ 69, 916\n",
      "19 %\n",
      "\n",
      "company and with countries over 10 % of the total shown separately,\n",
      "were as follows : ( in millions ) june 30, 2022 2021 2020 united states\n",
      "$ 106, 430 $ 76, 153 $ 60, 789 ireland 15, 505 13, 303 12, 734 other\n",
      "countries 44, 433 38, 858 29, 770 total $ 166, 368 $ 128, 314 $ 103,\n",
      "293\n",
      "\n",
      "• windows revenue increased $ 2. 3 billion or 10 % driven by growth in\n",
      "windows oem and windows commercial. windows oem revenue increased 11 %\n",
      "driven by continued strength in the commercial pc market, which has\n",
      "higher revenue per license. windows commercial products and cloud\n",
      "services revenue increased 11 % driven by demand for microsoft 365.\n",
      "\n",
      "36 • search and news advertising revenue increased $ 2. 3 billion or 25\n",
      "%. search and news advertising revenue excluding traffic acquisition\n",
      "costs increased 27 % driven by higher revenue per search and search\n",
      "volume. • gaming revenue increased $ 860 million or 6 % on a strong\n",
      "prior year comparable that benefited from xbox series x | s launches\n",
      "and stay - at - home scenarios, driven by growth in xbox hardware and\n",
      "xbox content and services. xbox hardware revenue increased 16 % due to\n",
      "continued demand for xbox series x | s. xbox content and services\n",
      "revenue increased 3 % driven by growth in xbox game pass subscriptions\n",
      "and first - party content, offset in part by a decline in third - party\n",
      "content. • surface revenue increased $ 226 million or 3 %. operating\n",
      "income increased $ 1. 5 billion or 8 %. • gross margin increased $ 3. 1\n",
      "billion or 10 % driven by growth in windows and search and news\n",
      "advertising. gross margin percentage was relatively unchanged.\n",
      "\n",
      "----------------------------------------------------------------------------------------------------\n",
      "Query: - Did any new product launches contribute to the increase in revenue?\n",
      "\n",
      "Results:\n",
      "35 reportable segments fiscal year 2022 compared with fiscal year 2021\n",
      "productivity and business processes revenue increased $ 9. 4 billion or\n",
      "18 %. • office commercial products and cloud services revenue increased\n",
      "$ 4. 4 billion or 13 %. office 365 commercial revenue grew 18 % driven\n",
      "by seat growth of 14 %, with continued momentum in small and medium\n",
      "business and frontline worker offerings, as well as growth in revenue\n",
      "per user. office commercial products revenue declined 22 % driven by\n",
      "continued customer shift to cloud offerings. • office consumer products\n",
      "and cloud services revenue increased $ 641 million or 11 % driven by\n",
      "microsoft 365 consumer subscription revenue. microsoft 365 consumer\n",
      "subscribers grew 15 % to 59. 7 million. • linkedin revenue increased $\n",
      "3. 5 billion or 34 % driven by a strong job market in our talent\n",
      "solutions business and advertising demand in our marketing solutions\n",
      "business.\n",
      "\n",
      "• windows revenue increased $ 2. 3 billion or 10 % driven by growth in\n",
      "windows oem and windows commercial. windows oem revenue increased 11 %\n",
      "driven by continued strength in the commercial pc market, which has\n",
      "higher revenue per license. windows commercial products and cloud\n",
      "services revenue increased 11 % driven by demand for microsoft 365.\n",
      "\n",
      "highlights from fiscal year 2022 compared with fiscal year 2021\n",
      "included : • microsoft cloud ( formerly commercial cloud ) revenue\n",
      "increased 32 % to $ 91. 2 billion. • office commercial products and\n",
      "cloud services revenue increased 13 % driven by office 365 commercial\n",
      "growth of 18 %. • office consumer products and cloud services revenue\n",
      "increased 11 % and microsoft 365 consumer subscribers grew to 59. 7\n",
      "million. • linkedin revenue increased 34 %. • dynamics products and\n",
      "cloud services revenue increased 25 % driven by dynamics 365 growth of\n",
      "39 %. • server products and cloud services revenue increased 28 %\n",
      "driven by azure and other cloud services growth of 45 %. • windows\n",
      "original equipment manufacturer licensing ( “ windows oem ” ) revenue\n",
      "increased 11 %. • windows commercial products and cloud services\n",
      "revenue increased 11 %. • xbox content and services revenue increased 3\n",
      "%. • search and news advertising revenue excluding traffic acquisition\n",
      "costs increased 27 %.\n",
      "\n",
      "36 • search and news advertising revenue increased $ 2. 3 billion or 25\n",
      "%. search and news advertising revenue excluding traffic acquisition\n",
      "costs increased 27 % driven by higher revenue per search and search\n",
      "volume. • gaming revenue increased $ 860 million or 6 % on a strong\n",
      "prior year comparable that benefited from xbox series x | s launches\n",
      "and stay - at - home scenarios, driven by growth in xbox hardware and\n",
      "xbox content and services. xbox hardware revenue increased 16 % due to\n",
      "continued demand for xbox series x | s. xbox content and services\n",
      "revenue increased 3 % driven by growth in xbox game pass subscriptions\n",
      "and first - party content, offset in part by a decline in third - party\n",
      "content. • surface revenue increased $ 226 million or 3 %. operating\n",
      "income increased $ 1. 5 billion or 8 %. • gross margin increased $ 3. 1\n",
      "billion or 10 % driven by growth in windows and search and news\n",
      "advertising. gross margin percentage was relatively unchanged.\n",
      "\n",
      "revenue, classified by significant product and service offerings, was\n",
      "as follows : ( in millions ) year ended june 30, 2022 2021 2020 server\n",
      "products and cloud services $ 67, 321 $ 52, 589 $ 41, 379 office\n",
      "products and cloud services 44, 862 39, 872 35, 316 windows 24, 761 22,\n",
      "488 21, 510 gaming 16, 230 15, 370 11, 575 linkedin 13, 816 10, 289 8,\n",
      "077 search and news advertising 11, 591 9, 267 8, 524 enterprise\n",
      "services 7, 407 6, 943 6, 409 devices 6, 991 6, 791 6, 457 other 5, 291\n",
      "4, 479 3, 768 total $ 198, 270 $ 168, 088 $ 143, 015 we have recast\n",
      "certain previously reported amounts in the table above to conform to\n",
      "the way we internally manage and monitor our business.\n",
      "\n",
      "----------------------------------------------------------------------------------------------------\n"
     ]
    }
   ],
   "source": [
    "queries = [original_query] + augmented_queries\n",
    "results = chroma_collection.query(query_texts=queries, n_results=5, include=['documents', 'embeddings'])\n",
    "\n",
    "retrieved_documents = results['documents']\n",
    "\n",
    "# Deduplicate the retrieved documents\n",
    "unique_documents = set()\n",
    "for documents in retrieved_documents:\n",
    "    for document in documents:\n",
    "        unique_documents.add(document)\n",
    "\n",
    "for i, documents in enumerate(retrieved_documents):\n",
    "    print(f\"Query: {queries[i]}\")\n",
    "    print('')\n",
    "    print(\"Results:\")\n",
    "    for doc in documents:\n",
    "        print(word_wrap(doc))\n",
    "        print('')\n",
    "    print('-'*100)"
   ]
  },
  {
   "cell_type": "code",
   "execution_count": 13,
   "id": "b1183e75-4c65-422e-bc47-48010d8b29c9",
   "metadata": {
    "height": 130
   },
   "outputs": [
    {
     "name": "stderr",
     "output_type": "stream",
     "text": [
      "100%|██████████| 1/1 [00:00<00:00,  1.33it/s]\n",
      "100%|██████████| 5/5 [00:02<00:00,  1.93it/s]\n"
     ]
    }
   ],
   "source": [
    "original_query_embedding = embedding_function([original_query])\n",
    "augmented_query_embeddings = embedding_function(augmented_queries)\n",
    "\n",
    "project_original_query = project_embeddings(original_query_embedding, umap_transform)\n",
    "project_augmented_queries = project_embeddings(augmented_query_embeddings, umap_transform)\n"
   ]
  },
  {
   "cell_type": "code",
   "execution_count": 14,
   "id": "5fcd85cc-8898-41ed-a0aa-bd8a33fc565a",
   "metadata": {
    "height": 81
   },
   "outputs": [
    {
     "name": "stderr",
     "output_type": "stream",
     "text": [
      "100%|██████████| 30/30 [00:15<00:00,  1.94it/s]\n"
     ]
    }
   ],
   "source": [
    "result_embeddings = results['embeddings']\n",
    "result_embeddings = [item for sublist in result_embeddings for item in sublist]\n",
    "projected_result_embeddings = project_embeddings(result_embeddings, umap_transform)\n"
   ]
  },
  {
   "cell_type": "code",
   "execution_count": 15,
   "id": "c65337e9-85ee-47f7-89fd-7fe77cd0e1b2",
   "metadata": {
    "height": 215
   },
   "outputs": [
    {
     "data": {
      "text/plain": [
       "(-3.3378206849098206, 7.230811512470245, 5.923376560211182, 13.01902151107788)"
      ]
     },
     "execution_count": 15,
     "metadata": {},
     "output_type": "execute_result"
    },
    {
     "data": {
      "image/png": "[encoded data removed]",
      "text/plain": [
       "<Figure size 640x480 with 1 Axes>"
      ]
     },
     "metadata": {},
     "output_type": "display_data"
    }
   ],
   "source": [
    "import matplotlib.pyplot as plt\n",
    "\n",
    "plt.figure()\n",
    "plt.scatter(projected_dataset_embeddings[:, 0], projected_dataset_embeddings[:, 1], s=10, color='gray')\n",
    "plt.scatter(project_augmented_queries[:, 0], project_augmented_queries[:, 1], s=150, marker='X', color='orange')\n",
    "plt.scatter(projected_result_embeddings[:, 0], projected_result_embeddings[:, 1], s=100, facecolors='none', edgecolors='g')\n",
    "plt.scatter(project_original_query[:, 0], project_original_query[:, 1], s=150, marker='X', color='r')\n",
    "\n",
    "plt.gca().set_aspect('equal', 'datalim')\n",
    "plt.title(f'{original_query}')\n",
    "plt.axis('off')"
   ]
  }
 ],
 "metadata": {
  "kernelspec": {
   "display_name": "Python 3 (ipykernel)",
   "language": "python",
   "name": "python3"
  },
  "language_info": {
   "codemirror_mode": {
    "name": "ipython",
    "version": 3
   },
   "file_extension": ".py",
   "mimetype": "text/x-python",
   "name": "python",
   "nbconvert_exporter": "python",
   "pygments_lexer": "ipython3",
   "version": "3.9.19"
  }
 },
 "nbformat": 4,
 "nbformat_minor": 5
}
