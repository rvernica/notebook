{
 "cells": [
  {
   "cell_type": "markdown",
   "id": "293bcfbc-0883-4d68-be80-32329f3ca049",
   "metadata": {},
   "source": [
    "# Lab 3 - Query Expansion"
   ]
  },
  {
   "cell_type": "code",
   "execution_count": 8,
   "id": "5a5536f0-651c-40e7-aa15-27ee0cda80b7",
   "metadata": {
    "height": 47
   },
   "outputs": [],
   "source": [
    "import os\n",
    "import chromadb\n",
    "from helper_utils import word_wrap, project_embeddings\n",
    "from chromadb.utils.embedding_functions import OpenAIEmbeddingFunction"
   ]
  },
  {
   "cell_type": "code",
   "execution_count": null,
   "id": "3748b16d-d4a7-49c3-a48a-57dcfc42acd6",
   "metadata": {
    "height": 96
   },
   "outputs": [
    {
     "data": {
      "text/plain": [
       "307"
      ]
     },
     "execution_count": 9,
     "metadata": {},
     "output_type": "execute_result"
    }
   ],
   "source": [
    "openai_api_key = os.environ['OPENAI_API_KEY']\n",
    "embedding_function = OpenAIEmbeddingFunction(api_key=openai_api_key, model_name=\"text-embedding-3-small\")\n",
    "\n",
    "chroma_collection = chromadb.PersistentClient('microsoft_annual_report_2022').create_collection(\n",
    "    \"microsoft_annual_report_2022\", \n",
    "    embedding_function=embedding_function,\n",
    "    get_or_create=True)\n",
    "chroma_collection.count()"
   ]
  },
  {
   "cell_type": "code",
   "execution_count": 10,
   "id": "a338ec83-6301-41a5-9ab1-e5d583306a3f",
   "metadata": {
    "height": 166
   },
   "outputs": [],
   "source": [
    "import os\n",
    "import openai\n",
    "from openai import OpenAI\n",
    "\n",
    "from dotenv import load_dotenv, find_dotenv\n",
    "_ = load_dotenv(find_dotenv()) # read local .env file\n",
    "openai.api_key = os.environ['OPENAI_API_KEY']\n",
    "\n",
    "openai_client = OpenAI()"
   ]
  },
  {
   "cell_type": "code",
   "execution_count": 11,
   "id": "888a86f8-2fe2-4682-bdaf-c15129ed1a32",
   "metadata": {
    "height": 98
   },
   "outputs": [
    {
     "name": "stderr",
     "output_type": "stream",
     "text": [
      "/home/rares/proj/notebook/adv-retrieval-w-chroma/.venv/lib/python3.13/site-packages/umap/umap_.py:1952: UserWarning: n_jobs value 1 overridden to 1 by setting random_state. Use no seed for parallelism.\n",
      "  warn(\n",
      "100%|██████████| 307/307 [00:06<00:00, 50.73it/s] \n"
     ]
    }
   ],
   "source": [
    "import umap\n",
    "\n",
    "embeddings = chroma_collection.get(include=['embeddings'])['embeddings']\n",
    "umap_transform = umap.UMAP(random_state=0, transform_seed=0).fit(embeddings)\n",
    "projected_dataset_embeddings = project_embeddings(embeddings, umap_transform)"
   ]
  },
  {
   "cell_type": "markdown",
   "id": "00cafb52-7634-4e42-a334-c4d37259c951",
   "metadata": {},
   "source": [
    "## Expansion with generated answers\n",
    "\n",
    "https://arxiv.org/abs/2305.03653"
   ]
  },
  {
   "cell_type": "code",
   "execution_count": 12,
   "id": "c2a13d14-4484-46f0-8e67-277337f9d138",
   "metadata": {
    "height": 283
   },
   "outputs": [],
   "source": [
    "def augment_query_generated(query, model=\"gpt-3.5-turbo\"):\n",
    "    messages = [\n",
    "        {\n",
    "            \"role\": \"system\",\n",
    "            \"content\": \"You are a helpful expert financial research assistant. Provide an example answer to the given question, that might be found in a document like an annual report. \"\n",
    "        },\n",
    "        {\"role\": \"user\", \"content\": query}\n",
    "    ]\n",
    "\n",
    "    response = openai_client.chat.completions.create(\n",
    "        model=model,\n",
    "        messages=messages,\n",
    "    )\n",
    "    content = response.choices[0].message.content\n",
    "    return content"
   ]
  },
  {
   "cell_type": "code",
   "execution_count": 13,
   "id": "8ba6c8c5-9ce4-44d0-9223-6fdd77871f87",
   "metadata": {
    "height": 98
   },
   "outputs": [
    {
     "name": "stdout",
     "output_type": "stream",
     "text": [
      "Was there significant turnover in the executive team? In the past\n",
      "fiscal year, there was no significant turnover in the executive team.\n",
      "The core members of the executive team have remained stable, providing\n",
      "continuity in leadership and strategy execution. This consistency in\n",
      "leadership has contributed to the organization's continued success and\n",
      "growth initiatives.\n"
     ]
    }
   ],
   "source": [
    "original_query = \"Was there significant turnover in the executive team?\"\n",
    "hypothetical_answer = augment_query_generated(original_query)\n",
    "\n",
    "joint_query = f\"{original_query} {hypothetical_answer}\"\n",
    "print(word_wrap(joint_query))"
   ]
  },
  {
   "cell_type": "code",
   "execution_count": 14,
   "id": "bfdb54db-a442-423c-b006-c33a257cd7d7",
   "metadata": {
    "height": 130
   },
   "outputs": [
    {
     "name": "stdout",
     "output_type": "stream",
     "text": [
      "Management conducted an evaluation of the effectiveness of our internal\n",
      "control over financial reporting based on the framework in Internal\n",
      "Control – Integrated Framework (2013) issued by the Committee of\n",
      "Sponsoring Organizations of the Treadway Commission. Based on this\n",
      "evaluation, management concluded that the Company’s internal control\n",
      "over financial reporting was effective as of June 30, 2022. There were\n",
      "no changes in our internal control over financial reporting during the\n",
      "quarter ended June 30, 2022 that have materially affected, or are\n",
      "reasonably likely to materially affect, our internal control over\n",
      "financial reporting. Deloitte & Touche LLP has audited our internal\n",
      "control over financial reporting as of June 30, 2022; their report\n",
      "follows\n",
      "\n",
      "The Board of Directors, through its Audit Committee, consisting solely\n",
      "of independent directors of the Company, meets periodically with\n",
      "management, internal auditors, and our independent registered public\n",
      "accounting firm to ensure that each is meeting its responsibilities and\n",
      "to discuss matters concerning internal controls and financial\n",
      "reporting. Deloitte & Touche LLP and the internal auditors each have\n",
      "full and free access to the Audit Committee. Satya Nadella Chief\n",
      "Executive Officer Amy E. Hood Executive Vice President and Chief\n",
      "Financial Officer Alice L. Jolla Corporate Vice President and Chief\n",
      "Accounting Officer 46 QUANTITATIVE AND QUALITATIVE DISCLOSURES ABOUT\n",
      "MARKET RISK RISKS We are exposed to economic risk from foreign exchange\n",
      "rates, interest rates, credit risk, and equity prices. We use\n",
      "derivatives instruments to manage these risks, however, they may still\n",
      "impact our consolidated financial statements\n",
      "\n",
      "3 billion or 14% driven by investments in cloud engineering, LinkedIn,\n",
      "Gaming, and commercial sales. Key changes in operating expenses were: •\n",
      "Research and development expenses increased $3.8 billion or 18% driven\n",
      "by investments in cloud engineering, Gaming, and LinkedIn. • Sales and\n",
      "marketing expenses increased $1.7 billion or 8% driven by investments\n",
      "in commercial sales and LinkedIn. Sales and marketing included a\n",
      "favorable foreign currency impact of 2%. • General and administrative\n",
      "expenses increased $793 million or 16% driven by investments in\n",
      "corporate functions. Operating income increased $13.5 billion or 19%\n",
      "driven by growth across each of our segments. Current year net income\n",
      "and diluted EPS were positively impacted by the net tax benefit related\n",
      "to the transfer of intangible properties, which resulted in an increase\n",
      "to net income and diluted EPS of $3.3 billion and $0.44, respectively\n",
      "\n",
      "Also, projections of any evaluation of effectiveness to future periods\n",
      "are subject to the risk that controls may become inadequate because of\n",
      "changes in conditions, or that the degree of compliance with the\n",
      "policies or procedures may deteriorate. /S/ DELOITTE & TOUCHE LLP\n",
      "Seattle, Washington July 28, 2022 89 DIRECTORS AND EXECUTIVE OFFICERS\n",
      "OF MICROSOFT CORPORATION DIRECTORS Satya Nadella Chairman and Chief\n",
      "Executive Officer, Microsoft Corporation Sandra E. Peterson 2,3\n",
      "Operating Partner, Clayton, Dubilier & Rice, LLC John W. Stanton 1,4\n",
      "Founder and Chairman, Trilogy Partnerships Reid G. Hoffman 4 General\n",
      "Partner, Greylock Partners Penny S. Pritzker 4 Founder and Chairman,\n",
      "PSP Partners, LLC John W. Thompson 3,4 Lead Independent Director,\n",
      "Microsoft Corporation Hugh F. Johnston 1 Vice Chairman and Executive\n",
      "Vice President and Chief Financial Officer, PepsiCo, Inc. Carlos A.\n",
      "Rodriguez 1 Chief Executive Officer, ADP, Inc. Emma N. Walmsley 2,4\n",
      "Chief Executive Officer, GSK, plc Teri L\n",
      "\n",
      "List 1,3 Former Executive Vice President and Chief Financial Officer,\n",
      "Gap, Inc. Charles W. Scharf 2,3 Chief Executive Officer and President,\n",
      "Wells Fargo & Company Padmasree Warrior 2 Founder, President and Chief\n",
      "Executive Officer, Fable Group Inc. Board Committees 1. Audit Committee\n",
      "2. Compensation Committee 3. Governance and Nominating Committee 4.\n",
      "Environmental, Social, and Public Policy Committee EXECUTIVE OFFICERS\n",
      "Satya Nadella Chairman and Chief Executive Officer Amy E. Hood\n",
      "Executive Vice President and Chief Financial Officer Judson Althoff\n",
      "Executive Vice President and Chief Commercial Officer Bradford L. Smith\n",
      "Vice Chair and President Christopher C. Capossela Executive Vice\n",
      "President, Marketing and Consumer Business, and Chief Marketing Officer\n",
      "Christopher D. Young Executive Vice President, Business Development,\n",
      "Strategy, and Ventures Kathleen T\n",
      "\n"
     ]
    }
   ],
   "source": [
    "results = chroma_collection.query(query_texts=joint_query, n_results=5, include=['documents', 'embeddings'])\n",
    "retrieved_documents = results['documents'][0]\n",
    "\n",
    "for doc in retrieved_documents:\n",
    "    print(word_wrap(doc))\n",
    "    print('')"
   ]
  },
  {
   "cell_type": "code",
   "execution_count": 15,
   "id": "377a84aa-1d93-4e97-9b2d-d59c46355338",
   "metadata": {
    "height": 147
   },
   "outputs": [
    {
     "name": "stderr",
     "output_type": "stream",
     "text": [
      "100%|██████████| 1/1 [00:00<00:00, 202.06it/s]\n",
      "100%|██████████| 1/1 [00:00<00:00, 59.10it/s]\n",
      "100%|██████████| 5/5 [00:00<00:00, 216.25it/s]\n"
     ]
    }
   ],
   "source": [
    "retrieved_embeddings = results['embeddings'][0]\n",
    "original_query_embedding = embedding_function([original_query])\n",
    "augmented_query_embedding = embedding_function([joint_query])\n",
    "\n",
    "projected_original_query_embedding = project_embeddings(original_query_embedding, umap_transform)\n",
    "projected_augmented_query_embedding = project_embeddings(augmented_query_embedding, umap_transform)\n",
    "projected_retrieved_embeddings = project_embeddings(retrieved_embeddings, umap_transform)"
   ]
  },
  {
   "cell_type": "code",
   "execution_count": 16,
   "id": "ba0ed8ca-6640-4c09-9cb3-9de5e7cf46dc",
   "metadata": {
    "height": 232
   },
   "outputs": [
    {
     "data": {
      "text/plain": [
       "(np.float64(-2.481528162956238),\n",
       " np.float64(6.624906897544861),\n",
       " np.float64(3.7107146739959718),\n",
       " np.float64(11.944174432754517))"
      ]
     },
     "execution_count": 16,
     "metadata": {},
     "output_type": "execute_result"
    },
    {
     "data": {
      "image/png": "[encoded data removed]",
      "text/plain": [
       "<Figure size 640x480 with 1 Axes>"
      ]
     },
     "metadata": {},
     "output_type": "display_data"
    }
   ],
   "source": [
    "import matplotlib.pyplot as plt\n",
    "\n",
    "# Plot the projected query and retrieved documents in the embedding space\n",
    "plt.figure()\n",
    "plt.scatter(projected_dataset_embeddings[:, 0], projected_dataset_embeddings[:, 1], s=10, color='gray')\n",
    "plt.scatter(projected_retrieved_embeddings[:, 0], projected_retrieved_embeddings[:, 1], s=100, facecolors='none', edgecolors='g')\n",
    "plt.scatter(projected_original_query_embedding[:, 0], projected_original_query_embedding[:, 1], s=150, marker='X', color='r')\n",
    "plt.scatter(projected_augmented_query_embedding[:, 0], projected_augmented_query_embedding[:, 1], s=150, marker='X', color='orange')\n",
    "\n",
    "plt.gca().set_aspect('equal', 'datalim')\n",
    "plt.title(f'{original_query}')\n",
    "plt.axis('off')"
   ]
  },
  {
   "cell_type": "markdown",
   "id": "24007a5a-4258-4f3d-8d14-d5b01bfa5cd0",
   "metadata": {},
   "source": [
    "## Expansion with multiple queries\n"
   ]
  },
  {
   "cell_type": "code",
   "execution_count": 17,
   "id": "db9f2758-0f5a-49e5-b1fa-517b91324575",
   "metadata": {
    "height": 368
   },
   "outputs": [],
   "source": [
    "def augment_multiple_query(query, model=\"gpt-3.5-turbo\"):\n",
    "    messages = [\n",
    "        {\n",
    "            \"role\": \"system\",\n",
    "            \"content\": \"You are a helpful expert financial research assistant. Your users are asking questions about an annual report. \"\n",
    "            \"Suggest up to five additional related questions to help them find the information they need, for the provided question. \"\n",
    "            \"Suggest only short questions without compound sentences. Suggest a variety of questions that cover different aspects of the topic.\"\n",
    "            \"Make sure they are complete questions, and that they are related to the original question.\"\n",
    "            \"Output one question per line. Do not number the questions.\"\n",
    "        },\n",
    "        {\"role\": \"user\", \"content\": query}\n",
    "    ]\n",
    "\n",
    "    response = openai_client.chat.completions.create(\n",
    "        model=model,\n",
    "        messages=messages,\n",
    "    )\n",
    "    content = response.choices[0].message.content\n",
    "    content = content.split(\"\\n\")\n",
    "    return content"
   ]
  },
  {
   "cell_type": "code",
   "execution_count": 18,
   "id": "aee59493-8a99-4da8-b94f-4747efcfc79d",
   "metadata": {
    "height": 113
   },
   "outputs": [
    {
     "name": "stdout",
     "output_type": "stream",
     "text": [
      "- What were the key drivers of revenue growth during the reporting period?\n",
      "- How did changes in pricing or product mix impact revenue performance?\n",
      "- Were there any significant acquisitions or divestitures that influenced revenue growth?\n",
      "- Which geographic regions or customer segments experienced the highest revenue growth?\n",
      "- Did the company introduce any new products or services that contributed to revenue increases?\n"
     ]
    }
   ],
   "source": [
    "original_query = \"What were the most important factors that contributed to increases in revenue?\"\n",
    "augmented_queries = augment_multiple_query(original_query)\n",
    "\n",
    "for query in augmented_queries:\n",
    "    print(query)"
   ]
  },
  {
   "cell_type": "code",
   "execution_count": 19,
   "id": "f5eda9bc-ae76-4db6-9e0c-ae099d852d78",
   "metadata": {
    "height": 351
   },
   "outputs": [
    {
     "name": "stdout",
     "output_type": "stream",
     "text": [
      "Query: What were the most important factors that contributed to increases in revenue?\n",
      "\n",
      "Results:\n",
      "Windows OEM revenue increased 11% driven by continued strength in the\n",
      "commercial PC market, which has higher revenue per license. Windows\n",
      "Commercial products and cloud services revenue increased 11% driven by\n",
      "demand for Microsoft 365. 36 • Search and news advertising revenue\n",
      "increased $2.3 billion or 25%. Search and news advertising revenue\n",
      "excluding traffic acquisition costs increased 27% driven by higher\n",
      "revenue per search and search volume. • Gaming revenue increased $860\n",
      "million or 6% on a strong prior year comparable that benefited from\n",
      "Xbox Series X|S launches and stay -at-home scenarios, driven by growth\n",
      "in Xbox hardware and Xbox content and services. Xbox hardware revenue\n",
      "increased 16% due to continued demand for Xbox Series X|S. Xbox content\n",
      "and services revenue increased 3% driven by growth in Xbox Game Pass\n",
      "subscriptions and first - party content, offset in part by a decline in\n",
      "third-party content. • Surface revenue increased $226 million or 3%\n",
      "\n",
      "Operating income increased $1.5 billion or 8%. • Gross margin increased\n",
      "$3.1 billion or 10% driven by growth in Windows and Search and news\n",
      "advertising. Gross margin percentage was relatively unchanged. •\n",
      "Operating expenses increased $1.5 billion or 14% driven by investments\n",
      "in Gaming, Search and news advertising, and Windows marketing.\n",
      "OPERATING EXPENSES Research and Development (In millions, except\n",
      "percentages) 2022 2021 Percentage Change Research and development $\n",
      "24,512 $ 20,716 18% As a percent of revenue 12% 12% 0ppt Research and\n",
      "development expenses include payroll, employee benefits, stock -based\n",
      "compensation expense, and other headcount-related expenses associated\n",
      "with product development. Research and development expenses also\n",
      "include third-party development and programming costs, localization\n",
      "costs incurred to translate software for international markets, and the\n",
      "amortization of purchased software code and services content. Research\n",
      "and development expenses increased $3\n",
      "\n",
      "• Enterprise Services revenue increased $464 million or 7% driven by\n",
      "growth in Enterprise Support Services. Operating income increased $6.6\n",
      "billion or 25%. • Gross margin increased $9.4 billion or 22% driven by\n",
      "growth in Azure and other cloud services. Gross margin percentage\n",
      "decreased. Excluding the impact of the change in accounting estimate,\n",
      "gross margin percentage was relatively unchanged driven by improvement\n",
      "in Azure and other cloud services, offset in part by sales mix shift to\n",
      "Azure and other cloud services. • Operating expenses increased $2.8\n",
      "billion or 16% driven by investments in Azure and other cloud services.\n",
      "Revenue and operating income included an unfavorable foreign currency\n",
      "impact of 2% and 3%, respectively. More Personal Computing Revenue\n",
      "increased $5.6 billion or 10%. • Windows revenue increased $2.3 billion\n",
      "or 10% driven by growth in Windows OEM and Windows Commercial\n",
      "\n",
      "3 billion or 14% driven by investments in cloud engineering, LinkedIn,\n",
      "Gaming, and commercial sales. Key changes in operating expenses were: •\n",
      "Research and development expenses increased $3.8 billion or 18% driven\n",
      "by investments in cloud engineering, Gaming, and LinkedIn. • Sales and\n",
      "marketing expenses increased $1.7 billion or 8% driven by investments\n",
      "in commercial sales and LinkedIn. Sales and marketing included a\n",
      "favorable foreign currency impact of 2%. • General and administrative\n",
      "expenses increased $793 million or 16% driven by investments in\n",
      "corporate functions. Operating income increased $13.5 billion or 19%\n",
      "driven by growth across each of our segments. Current year net income\n",
      "and diluted EPS were positively impacted by the net tax benefit related\n",
      "to the transfer of intangible properties, which resulted in an increase\n",
      "to net income and diluted EPS of $3.3 billion and $0.44, respectively\n",
      "\n",
      "Revenue, classified by the major geographic areas in which our\n",
      "customers were located, was as follows: (In millions) Year Ended June\n",
      "30, 2022 2021 2020 United States (a) $ 100,218 $ 83,953 $ 73,160 Other\n",
      "countries 98,052 84,135 69,855 Total $ 198,270 $ 168,088 $ 143,015 (a)\n",
      "Includes billings to OEMs and certain multinational organizations\n",
      "because of the nature of these businesses and the impracticability of\n",
      "determining the geographic source of the revenue\n",
      "\n",
      "----------------------------------------------------------------------------------------------------\n",
      "Query: - What were the key drivers of revenue growth during the reporting period?\n",
      "\n",
      "Results:\n",
      "dollar relative to certain foreign currencies did not hav e a material\n",
      "impact on reported revenue or expenses from our international\n",
      "operations in fiscal year 2022. Refer to Risk Factors in our fiscal\n",
      "year 2022 Form 10-K for a discussion of these factors and other risks.\n",
      "Seasonality Our revenue fluctuates quarterly and is generally higher in\n",
      "the second and fourth quarters of our fiscal year. Second quarter\n",
      "revenue is driven by corporate year -end spending trends in our major\n",
      "markets and holiday season spending by consumers, and fourth quarter\n",
      "revenue is driven by the volume of multi -year on-premises contracts\n",
      "executed during the period. Reportable Segments We report our financial\n",
      "performance based on the following segments: Productivity and Business\n",
      "Processes, Intelligent Cloud, and More Personal Computing. The segment\n",
      "amounts included in MD&A are presented on a basis consistent with our\n",
      "internal management reporting\n",
      "\n",
      "Revenue, classified by the major geographic areas in which our\n",
      "customers were located, was as follows: (In millions) Year Ended June\n",
      "30, 2022 2021 2020 United States (a) $ 100,218 $ 83,953 $ 73,160 Other\n",
      "countries 98,052 84,135 69,855 Total $ 198,270 $ 168,088 $ 143,015 (a)\n",
      "Includes billings to OEMs and certain multinational organizations\n",
      "because of the nature of these businesses and the impracticability of\n",
      "determining the geographic source of the revenue\n",
      "\n",
      "3 billion or 14% driven by investments in cloud engineering, LinkedIn,\n",
      "Gaming, and commercial sales. Key changes in operating expenses were: •\n",
      "Research and development expenses increased $3.8 billion or 18% driven\n",
      "by investments in cloud engineering, Gaming, and LinkedIn. • Sales and\n",
      "marketing expenses increased $1.7 billion or 8% driven by investments\n",
      "in commercial sales and LinkedIn. Sales and marketing included a\n",
      "favorable foreign currency impact of 2%. • General and administrative\n",
      "expenses increased $793 million or 16% driven by investments in\n",
      "corporate functions. Operating income increased $13.5 billion or 19%\n",
      "driven by growth across each of our segments. Current year net income\n",
      "and diluted EPS were positively impacted by the net tax benefit related\n",
      "to the transfer of intangible properties, which resulted in an increase\n",
      "to net income and diluted EPS of $3.3 billion and $0.44, respectively\n",
      "\n",
      "Financial metrics are calculated based on financial results prepared in\n",
      "accordance with accounting principles generally accepted in the United\n",
      "States of America (“GAAP”), and growth comparisons relate to the\n",
      "corresponding period of last fiscal year. In the first quarter of\n",
      "fiscal year 2022, we made updates to the presentation and method of\n",
      "calculation for certain metrics, most notably changes to incorporate\n",
      "all current and anticipated revenue streams within our Office Consumer\n",
      "and Server products and cloud services metrics and changes to align\n",
      "with how we manage our Windows OEM and Search and news advertising\n",
      "businesses. None of these changes had a material impact on previously\n",
      "reported amounts in our MD&A. In the third quarter of fiscal year 2022,\n",
      "we completed our acquisition of Nuance. Nuance is included in all\n",
      "commercial metrics and our Server products and cloud services revenue\n",
      "growth metric\n",
      "\n",
      "Revenue, classified by significant product and service offerings, was\n",
      "as follows: (In millions) Year Ended June 30, 2022 2021 2020 Server\n",
      "products and cloud services $ 67,321 $ 52,589 $ 41,379 Office products\n",
      "and cloud services 44,862 39,872 35,316 Windows 24,761 22,488 21,510\n",
      "Gaming 16,230 15,370 11,575 LinkedIn 13,816 10,289 8,077 Search and\n",
      "news advertising 11,591 9,267 8,524 Enterprise Services 7,407 6,943\n",
      "6,409 Devices 6,991 6,791 6,457 Other 5,291 4,479 3,768 Total $ 198,270\n",
      "$ 168,088 $ 143,015 We have recast certain previously reported amounts\n",
      "in the table above to conform to the way we internally manage and\n",
      "monitor our business. 83 Our Microsoft Cloud (formerly commercial\n",
      "cloud) revenue, which includes Azure and other cloud services, Office\n",
      "365 Commercial, the commercial portion of LinkedIn, Dynamics 365, and\n",
      "other commercial cloud properties, was $91.2 billion, $69.1 billion and\n",
      "$51.7 billion in fiscal years 2022, 2021, and 2020, respectively\n",
      "\n",
      "----------------------------------------------------------------------------------------------------\n",
      "Query: - How did changes in pricing or product mix impact revenue performance?\n",
      "\n",
      "Results:\n",
      "dollar relative to certain foreign currencies did not hav e a material\n",
      "impact on reported revenue or expenses from our international\n",
      "operations in fiscal year 2022. Refer to Risk Factors in our fiscal\n",
      "year 2022 Form 10-K for a discussion of these factors and other risks.\n",
      "Seasonality Our revenue fluctuates quarterly and is generally higher in\n",
      "the second and fourth quarters of our fiscal year. Second quarter\n",
      "revenue is driven by corporate year -end spending trends in our major\n",
      "markets and holiday season spending by consumers, and fourth quarter\n",
      "revenue is driven by the volume of multi -year on-premises contracts\n",
      "executed during the period. Reportable Segments We report our financial\n",
      "performance based on the following segments: Productivity and Business\n",
      "Processes, Intelligent Cloud, and More Personal Computing. The segment\n",
      "amounts included in MD&A are presented on a basis consistent with our\n",
      "internal management reporting\n",
      "\n",
      "Each allocation is measured differently based on the specific facts and\n",
      "circumstances of the costs being allocated. Segment revenue and\n",
      "operating income were as follows during the periods presented: (In\n",
      "millions) Year Ended June 30, 2022 2021 2020 Revenue Productivity and\n",
      "Business Processes $ 63,364 $ 53,915 $ 46,398 Intelligent Cloud 75,251\n",
      "60,080 48,366 More Personal Computing 59,655 54,093 48,251 Total $\n",
      "198,270 $ 168,088 $ 143,015 Operating Income Productivity and Business\n",
      "Processes $ 29,687 $ 24,351 $ 18,724 Intelligent Cloud 32,721 26,126\n",
      "18,324 More Personal Computing 20,975 19,439 15,911 Total $ 83,383 $\n",
      "69,916 $ 52,959 No sales to an individual customer or country other\n",
      "than the United States accounted for more than 10% of revenue for\n",
      "fiscal years 2022, 2021, or 2020\n",
      "\n",
      "Productivity and Business Processes revenue increased driven by Office\n",
      "365 Commercial and LinkedIn. More Personal Computing revenue increased\n",
      "driven by Search and news advertising and Windows. Cost of revenue\n",
      "increased $10.4 billion or 20% driven by growth in Microsoft Cloud.\n",
      "Gross margin increased $19.8 billion or 17% driven by growth across\n",
      "each of our segments. • Gross margin percentage decreased slightly.\n",
      "Excluding the impact of the fiscal year 2021 change in accounting\n",
      "estimate for the useful lives of our server and network equipment,\n",
      "gross margin percentage increased 1 point driven by improvement in\n",
      "Productivity and Business Processes. • Microsoft Cloud gross margin\n",
      "percentage decreased slightly to 70%. Excluding the impact of the\n",
      "change in accounting estimate, Microsoft Cloud gross margin percentage\n",
      "increased 3 points driven by improvement across our cloud services,\n",
      "offset in part by sales mix shift to Azure and other cloud services.\n",
      "Operating expenses increased $6\n",
      "\n",
      "Revenue, classified by the major geographic areas in which our\n",
      "customers were located, was as follows: (In millions) Year Ended June\n",
      "30, 2022 2021 2020 United States (a) $ 100,218 $ 83,953 $ 73,160 Other\n",
      "countries 98,052 84,135 69,855 Total $ 198,270 $ 168,088 $ 143,015 (a)\n",
      "Includes billings to OEMs and certain multinational organizations\n",
      "because of the nature of these businesses and the impracticability of\n",
      "determining the geographic source of the revenue\n",
      "\n",
      "3 billion or 14% driven by investments in cloud engineering, LinkedIn,\n",
      "Gaming, and commercial sales. Key changes in operating expenses were: •\n",
      "Research and development expenses increased $3.8 billion or 18% driven\n",
      "by investments in cloud engineering, Gaming, and LinkedIn. • Sales and\n",
      "marketing expenses increased $1.7 billion or 8% driven by investments\n",
      "in commercial sales and LinkedIn. Sales and marketing included a\n",
      "favorable foreign currency impact of 2%. • General and administrative\n",
      "expenses increased $793 million or 16% driven by investments in\n",
      "corporate functions. Operating income increased $13.5 billion or 19%\n",
      "driven by growth across each of our segments. Current year net income\n",
      "and diluted EPS were positively impacted by the net tax benefit related\n",
      "to the transfer of intangible properties, which resulted in an increase\n",
      "to net income and diluted EPS of $3.3 billion and $0.44, respectively\n",
      "\n",
      "----------------------------------------------------------------------------------------------------\n",
      "Query: - Were there any significant acquisitions or divestitures that influenced revenue growth?\n",
      "\n",
      "Results:\n",
      "3 billion or 14% driven by investments in cloud engineering, LinkedIn,\n",
      "Gaming, and commercial sales. Key changes in operating expenses were: •\n",
      "Research and development expenses increased $3.8 billion or 18% driven\n",
      "by investments in cloud engineering, Gaming, and LinkedIn. • Sales and\n",
      "marketing expenses increased $1.7 billion or 8% driven by investments\n",
      "in commercial sales and LinkedIn. Sales and marketing included a\n",
      "favorable foreign currency impact of 2%. • General and administrative\n",
      "expenses increased $793 million or 16% driven by investments in\n",
      "corporate functions. Operating income increased $13.5 billion or 19%\n",
      "driven by growth across each of our segments. Current year net income\n",
      "and diluted EPS were positively impacted by the net tax benefit related\n",
      "to the transfer of intangible properties, which resulted in an increase\n",
      "to net income and diluted EPS of $3.3 billion and $0.44, respectively\n",
      "\n",
      "dollar relative to certain foreign currencies did not hav e a material\n",
      "impact on reported revenue or expenses from our international\n",
      "operations in fiscal year 2022. Refer to Risk Factors in our fiscal\n",
      "year 2022 Form 10-K for a discussion of these factors and other risks.\n",
      "Seasonality Our revenue fluctuates quarterly and is generally higher in\n",
      "the second and fourth quarters of our fiscal year. Second quarter\n",
      "revenue is driven by corporate year -end spending trends in our major\n",
      "markets and holiday season spending by consumers, and fourth quarter\n",
      "revenue is driven by the volume of multi -year on-premises contracts\n",
      "executed during the period. Reportable Segments We report our financial\n",
      "performance based on the following segments: Productivity and Business\n",
      "Processes, Intelligent Cloud, and More Personal Computing. The segment\n",
      "amounts included in MD&A are presented on a basis consistent with our\n",
      "internal management reporting\n",
      "\n",
      "Revenue, classified by the major geographic areas in which our\n",
      "customers were located, was as follows: (In millions) Year Ended June\n",
      "30, 2022 2021 2020 United States (a) $ 100,218 $ 83,953 $ 73,160 Other\n",
      "countries 98,052 84,135 69,855 Total $ 198,270 $ 168,088 $ 143,015 (a)\n",
      "Includes billings to OEMs and certain multinational organizations\n",
      "because of the nature of these businesses and the impracticability of\n",
      "determining the geographic source of the revenue\n",
      "\n",
      "• Enterprise Services revenue increased $464 million or 7% driven by\n",
      "growth in Enterprise Support Services. Operating income increased $6.6\n",
      "billion or 25%. • Gross margin increased $9.4 billion or 22% driven by\n",
      "growth in Azure and other cloud services. Gross margin percentage\n",
      "decreased. Excluding the impact of the change in accounting estimate,\n",
      "gross margin percentage was relatively unchanged driven by improvement\n",
      "in Azure and other cloud services, offset in part by sales mix shift to\n",
      "Azure and other cloud services. • Operating expenses increased $2.8\n",
      "billion or 16% driven by investments in Azure and other cloud services.\n",
      "Revenue and operating income included an unfavorable foreign currency\n",
      "impact of 2% and 3%, respectively. More Personal Computing Revenue\n",
      "increased $5.6 billion or 10%. • Windows revenue increased $2.3 billion\n",
      "or 10% driven by growth in Windows OEM and Windows Commercial\n",
      "\n",
      "Revenue, classified by significant product and service offerings, was\n",
      "as follows: (In millions) Year Ended June 30, 2022 2021 2020 Server\n",
      "products and cloud services $ 67,321 $ 52,589 $ 41,379 Office products\n",
      "and cloud services 44,862 39,872 35,316 Windows 24,761 22,488 21,510\n",
      "Gaming 16,230 15,370 11,575 LinkedIn 13,816 10,289 8,077 Search and\n",
      "news advertising 11,591 9,267 8,524 Enterprise Services 7,407 6,943\n",
      "6,409 Devices 6,991 6,791 6,457 Other 5,291 4,479 3,768 Total $ 198,270\n",
      "$ 168,088 $ 143,015 We have recast certain previously reported amounts\n",
      "in the table above to conform to the way we internally manage and\n",
      "monitor our business. 83 Our Microsoft Cloud (formerly commercial\n",
      "cloud) revenue, which includes Azure and other cloud services, Office\n",
      "365 Commercial, the commercial portion of LinkedIn, Dynamics 365, and\n",
      "other commercial cloud properties, was $91.2 billion, $69.1 billion and\n",
      "$51.7 billion in fiscal years 2022, 2021, and 2020, respectively\n",
      "\n",
      "----------------------------------------------------------------------------------------------------\n",
      "Query: - Which geographic regions or customer segments experienced the highest revenue growth?\n",
      "\n",
      "Results:\n",
      "Revenue, classified by the major geographic areas in which our\n",
      "customers were located, was as follows: (In millions) Year Ended June\n",
      "30, 2022 2021 2020 United States (a) $ 100,218 $ 83,953 $ 73,160 Other\n",
      "countries 98,052 84,135 69,855 Total $ 198,270 $ 168,088 $ 143,015 (a)\n",
      "Includes billings to OEMs and certain multinational organizations\n",
      "because of the nature of these businesses and the impracticability of\n",
      "determining the geographic source of the revenue\n",
      "\n",
      "dollar relative to certain foreign currencies did not hav e a material\n",
      "impact on reported revenue or expenses from our international\n",
      "operations in fiscal year 2022. Refer to Risk Factors in our fiscal\n",
      "year 2022 Form 10-K for a discussion of these factors and other risks.\n",
      "Seasonality Our revenue fluctuates quarterly and is generally higher in\n",
      "the second and fourth quarters of our fiscal year. Second quarter\n",
      "revenue is driven by corporate year -end spending trends in our major\n",
      "markets and holiday season spending by consumers, and fourth quarter\n",
      "revenue is driven by the volume of multi -year on-premises contracts\n",
      "executed during the period. Reportable Segments We report our financial\n",
      "performance based on the following segments: Productivity and Business\n",
      "Processes, Intelligent Cloud, and More Personal Computing. The segment\n",
      "amounts included in MD&A are presented on a basis consistent with our\n",
      "internal management reporting\n",
      "\n",
      "Each allocation is measured differently based on the specific facts and\n",
      "circumstances of the costs being allocated. Segment revenue and\n",
      "operating income were as follows during the periods presented: (In\n",
      "millions) Year Ended June 30, 2022 2021 2020 Revenue Productivity and\n",
      "Business Processes $ 63,364 $ 53,915 $ 46,398 Intelligent Cloud 75,251\n",
      "60,080 48,366 More Personal Computing 59,655 54,093 48,251 Total $\n",
      "198,270 $ 168,088 $ 143,015 Operating Income Productivity and Business\n",
      "Processes $ 29,687 $ 24,351 $ 18,724 Intelligent Cloud 32,721 26,126\n",
      "18,324 More Personal Computing 20,975 19,439 15,911 Total $ 83,383 $\n",
      "69,916 $ 52,959 No sales to an individual customer or country other\n",
      "than the United States accounted for more than 10% of revenue for\n",
      "fiscal years 2022, 2021, or 2020\n",
      "\n",
      "Revenue, classified by significant product and service offerings, was\n",
      "as follows: (In millions) Year Ended June 30, 2022 2021 2020 Server\n",
      "products and cloud services $ 67,321 $ 52,589 $ 41,379 Office products\n",
      "and cloud services 44,862 39,872 35,316 Windows 24,761 22,488 21,510\n",
      "Gaming 16,230 15,370 11,575 LinkedIn 13,816 10,289 8,077 Search and\n",
      "news advertising 11,591 9,267 8,524 Enterprise Services 7,407 6,943\n",
      "6,409 Devices 6,991 6,791 6,457 Other 5,291 4,479 3,768 Total $ 198,270\n",
      "$ 168,088 $ 143,015 We have recast certain previously reported amounts\n",
      "in the table above to conform to the way we internally manage and\n",
      "monitor our business. 83 Our Microsoft Cloud (formerly commercial\n",
      "cloud) revenue, which includes Azure and other cloud services, Office\n",
      "365 Commercial, the commercial portion of LinkedIn, Dynamics 365, and\n",
      "other commercial cloud properties, was $91.2 billion, $69.1 billion and\n",
      "$51.7 billion in fiscal years 2022, 2021, and 2020, respectively\n",
      "\n",
      "3 billion or 17% driven by growth in Office 365 Commercial and\n",
      "LinkedIn. Gross margin percentage was relatively unchanged. Excluding\n",
      "the impact of the change in accounting estimate, gross margin\n",
      "percentage increased 2 points driven by improvement across all cloud\n",
      "services. • Operating expenses increased $2.0 billion or 11% driven by\n",
      "investments in LinkedIn and cloud engineering. Gross margin and\n",
      "operating income both included an unfavorable foreign currency impact\n",
      "of 2%. Intelligent Cloud Revenue increased $15.2 billion or 25%. •\n",
      "Server products and cloud services revenue increased $14.7 billion or\n",
      "28% driven by Azure and other cloud services. Azure and other cloud\n",
      "services revenue grew 45% driven by growth in our consumption -based\n",
      "services. Server products revenue increased 5% driven by hybrid\n",
      "solutions, including Windows Server and SQL Server running in\n",
      "multi-cloud environments\n",
      "\n",
      "----------------------------------------------------------------------------------------------------\n",
      "Query: - Did the company introduce any new products or services that contributed to revenue increases?\n",
      "\n",
      "Results:\n",
      "3 billion or 14% driven by investments in cloud engineering, LinkedIn,\n",
      "Gaming, and commercial sales. Key changes in operating expenses were: •\n",
      "Research and development expenses increased $3.8 billion or 18% driven\n",
      "by investments in cloud engineering, Gaming, and LinkedIn. • Sales and\n",
      "marketing expenses increased $1.7 billion or 8% driven by investments\n",
      "in commercial sales and LinkedIn. Sales and marketing included a\n",
      "favorable foreign currency impact of 2%. • General and administrative\n",
      "expenses increased $793 million or 16% driven by investments in\n",
      "corporate functions. Operating income increased $13.5 billion or 19%\n",
      "driven by growth across each of our segments. Current year net income\n",
      "and diluted EPS were positively impacted by the net tax benefit related\n",
      "to the transfer of intangible properties, which resulted in an increase\n",
      "to net income and diluted EPS of $3.3 billion and $0.44, respectively\n",
      "\n",
      "• Enterprise Services revenue increased $464 million or 7% driven by\n",
      "growth in Enterprise Support Services. Operating income increased $6.6\n",
      "billion or 25%. • Gross margin increased $9.4 billion or 22% driven by\n",
      "growth in Azure and other cloud services. Gross margin percentage\n",
      "decreased. Excluding the impact of the change in accounting estimate,\n",
      "gross margin percentage was relatively unchanged driven by improvement\n",
      "in Azure and other cloud services, offset in part by sales mix shift to\n",
      "Azure and other cloud services. • Operating expenses increased $2.8\n",
      "billion or 16% driven by investments in Azure and other cloud services.\n",
      "Revenue and operating income included an unfavorable foreign currency\n",
      "impact of 2% and 3%, respectively. More Personal Computing Revenue\n",
      "increased $5.6 billion or 10%. • Windows revenue increased $2.3 billion\n",
      "or 10% driven by growth in Windows OEM and Windows Commercial\n",
      "\n",
      "Revenue, classified by significant product and service offerings, was\n",
      "as follows: (In millions) Year Ended June 30, 2022 2021 2020 Server\n",
      "products and cloud services $ 67,321 $ 52,589 $ 41,379 Office products\n",
      "and cloud services 44,862 39,872 35,316 Windows 24,761 22,488 21,510\n",
      "Gaming 16,230 15,370 11,575 LinkedIn 13,816 10,289 8,077 Search and\n",
      "news advertising 11,591 9,267 8,524 Enterprise Services 7,407 6,943\n",
      "6,409 Devices 6,991 6,791 6,457 Other 5,291 4,479 3,768 Total $ 198,270\n",
      "$ 168,088 $ 143,015 We have recast certain previously reported amounts\n",
      "in the table above to conform to the way we internally manage and\n",
      "monitor our business. 83 Our Microsoft Cloud (formerly commercial\n",
      "cloud) revenue, which includes Azure and other cloud services, Office\n",
      "365 Commercial, the commercial portion of LinkedIn, Dynamics 365, and\n",
      "other commercial cloud properties, was $91.2 billion, $69.1 billion and\n",
      "$51.7 billion in fiscal years 2022, 2021, and 2020, respectively\n",
      "\n",
      "Windows OEM revenue increased 11% driven by continued strength in the\n",
      "commercial PC market, which has higher revenue per license. Windows\n",
      "Commercial products and cloud services revenue increased 11% driven by\n",
      "demand for Microsoft 365. 36 • Search and news advertising revenue\n",
      "increased $2.3 billion or 25%. Search and news advertising revenue\n",
      "excluding traffic acquisition costs increased 27% driven by higher\n",
      "revenue per search and search volume. • Gaming revenue increased $860\n",
      "million or 6% on a strong prior year comparable that benefited from\n",
      "Xbox Series X|S launches and stay -at-home scenarios, driven by growth\n",
      "in Xbox hardware and Xbox content and services. Xbox hardware revenue\n",
      "increased 16% due to continued demand for Xbox Series X|S. Xbox content\n",
      "and services revenue increased 3% driven by growth in Xbox Game Pass\n",
      "subscriptions and first - party content, offset in part by a decline in\n",
      "third-party content. • Surface revenue increased $226 million or 3%\n",
      "\n",
      "3 billion or 17% driven by growth in Office 365 Commercial and\n",
      "LinkedIn. Gross margin percentage was relatively unchanged. Excluding\n",
      "the impact of the change in accounting estimate, gross margin\n",
      "percentage increased 2 points driven by improvement across all cloud\n",
      "services. • Operating expenses increased $2.0 billion or 11% driven by\n",
      "investments in LinkedIn and cloud engineering. Gross margin and\n",
      "operating income both included an unfavorable foreign currency impact\n",
      "of 2%. Intelligent Cloud Revenue increased $15.2 billion or 25%. •\n",
      "Server products and cloud services revenue increased $14.7 billion or\n",
      "28% driven by Azure and other cloud services. Azure and other cloud\n",
      "services revenue grew 45% driven by growth in our consumption -based\n",
      "services. Server products revenue increased 5% driven by hybrid\n",
      "solutions, including Windows Server and SQL Server running in\n",
      "multi-cloud environments\n",
      "\n",
      "----------------------------------------------------------------------------------------------------\n"
     ]
    }
   ],
   "source": [
    "queries = [original_query] + augmented_queries\n",
    "results = chroma_collection.query(query_texts=queries, n_results=5, include=['documents', 'embeddings'])\n",
    "\n",
    "retrieved_documents = results['documents']\n",
    "\n",
    "# Deduplicate the retrieved documents\n",
    "unique_documents = set()\n",
    "for documents in retrieved_documents:\n",
    "    for document in documents:\n",
    "        unique_documents.add(document)\n",
    "\n",
    "for i, documents in enumerate(retrieved_documents):\n",
    "    print(f\"Query: {queries[i]}\")\n",
    "    print('')\n",
    "    print(\"Results:\")\n",
    "    for doc in documents:\n",
    "        print(word_wrap(doc))\n",
    "        print('')\n",
    "    print('-'*100)"
   ]
  },
  {
   "cell_type": "code",
   "execution_count": 20,
   "id": "b1183e75-4c65-422e-bc47-48010d8b29c9",
   "metadata": {
    "height": 130
   },
   "outputs": [
    {
     "name": "stderr",
     "output_type": "stream",
     "text": [
      "100%|██████████| 1/1 [00:00<00:00, 212.26it/s]\n",
      "100%|██████████| 5/5 [00:00<00:00, 236.43it/s]\n"
     ]
    }
   ],
   "source": [
    "original_query_embedding = embedding_function([original_query])\n",
    "augmented_query_embeddings = embedding_function(augmented_queries)\n",
    "\n",
    "project_original_query = project_embeddings(original_query_embedding, umap_transform)\n",
    "project_augmented_queries = project_embeddings(augmented_query_embeddings, umap_transform)\n"
   ]
  },
  {
   "cell_type": "code",
   "execution_count": 21,
   "id": "5fcd85cc-8898-41ed-a0aa-bd8a33fc565a",
   "metadata": {
    "height": 81
   },
   "outputs": [
    {
     "name": "stderr",
     "output_type": "stream",
     "text": [
      "100%|██████████| 30/30 [00:00<00:00, 267.24it/s]\n"
     ]
    }
   ],
   "source": [
    "result_embeddings = results['embeddings']\n",
    "result_embeddings = [item for sublist in result_embeddings for item in sublist]\n",
    "projected_result_embeddings = project_embeddings(result_embeddings, umap_transform)\n"
   ]
  },
  {
   "cell_type": "code",
   "execution_count": 22,
   "id": "c65337e9-85ee-47f7-89fd-7fe77cd0e1b2",
   "metadata": {
    "height": 215
   },
   "outputs": [
    {
     "data": {
      "text/plain": [
       "(np.float64(-2.481528162956238),\n",
       " np.float64(6.624906897544861),\n",
       " np.float64(3.7107146739959718),\n",
       " np.float64(11.944174432754517))"
      ]
     },
     "execution_count": 22,
     "metadata": {},
     "output_type": "execute_result"
    },
    {
     "data": {
      "image/png": "[encoded data removed]",
      "text/plain": [
       "<Figure size 640x480 with 1 Axes>"
      ]
     },
     "metadata": {},
     "output_type": "display_data"
    }
   ],
   "source": [
    "import matplotlib.pyplot as plt\n",
    "\n",
    "plt.figure()\n",
    "plt.scatter(projected_dataset_embeddings[:, 0], projected_dataset_embeddings[:, 1], s=10, color='gray')\n",
    "plt.scatter(project_augmented_queries[:, 0], project_augmented_queries[:, 1], s=150, marker='X', color='orange')\n",
    "plt.scatter(projected_result_embeddings[:, 0], projected_result_embeddings[:, 1], s=100, facecolors='none', edgecolors='g')\n",
    "plt.scatter(project_original_query[:, 0], project_original_query[:, 1], s=150, marker='X', color='r')\n",
    "\n",
    "plt.gca().set_aspect('equal', 'datalim')\n",
    "plt.title(f'{original_query}')\n",
    "plt.axis('off')"
   ]
  }
 ],
 "metadata": {
  "kernelspec": {
   "display_name": "adv-retrieval-w-chroma (3.13.3)",
   "language": "python",
   "name": "python3"
  },
  "language_info": {
   "codemirror_mode": {
    "name": "ipython",
    "version": 3
   },
   "file_extension": ".py",
   "mimetype": "text/x-python",
   "name": "python",
   "nbconvert_exporter": "python",
   "pygments_lexer": "ipython3",
   "version": "3.13.3"
  }
 },
 "nbformat": 4,
 "nbformat_minor": 5
}
