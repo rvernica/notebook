{
 "cells": [
  {
   "cell_type": "markdown",
   "id": "67a33665-b829-463b-ac95-e2262cf460fc",
   "metadata": {},
   "source": [
    "## Lab 2 -Pitfalls of retrieval - when simple vector search fails! "
   ]
  },
  {
   "cell_type": "code",
   "execution_count": null,
   "id": "5a5536f0-651c-40e7-aa15-27ee0cda80b7",
   "metadata": {
    "height": 147
   },
   "outputs": [
    {
     "data": {
      "text/plain": [
       "307"
      ]
     },
     "execution_count": 9,
     "metadata": {},
     "output_type": "execute_result"
    }
   ],
   "source": [
    "import chromadb\n",
    "import os\n",
    "from helper_utils import word_wrap\n",
    "from chromadb.utils.embedding_functions import OpenAIEmbeddingFunction\n",
    "\n",
    "openai_api_key = os.environ['OPENAI_API_KEY']\n",
    "embedding_function = OpenAIEmbeddingFunction(api_key=openai_api_key, model_name=\"text-embedding-3-small\")\n",
    "\n",
    "chroma_collection = chromadb.PersistentClient('microsoft_annual_report_2022').create_collection(\n",
    "    \"microsoft_annual_report_2022\", \n",
    "    embedding_function=embedding_function,\n",
    "    get_or_create=True)\n",
    "\n",
    "chroma_collection.count()"
   ]
  },
  {
   "cell_type": "code",
   "execution_count": 26,
   "id": "3748b16d-d4a7-49c3-a48a-57dcfc42acd6",
   "metadata": {
    "height": 115
   },
   "outputs": [
    {
     "name": "stderr",
     "output_type": "stream",
     "text": [
      "/home/rares/proj/notebook/adv-retrieval-w-chroma/.venv/lib/python3.13/site-packages/umap/umap_.py:1952: UserWarning: n_jobs value 1 overridden to 1 by setting random_state. Use no seed for parallelism.\n",
      "  warn(\n"
     ]
    }
   ],
   "source": [
    "import umap # pip install umap-learn\n",
    "import numpy as np\n",
    "from tqdm import tqdm\n",
    "\n",
    "embeddings = chroma_collection.get(include=['embeddings'])['embeddings']\n",
    "umap_transform = umap.UMAP(random_state=0, transform_seed=0).fit(embeddings)"
   ]
  },
  {
   "cell_type": "code",
   "execution_count": 11,
   "id": "a338ec83-6301-41a5-9ab1-e5d583306a3f",
   "metadata": {
    "height": 98
   },
   "outputs": [],
   "source": [
    "def project_embeddings(embeddings, umap_transform):\n",
    "    umap_embeddings = np.empty((len(embeddings),2))\n",
    "    for i, embedding in enumerate(tqdm(embeddings)):\n",
    "        umap_embeddings[i] = umap_transform.transform([embedding])\n",
    "    return umap_embeddings"
   ]
  },
  {
   "cell_type": "code",
   "execution_count": 12,
   "id": "888a86f8-2fe2-4682-bdaf-c15129ed1a32",
   "metadata": {
    "height": 30
   },
   "outputs": [
    {
     "name": "stderr",
     "output_type": "stream",
     "text": [
      "100%|██████████| 307/307 [00:05<00:00, 59.79it/s] \n"
     ]
    }
   ],
   "source": [
    "projected_dataset_embeddings = project_embeddings(embeddings, umap_transform)"
   ]
  },
  {
   "cell_type": "code",
   "execution_count": 13,
   "id": "5665c695-22ea-4264-b1ac-5ba720b6d78b",
   "metadata": {
    "height": 147
   },
   "outputs": [
    {
     "data": {
      "text/plain": [
       "(np.float64(-2.481528162956238),\n",
       " np.float64(6.624906897544861),\n",
       " np.float64(3.7107146739959718),\n",
       " np.float64(11.944174432754517))"
      ]
     },
     "execution_count": 13,
     "metadata": {},
     "output_type": "execute_result"
    },
    {
     "data": {
      "image/png": "[encoded data removed]",
      "text/plain": [
       "<Figure size 640x480 with 1 Axes>"
      ]
     },
     "metadata": {},
     "output_type": "display_data"
    }
   ],
   "source": [
    "import matplotlib.pyplot as plt\n",
    "\n",
    "plt.figure()\n",
    "plt.scatter(projected_dataset_embeddings[:, 0], projected_dataset_embeddings[:, 1], s=10)\n",
    "plt.gca().set_aspect('equal', 'datalim')\n",
    "plt.title('Projected Embeddings')\n",
    "plt.axis('off')"
   ]
  },
  {
   "cell_type": "markdown",
   "id": "b6bc10a6-68b0-4086-b2d1-86464b761e32",
   "metadata": {},
   "source": [
    "## Relevancy and Distraction"
   ]
  },
  {
   "cell_type": "code",
   "execution_count": 14,
   "id": "8ba6c8c5-9ce4-44d0-9223-6fdd77871f87",
   "metadata": {
    "height": 181
   },
   "outputs": [
    {
     "name": "stdout",
     "output_type": "stream",
     "text": [
      "Revenue Product Revenue and Service and Other Revenue Product revenue\n",
      "includes sales from operating systems, cross -device productivity\n",
      "applications, server applications, business solution applications,\n",
      "desktop and server management tools, software development tools, video\n",
      "games, and hardware such as PCs, tablets, gaming and entertainment\n",
      "consoles, other intelligent devices, and related accessories. 53\n",
      "Service and other revenue includes sales from cloud -based solutions\n",
      "that provide customers with software, services, platforms, and content\n",
      "such as Office 365, Azure, Dynamics 365, and Xbox; solution support;\n",
      "and consulting services. Service and other revenue also includes sales\n",
      "from online advertising and LinkedIn. Revenue Recognition Revenue is\n",
      "recognized upon transfer of control of promised products or services to\n",
      "customers in an amount that reflects the consideration we expect to\n",
      "receive in exchange for those products or services\n",
      "\n",
      "Revenue, classified by significant product and service offerings, was\n",
      "as follows: (In millions) Year Ended June 30, 2022 2021 2020 Server\n",
      "products and cloud services $ 67,321 $ 52,589 $ 41,379 Office products\n",
      "and cloud services 44,862 39,872 35,316 Windows 24,761 22,488 21,510\n",
      "Gaming 16,230 15,370 11,575 LinkedIn 13,816 10,289 8,077 Search and\n",
      "news advertising 11,591 9,267 8,524 Enterprise Services 7,407 6,943\n",
      "6,409 Devices 6,991 6,791 6,457 Other 5,291 4,479 3,768 Total $ 198,270\n",
      "$ 168,088 $ 143,015 We have recast certain previously reported amounts\n",
      "in the table above to conform to the way we internally manage and\n",
      "monitor our business. 83 Our Microsoft Cloud (formerly commercial\n",
      "cloud) revenue, which includes Azure and other cloud services, Office\n",
      "365 Commercial, the commercial portion of LinkedIn, Dynamics 365, and\n",
      "other commercial cloud properties, was $91.2 billion, $69.1 billion and\n",
      "$51.7 billion in fiscal years 2022, 2021, and 2020, respectively\n",
      "\n",
      "We enter into contracts that can include various combinations of\n",
      "products and services, which are generally capable of being distinct\n",
      "and accounted for as separate performance obligations. Revenue is\n",
      "recognized net of allowances for returns and any taxes collected from\n",
      "customers, which are subsequently remitted to governmental authorities.\n",
      "Nature of Products and Services Licenses for on-premises software\n",
      "provide the customer with a right to use the software as it exists when\n",
      "made available to the customer. Customers may purchase perpetual\n",
      "licenses or subscribe to licenses, which provide customers with the\n",
      "same functionality and differ mainly in the duration over which the\n",
      "customer benefits from the software. Revenue from distinct on -premises\n",
      "licenses is recognized upfront at the point in time when the software\n",
      "is made available to the customer\n",
      "\n",
      "Revenue, classified by the major geographic areas in which our\n",
      "customers were located, was as follows: (In millions) Year Ended June\n",
      "30, 2022 2021 2020 United States (a) $ 100,218 $ 83,953 $ 73,160 Other\n",
      "countries 98,052 84,135 69,855 Total $ 198,270 $ 168,088 $ 143,015 (a)\n",
      "Includes billings to OEMs and certain multinational organizations\n",
      "because of the nature of these businesses and the impracticability of\n",
      "determining the geographic source of the revenue\n",
      "\n",
      "85 Revenue Recognition – Refer to Note 1 to the financial statements\n",
      "Critical Audit Matter Description The Company recognizes revenue upon\n",
      "transfer of control of promised products or services to customers in an\n",
      "amount that reflects the consideration the Company expects to receive\n",
      "in exchange for those products or services. The Company offers\n",
      "customers the ability to acquire multiple licenses of software products\n",
      "and services, including cloud -based services, in its customer\n",
      "agreements through its volume licensing programs. Significant judgment\n",
      "is exercised by the Company in determining revenue recognition for\n",
      "these customer agreements, and includes the following: • Determination\n",
      "of whether products and services are considered distinct performance\n",
      "obligations that should be accounted for separately versus together,\n",
      "such as software licenses and related services that are sold with cloud\n",
      "- based services. • The pattern of delivery (i.e\n",
      "\n"
     ]
    }
   ],
   "source": [
    "query = \"What is the total revenue?\"\n",
    "\n",
    "results = chroma_collection.query(query_texts=query, n_results=5, include=['documents', 'embeddings'])\n",
    "\n",
    "retrieved_documents = results['documents'][0]\n",
    "\n",
    "for document in results['documents'][0]:\n",
    "    print(word_wrap(document))\n",
    "    print('')"
   ]
  },
  {
   "cell_type": "code",
   "execution_count": 15,
   "id": "bfdb54db-a442-423c-b006-c33a257cd7d7",
   "metadata": {
    "height": 130
   },
   "outputs": [
    {
     "name": "stderr",
     "output_type": "stream",
     "text": [
      "100%|██████████| 1/1 [00:00<00:00, 137.29it/s]\n",
      "100%|██████████| 5/5 [00:00<00:00, 142.08it/s]\n"
     ]
    }
   ],
   "source": [
    "query_embedding = embedding_function([query])[0]\n",
    "retrieved_embeddings = results['embeddings'][0]\n",
    "\n",
    "projected_query_embedding = project_embeddings([query_embedding], umap_transform)\n",
    "projected_retrieved_embeddings = project_embeddings(retrieved_embeddings, umap_transform)\n"
   ]
  },
  {
   "cell_type": "code",
   "execution_count": 16,
   "id": "377a84aa-1d93-4e97-9b2d-d59c46355338",
   "metadata": {
    "height": 181
   },
   "outputs": [
    {
     "data": {
      "text/plain": [
       "(np.float64(-2.481528162956238),\n",
       " np.float64(6.624906897544861),\n",
       " np.float64(3.7107146739959718),\n",
       " np.float64(11.944174432754517))"
      ]
     },
     "execution_count": 16,
     "metadata": {},
     "output_type": "execute_result"
    },
    {
     "data": {
      "image/png": "[encoded data removed]",
      "text/plain": [
       "<Figure size 640x480 with 1 Axes>"
      ]
     },
     "metadata": {},
     "output_type": "display_data"
    }
   ],
   "source": [
    "# Plot the projected query and retrieved documents in the embedding space\n",
    "plt.figure()\n",
    "plt.scatter(projected_dataset_embeddings[:, 0], projected_dataset_embeddings[:, 1], s=10, color='gray')\n",
    "plt.scatter(projected_query_embedding[:, 0], projected_query_embedding[:, 1], s=150, marker='X', color='r')\n",
    "plt.scatter(projected_retrieved_embeddings[:, 0], projected_retrieved_embeddings[:, 1], s=100, facecolors='none', edgecolors='g')\n",
    "\n",
    "plt.gca().set_aspect('equal', 'datalim')\n",
    "plt.title(f'{query}')\n",
    "plt.axis('off')"
   ]
  },
  {
   "cell_type": "code",
   "execution_count": 17,
   "id": "ba0ed8ca-6640-4c09-9cb3-9de5e7cf46dc",
   "metadata": {
    "height": 164
   },
   "outputs": [
    {
     "name": "stdout",
     "output_type": "stream",
     "text": [
      "The ability to convert data into AI drives our competitive advantage.\n",
      "Azure SQL Database makes it possible for customers to take SQL Server\n",
      "from their on -premises datacenter to a fully managed instance in the\n",
      "cloud to utilize built -in AI. Azure Synapse brings together data\n",
      "integration, enterprise data warehousing, and big data analytics in a\n",
      "comprehensive solution. We are accelerating adoption of AI innovations\n",
      "from research to products. Our innovation helps every developer be an\n",
      "AI developer, with approachable new tools from Azure Machine Learning\n",
      "Studio for creating simple machine learning models, to the powerful\n",
      "Azure Machine Learning Workbench for the most advanced AI modeling and\n",
      "data science. From GitHub to Visual Studio, we provide a developer tool\n",
      "chain for everyone, no matter the technical experience, across all\n",
      "platforms, whether Azure, Windows, or any other cloud or client\n",
      "platform\n",
      "\n",
      "We released our Responsible AI Standard, which outlines 17 goals\n",
      "aligned to our six AI principles and includes tools and practices to\n",
      "support them. And we share our open -source tools, including the new\n",
      "Responsible AI Dashboard, to help developers building AI technologies\n",
      "identify and mitigate issues before deployment. Finally, we provide\n",
      "clear reporting and information on how we run our business and how we\n",
      "work with customers and partners, delivering the transparency that is\n",
      "central to trust. Our annual Impact Summary shares more about our\n",
      "progress and learnings across these four commitments, and our Reports\n",
      "Hub provides detailed reports on our environmental data, our political\n",
      "activities, our workforce demographics, our human rights work, and\n",
      "more. We should all be proud of this work —and I am. But it’s easy to\n",
      "talk about what we’re doing well. As we look to the next year and\n",
      "beyond, we’ll continue to reflect on where the world needs us to do\n",
      "better\n",
      "\n",
      "• Technology and Research , focuses on our AI innovations and other\n",
      "forward -looking research and development efforts spanning\n",
      "infrastructure, services, and applications. • LinkedIn, focuses on our\n",
      "services that transform the way customers hire, market, sell, and\n",
      "learn. 26 • Gaming, focuses on developing hardware, content, and\n",
      "services across a large range of platforms to help grow our user base\n",
      "through game experiences and social interaction. Internal development\n",
      "allows us to maintain competitive advantages that come from product\n",
      "differentiation and closer technical control over our products and\n",
      "services. It also gives us the freedom to decide which modifications\n",
      "and enhancements are most important and when they should be\n",
      "implemented. We strive to obtain information as early as possible about\n",
      "changing usage patterns and hardware advances that may affect software\n",
      "and hardware design\n",
      "\n",
      "And, through our AI for Humanitarian Action initiative, we’re helping\n",
      "organizations harness the power of AI to improve their disaster\n",
      "preparedness, response, and recovery. Finally, we continued working\n",
      "toward our five -year commitment to bridge the disability divide for\n",
      "the more than 1 billion people around the world with disabilities,\n",
      "seeking to expand accessibility in technology, the workforce, and 3\n",
      "workplace. As just one example of this work, use of our Office\n",
      "Accessibility Checker —our “spell check” for accessibility — has grown\n",
      "by 9x over the past year. And, along with partner companies, we\n",
      "launched the Neurodiversity Career Connector, a jobs marketplace for\n",
      "neurodivergent job seekers. Create a sustainable future We must ensure\n",
      "that economic growth does not come at the expense of our planet.\n",
      "Addressing climate change requires swift, collective action and\n",
      "technical innovation\n",
      "\n",
      "Our goal is to lead the industry in several distinct areas of\n",
      "technology over the long term, which we expect will translate to\n",
      "sustained growth. We are investing significant resources in: •\n",
      "Transforming the workplace to deliver new modern, modular business\n",
      "applications, drive deeper insights, and improve how people\n",
      "communicate, collaborate, learn, work, play, and interact with one\n",
      "another. • Building and running cloud -based services in ways that\n",
      "unleash new experiences and opportunities for businesses and\n",
      "individuals. • Applying AI to drive insights and act on our customer’s\n",
      "behalf by understanding and interpreting their needs using natural\n",
      "methods of communication. • Tackling security from all angles with our\n",
      "integrated, end -to-end solutions spanning security, compliance,\n",
      "identity, and management, across all clouds and platforms\n",
      "\n"
     ]
    }
   ],
   "source": [
    "query = \"What is the strategy around artificial intelligence (AI) ?\"\n",
    "results = chroma_collection.query(query_texts=query, n_results=5, include=['documents', 'embeddings'])\n",
    "\n",
    "retrieved_documents = results['documents'][0]\n",
    "\n",
    "for document in results['documents'][0]:\n",
    "    print(word_wrap(document))\n",
    "    print('')"
   ]
  },
  {
   "cell_type": "code",
   "execution_count": 18,
   "id": "28bac3a2-0d29-48dc-9b48-2d9313239a25",
   "metadata": {
    "height": 130
   },
   "outputs": [
    {
     "name": "stderr",
     "output_type": "stream",
     "text": [
      "100%|██████████| 1/1 [00:00<00:00, 184.02it/s]\n",
      "100%|██████████| 5/5 [00:00<00:00, 230.25it/s]\n"
     ]
    }
   ],
   "source": [
    "query_embedding = embedding_function([query])[0]\n",
    "retrieved_embeddings = results['embeddings'][0]\n",
    "\n",
    "projected_query_embedding = project_embeddings([query_embedding], umap_transform)\n",
    "projected_retrieved_embeddings = project_embeddings(retrieved_embeddings, umap_transform)\n"
   ]
  },
  {
   "cell_type": "code",
   "execution_count": 19,
   "id": "db9f2758-0f5a-49e5-b1fa-517b91324575",
   "metadata": {
    "height": 181
   },
   "outputs": [
    {
     "data": {
      "text/plain": [
       "(np.float64(-2.481528162956238),\n",
       " np.float64(6.624906897544861),\n",
       " np.float64(3.7107146739959718),\n",
       " np.float64(11.944174432754517))"
      ]
     },
     "execution_count": 19,
     "metadata": {},
     "output_type": "execute_result"
    },
    {
     "data": {
      "image/png": "[encoded data removed]",
      "text/plain": [
       "<Figure size 640x480 with 1 Axes>"
      ]
     },
     "metadata": {},
     "output_type": "display_data"
    }
   ],
   "source": [
    "# Plot the projected query and retrieved documents in the embedding space\n",
    "plt.figure()\n",
    "plt.scatter(projected_dataset_embeddings[:, 0], projected_dataset_embeddings[:, 1], s=10, color='gray')\n",
    "plt.scatter(projected_query_embedding[:, 0], projected_query_embedding[:, 1], s=150, marker='X', color='r')\n",
    "plt.scatter(projected_retrieved_embeddings[:, 0], projected_retrieved_embeddings[:, 1], s=100, facecolors='none', edgecolors='g')\n",
    "\n",
    "plt.gca().set_aspect('equal', 'datalim')\n",
    "plt.title(f'{query}')\n",
    "plt.axis('off')"
   ]
  },
  {
   "cell_type": "code",
   "execution_count": 20,
   "id": "aee59493-8a99-4da8-b94f-4747efcfc79d",
   "metadata": {
    "height": 164
   },
   "outputs": [
    {
     "name": "stdout",
     "output_type": "stream",
     "text": [
      "Research and Development Research and development expenses include\n",
      "payroll, employee benefits, stock -based compensation expense, and\n",
      "other headcount-related expenses associated with product development.\n",
      "Research and development expenses also include third-party development\n",
      "and programming costs, localization costs incurred to translate\n",
      "software for international markets, and the amortization of purchased\n",
      "software code and services content. Such costs related to software\n",
      "development are included in research and development expense until the\n",
      "point that technological feasibility is reached, which for our software\n",
      "products, is generally shortly before the products are released to\n",
      "production. Once technological feasibility is reached, such costs are\n",
      "capitalized and amortized to cost of revenue over the estimated lives\n",
      "of the products\n",
      "\n",
      "We believe our continuing research and product development are not\n",
      "materially dependent on any single license or other agreement with a\n",
      "third party relating to the development of our products. Investing in\n",
      "the Future Our success is based on our ability to create new and\n",
      "compelling products, services, and experiences for our users, to\n",
      "initiate and embrace disruptive technology trends, to enter new\n",
      "geographic and product markets, and to drive broad adoption of our\n",
      "products and services. We invest in a range of emerging technology\n",
      "trends and breakthroughs that we believe offer significant\n",
      "opportunities to deliver value to our customers and growth for the\n",
      "Company. Based on our assessment of key technology trends, we maintain\n",
      "our long-term commitment to research and development across a wide\n",
      "spectrum of technologies, tools, and platforms spanning digital work\n",
      "and life experiences, cloud computing, AI, devices, and operating\n",
      "systems\n",
      "\n",
      "While our main product research and development facilities are located\n",
      "in Redmond, Washington, we also operate research and development\n",
      "facilities in other parts of the U.S. and around the world. This global\n",
      "approach helps us remain competitive in local markets and enables us to\n",
      "continue to attract top talent from across the world. We plan to\n",
      "continue to make significant investments in a broad range of product\n",
      "research and development activities, and as appropriate we will\n",
      "coordinate our research and development across operating segments and\n",
      "leverage the results across the Company. In addition to our main\n",
      "research and development operations, we also operate Microsoft Research\n",
      "\n",
      "RESEARCH AND DEVELOPMENT Product and Service Development, and\n",
      "Intellectual Property We develop most of our products and services\n",
      "internally through the following engineering groups. • Cloud and AI ,\n",
      "focuses on making IT professionals, developers, and their systems more\n",
      "productive and efficient through development of cloud infrastructure,\n",
      "server, database, CRM, ERP, software development tools and services\n",
      "(including GitHub), AI cognitive services, and other business process\n",
      "applications and services for enterprises. • Experiences and Devices,\n",
      "focuses on instilling a unifying product ethos across our end -user\n",
      "experiences and devices, including Office, Windows, Teams, consumer web\n",
      "experiences (including search and news advertising), and the Surface\n",
      "line of devices. • Security, Compliance, Identity, and Management ,\n",
      "focuses on cloud platform and application security, identity and\n",
      "network access, enterprise mobility, information protection, and\n",
      "managed services\n",
      "\n",
      "Operating income increased $1.5 billion or 8%. • Gross margin increased\n",
      "$3.1 billion or 10% driven by growth in Windows and Search and news\n",
      "advertising. Gross margin percentage was relatively unchanged. •\n",
      "Operating expenses increased $1.5 billion or 14% driven by investments\n",
      "in Gaming, Search and news advertising, and Windows marketing.\n",
      "OPERATING EXPENSES Research and Development (In millions, except\n",
      "percentages) 2022 2021 Percentage Change Research and development $\n",
      "24,512 $ 20,716 18% As a percent of revenue 12% 12% 0ppt Research and\n",
      "development expenses include payroll, employee benefits, stock -based\n",
      "compensation expense, and other headcount-related expenses associated\n",
      "with product development. Research and development expenses also\n",
      "include third-party development and programming costs, localization\n",
      "costs incurred to translate software for international markets, and the\n",
      "amortization of purchased software code and services content. Research\n",
      "and development expenses increased $3\n",
      "\n"
     ]
    }
   ],
   "source": [
    "query = \"What has been the investment in research and development?\"\n",
    "results = chroma_collection.query(query_texts=query, n_results=5, include=['documents', 'embeddings'])\n",
    "\n",
    "retrieved_documents = results['documents'][0]\n",
    "\n",
    "for document in results['documents'][0]:\n",
    "    print(word_wrap(document))\n",
    "    print('')"
   ]
  },
  {
   "cell_type": "code",
   "execution_count": 21,
   "id": "f5eda9bc-ae76-4db6-9e0c-ae099d852d78",
   "metadata": {
    "height": 130
   },
   "outputs": [
    {
     "name": "stderr",
     "output_type": "stream",
     "text": [
      "100%|██████████| 1/1 [00:00<00:00, 210.80it/s]\n",
      "100%|██████████| 5/5 [00:00<00:00, 208.36it/s]\n"
     ]
    }
   ],
   "source": [
    "query_embedding = embedding_function([query])[0]\n",
    "retrieved_embeddings = results['embeddings'][0]\n",
    "\n",
    "projected_query_embedding = project_embeddings([query_embedding], umap_transform)\n",
    "projected_retrieved_embeddings = project_embeddings(retrieved_embeddings, umap_transform)\n"
   ]
  },
  {
   "cell_type": "code",
   "execution_count": 22,
   "id": "b1183e75-4c65-422e-bc47-48010d8b29c9",
   "metadata": {
    "height": 181
   },
   "outputs": [
    {
     "data": {
      "text/plain": [
       "(np.float64(-2.481528162956238),\n",
       " np.float64(6.624906897544861),\n",
       " np.float64(3.7107146739959718),\n",
       " np.float64(11.944174432754517))"
      ]
     },
     "execution_count": 22,
     "metadata": {},
     "output_type": "execute_result"
    },
    {
     "data": {
      "image/png": "[encoded data removed]",
      "text/plain": [
       "<Figure size 640x480 with 1 Axes>"
      ]
     },
     "metadata": {},
     "output_type": "display_data"
    }
   ],
   "source": [
    "# Plot the projected query and retrieved documents in the embedding space\n",
    "plt.figure()\n",
    "plt.scatter(projected_dataset_embeddings[:, 0], projected_dataset_embeddings[:, 1], s=10, color='gray')\n",
    "plt.scatter(projected_query_embedding[:, 0], projected_query_embedding[:, 1], s=150, marker='X', color='r')\n",
    "plt.scatter(projected_retrieved_embeddings[:, 0], projected_retrieved_embeddings[:, 1], s=100, facecolors='none', edgecolors='g')\n",
    "\n",
    "plt.gca().set_aspect('equal', 'datalim')\n",
    "plt.title(f'{query}')\n",
    "plt.axis('off')"
   ]
  },
  {
   "cell_type": "code",
   "execution_count": 23,
   "id": "5fcd85cc-8898-41ed-a0aa-bd8a33fc565a",
   "metadata": {
    "height": 164
   },
   "outputs": [
    {
     "name": "stdout",
     "output_type": "stream",
     "text": [
      "We also increased the number of identified partners in the Black\n",
      "Partner Growth Initiative and continue to invest in the partner\n",
      "community through the Black Channel Partner Alliance by supporting\n",
      "events focused on business growth, accelerators, and mentorship.\n",
      "Progress does not undo the egregious injustices of the past or diminish\n",
      "those who continue to live with inequity. We are committed to\n",
      "leveraging our resources to help accelerate diversity and inclusion\n",
      "across our ecosystem and to hold ourselves accountable to accelerate\n",
      "change – for Microsoft, and beyond. Investing in Digital Skills The\n",
      "COVID-19 pandemic led to record unemployment, disrupting livelihoods of\n",
      "people around the world. After helping over 30 million people in 249\n",
      "countries and territories with our global skills initiative, we\n",
      "introduced a new initiative to support a more skills -based labor\n",
      "market, with greater flexibility and accessible learning paths to\n",
      "develop the right skills needed for the most in-demand jobs\n",
      "\n",
      "16 • Increasing representation and strengthening inclusion: build on\n",
      "our momentum, adding a $150 million investment to strengthen inclusion\n",
      "and double the number of Black, African American, Hispanic, and Latinx\n",
      "leaders in the United States by 2025. Over the last year, we\n",
      "collaborated with partners and worked within neighborhoods and\n",
      "communities to launch and scale a number of projects and programs,\n",
      "including: working with 70 organizations in 145 communities on the\n",
      "Justice Reform Initiative, expanding access to affordable broadband and\n",
      "devices for Black and African American communities and key institutions\n",
      "that support them in major urban centers, expanding access to skills\n",
      "and education to support Black and African American students and adults\n",
      "to succeed in the digital economy, and increasing technology support\n",
      "for nonprofits that provide critical services to Black and African\n",
      "American communities. We have made meaningful progress on\n",
      "representation and inclusion at Microsoft\n",
      "\n",
      "We are one of the most transparent companies of our size when it comes\n",
      "to the data we share, and we continually challenge ourselves to\n",
      "increase visibility into where we’re succeeding and where we need to\n",
      "address gaps. We’ve added new data, such as military status, gender\n",
      "representation by geography, employee exits, and additional pay data,\n",
      "to reflect our workforce more broadly. As we make meaningful progress,\n",
      "we continue our commitment to meet the increasing expectations for\n",
      "driving innovation, welcoming diverse perspectives, and leading global\n",
      "change. Giving is also core to our culture at Microsoft. In 2022, our\n",
      "employees gave $255 million (with company match) to over 32,000\n",
      "nonprofits. And more than 29,000 employees volunteered over 720,000\n",
      "hours to causes they care about. I’m constantly in awe of how our\n",
      "employees bring their passion to work each day —for each other, for our\n",
      "customers, and for their communities\n",
      "\n",
      "We’re continuing our pursuit of our own ambitious commitments and\n",
      "helping others achieve their climate goals, aided by technology. In\n",
      "March, we released our second annual sustainability report, sharing our\n",
      "progress, challenges, and learnings as we pursue our commitments to\n",
      "become carbon negative, water positive, and zero waste. Although we\n",
      "continued to make progress on several of our goals with an overall\n",
      "reduction in Scope 1 and Scope 2 emissions, our Scope 3 emissions\n",
      "increased, due in large part to significant global datacenter\n",
      "expansions and the growth in Xbox sales and usage. Despite these\n",
      "increases, we remain dedicated to achieving a net -zero future. We\n",
      "recognize that progress won’t always be linear, and the rate at which\n",
      "we can implement emissions reductions is dependent on many factors that\n",
      "can fluctuate over time. On the path to becoming water positive, we\n",
      "invested in 21 water replenishment projects that are expected to\n",
      "generate over 1\n",
      "\n",
      "While we continued to make progress on several of our goals, with an\n",
      "overall reduction in our combined Scope 1 and Scope 2 emissions, our\n",
      "Scope 3 emissions increased, due in substantial part to significant\n",
      "global datacenter expansions and growth in Xbox sales and usage as a\n",
      "result of the COVID-19 pandemic. Despite these Scope 3 increases, we\n",
      "will continue to build the foundations and do the work to deliver on\n",
      "our commitments, and help our customers and partners achieve theirs. We\n",
      "have learned the impact of our work will not all be felt immediately,\n",
      "and our experience highlights how progress won’t always be linear.\n",
      "While fiscal year 2021 presented us with some new learnings, we also\n",
      "made some great progress. A few examples that illuminate the diversity\n",
      "of our work include: • We purchased the removal of 1.4 million metrics\n",
      "tons of carbon. • Four of our datacenters received new or renewed Zero\n",
      "Waste certifications\n",
      "\n"
     ]
    }
   ],
   "source": [
    "query = \"What has Michael Jordan done for us lately?\"\n",
    "results = chroma_collection.query(query_texts=query, n_results=5, include=['documents', 'embeddings'])\n",
    "\n",
    "retrieved_documents = results['documents'][0]\n",
    "\n",
    "for document in results['documents'][0]:\n",
    "    print(word_wrap(document))\n",
    "    print('')"
   ]
  },
  {
   "cell_type": "code",
   "execution_count": 24,
   "id": "c65337e9-85ee-47f7-89fd-7fe77cd0e1b2",
   "metadata": {
    "height": 130
   },
   "outputs": [
    {
     "name": "stderr",
     "output_type": "stream",
     "text": [
      "100%|██████████| 1/1 [00:00<00:00, 247.88it/s]\n",
      "100%|██████████| 5/5 [00:00<00:00, 228.08it/s]\n"
     ]
    }
   ],
   "source": [
    "query_embedding = embedding_function([query])[0]\n",
    "retrieved_embeddings = results['embeddings'][0]\n",
    "\n",
    "projected_query_embedding = project_embeddings([query_embedding], umap_transform)\n",
    "projected_retrieved_embeddings = project_embeddings(retrieved_embeddings, umap_transform)\n"
   ]
  },
  {
   "cell_type": "code",
   "execution_count": 25,
   "id": "a7794092-4195-4cf3-9eab-11c9c05a26b9",
   "metadata": {
    "height": 181
   },
   "outputs": [
    {
     "data": {
      "text/plain": [
       "(np.float64(-2.481528162956238),\n",
       " np.float64(6.624906897544861),\n",
       " np.float64(3.7107146739959718),\n",
       " np.float64(11.944174432754517))"
      ]
     },
     "execution_count": 25,
     "metadata": {},
     "output_type": "execute_result"
    },
    {
     "data": {
      "image/png": "[encoded data removed]",
      "text/plain": [
       "<Figure size 640x480 with 1 Axes>"
      ]
     },
     "metadata": {},
     "output_type": "display_data"
    }
   ],
   "source": [
    "# Plot the projected query and retrieved documents in the embedding space\n",
    "plt.figure()\n",
    "plt.scatter(projected_dataset_embeddings[:, 0], projected_dataset_embeddings[:, 1], s=10, color='gray')\n",
    "plt.scatter(projected_query_embedding[:, 0], projected_query_embedding[:, 1], s=150, marker='X', color='r')\n",
    "plt.scatter(projected_retrieved_embeddings[:, 0], projected_retrieved_embeddings[:, 1], s=100, facecolors='none', edgecolors='g')\n",
    "\n",
    "plt.gca().set_aspect('equal', 'datalim')\n",
    "plt.title(f'{query}')\n",
    "plt.axis('off')"
   ]
  }
 ],
 "metadata": {
  "kernelspec": {
   "display_name": "adv-retrieval-w-chroma (3.13.3)",
   "language": "python",
   "name": "python3"
  },
  "language_info": {
   "codemirror_mode": {
    "name": "ipython",
    "version": 3
   },
   "file_extension": ".py",
   "mimetype": "text/x-python",
   "name": "python",
   "nbconvert_exporter": "python",
   "pygments_lexer": "ipython3",
   "version": "3.13.3"
  }
 },
 "nbformat": 4,
 "nbformat_minor": 5
}
