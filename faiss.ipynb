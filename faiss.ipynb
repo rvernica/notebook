{
  "cells": [
    {
      "cell_type": "markdown",
      "metadata": {
        "id": "view-in-github",
        "colab_type": "text"
      },
      "source": [
        "<a href=\"https://colab.research.google.com/github/rvernica/notebook/blob/main/faiss.ipynb\" target=\"_parent\"><img src=\"https://colab.research.google.com/assets/colab-badge.svg\" alt=\"Open In Colab\"/></a>"
      ]
    },
    {
      "cell_type": "markdown",
      "id": "683953b3",
      "metadata": {
        "id": "683953b3"
      },
      "source": [
        "# Faiss\n",
        "\n",
        ">[Facebook AI Similarity Search (FAISS)](https://engineering.fb.com/2017/03/29/data-infrastructure/faiss-a-library-for-efficient-similarity-search/) is a library for efficient similarity search and clustering of dense vectors. It contains algorithms that search in sets of vectors of any size, up to ones that possibly do not fit in RAM. It also includes supporting code for evaluation and parameter tuning.\n",
        ">\n",
        ">See [The FAISS Library](https://arxiv.org/pdf/2401.08281) paper.\n",
        "\n",
        "You can find the FAISS documentation at [this page](https://faiss.ai/).\n",
        "\n",
        "This notebook shows how to use functionality related to the `FAISS` vector database. It will show functionality specific to this integration. After going through, it may be useful to explore [relevant use-case pages](/docs/how_to#qa-with-rag) to learn how to use this vectorstore as part of a larger chain."
      ]
    },
    {
      "cell_type": "markdown",
      "id": "601ac1d5-48a2-4e41-bf51-f1d5fdd5639d",
      "metadata": {
        "tags": [],
        "id": "601ac1d5-48a2-4e41-bf51-f1d5fdd5639d"
      },
      "source": [
        "## Setup\n",
        "\n",
        "The integration lives in the `langchain-community` package. We also need to install the `faiss` package itself. We can install these with:\n",
        "\n",
        "Note that you can also install `faiss-gpu` if you want to use the GPU enabled version"
      ]
    },
    {
      "cell_type": "code",
      "execution_count": 1,
      "id": "08165d56",
      "metadata": {
        "id": "08165d56"
      },
      "outputs": [],
      "source": [
        "pip install -qU langchain-community faiss-cpu langchain-google-genai"
      ]
    },
    {
      "cell_type": "markdown",
      "id": "408be78f-7b0e-44d4-8d48-56a6cb9b3fb9",
      "metadata": {
        "id": "408be78f-7b0e-44d4-8d48-56a6cb9b3fb9"
      },
      "source": [
        "If you want to get best in-class automated tracing of your model calls you can also set your [LangSmith](https://docs.smith.langchain.com/) API key by uncommenting below:"
      ]
    },
    {
      "cell_type": "code",
      "execution_count": 3,
      "id": "951c82cb-40bf-46ac-9f3f-d2fca7d204b8",
      "metadata": {
        "id": "951c82cb-40bf-46ac-9f3f-d2fca7d204b8"
      },
      "outputs": [],
      "source": [
        "import os\n",
        "import google.colab.userdata\n",
        "\n",
        "# os.environ[\"LANGSMITH_TRACING\"] = \"true\"\n",
        "# os.environ[\"LANGSMITH_API_KEY\"] = getpass.getpass()\n",
        "os.environ[\"GOOGLE_API_KEY\"] = google.colab.userdata.get(\"GOOGLE_API_KEY\")"
      ]
    },
    {
      "cell_type": "markdown",
      "id": "78dde98a-584f-4f2a-98d5-e776fd9558fa",
      "metadata": {
        "id": "78dde98a-584f-4f2a-98d5-e776fd9558fa"
      },
      "source": [
        "## Initialization\n",
        "\n",
        "import EmbeddingTabs from \"@theme/EmbeddingTabs\";\n",
        "\n",
        "<EmbeddingTabs/>\n"
      ]
    },
    {
      "cell_type": "code",
      "execution_count": 5,
      "id": "5b394da3",
      "metadata": {
        "id": "5b394da3"
      },
      "outputs": [],
      "source": [
        "# | output: false\n",
        "# | echo: false\n",
        "from langchain_google_genai import GoogleGenerativeAIEmbeddings\n",
        "\n",
        "embeddings = GoogleGenerativeAIEmbeddings(model=\"models/embedding-001\")"
      ]
    },
    {
      "cell_type": "code",
      "execution_count": 6,
      "id": "dc37144c-208d-4ab3-9f3a-0407a69fe052",
      "metadata": {
        "tags": [],
        "id": "dc37144c-208d-4ab3-9f3a-0407a69fe052"
      },
      "outputs": [],
      "source": [
        "import faiss\n",
        "from langchain_community.docstore.in_memory import InMemoryDocstore\n",
        "from langchain_community.vectorstores import FAISS\n",
        "\n",
        "index = faiss.IndexFlatL2(len(embeddings.embed_query(\"hello world\")))\n",
        "\n",
        "vector_store = FAISS(\n",
        "    embedding_function=embeddings,\n",
        "    index=index,\n",
        "    docstore=InMemoryDocstore(),\n",
        "    index_to_docstore_id={},\n",
        ")"
      ]
    },
    {
      "cell_type": "markdown",
      "id": "d8761614",
      "metadata": {
        "id": "d8761614"
      },
      "source": [
        "## Manage vector store\n",
        "\n",
        "### Add items to vector store"
      ]
    },
    {
      "cell_type": "code",
      "execution_count": 7,
      "id": "3867e154",
      "metadata": {
        "id": "3867e154",
        "outputId": "7ef0c37c-1f69-4220-c34a-f2e73c154619",
        "colab": {
          "base_uri": "https://localhost:8080/"
        }
      },
      "outputs": [
        {
          "output_type": "execute_result",
          "data": {
            "text/plain": [
              "['877ad2b0-9ff3-4b1c-a0d1-e7cfebbba4aa',\n",
              " '1cfe3fd3-c11a-4e99-8b2d-9be6315093e6',\n",
              " 'b7ecb96e-3e25-401d-966d-396691be43a4',\n",
              " '933a1b62-16b1-422a-bc48-3971f3f80179',\n",
              " 'ee3f25c4-e0a2-443f-8be5-5fe67f980e61',\n",
              " '521bef55-f95d-4e21-815d-c4bde7c63cd3',\n",
              " 'a1eb1b9c-ced5-4f83-8085-4a597cf80bff',\n",
              " '63dc873c-e929-4915-948f-6dea5cc31708',\n",
              " '7dcd78d7-280b-4043-9e6c-7b3b43f9ae54',\n",
              " 'd89c97fb-f908-4a5d-9438-12ce45792fe1']"
            ]
          },
          "metadata": {},
          "execution_count": 7
        }
      ],
      "source": [
        "from uuid import uuid4\n",
        "\n",
        "from langchain_core.documents import Document\n",
        "\n",
        "document_1 = Document(\n",
        "    page_content=\"I had chocolate chip pancakes and scrambled eggs for breakfast this morning.\",\n",
        "    metadata={\"source\": \"tweet\"},\n",
        ")\n",
        "\n",
        "document_2 = Document(\n",
        "    page_content=\"The weather forecast for tomorrow is cloudy and overcast, with a high of 62 degrees.\",\n",
        "    metadata={\"source\": \"news\"},\n",
        ")\n",
        "\n",
        "document_3 = Document(\n",
        "    page_content=\"Building an exciting new project with LangChain - come check it out!\",\n",
        "    metadata={\"source\": \"tweet\"},\n",
        ")\n",
        "\n",
        "document_4 = Document(\n",
        "    page_content=\"Robbers broke into the city bank and stole $1 million in cash.\",\n",
        "    metadata={\"source\": \"news\"},\n",
        ")\n",
        "\n",
        "document_5 = Document(\n",
        "    page_content=\"Wow! That was an amazing movie. I can't wait to see it again.\",\n",
        "    metadata={\"source\": \"tweet\"},\n",
        ")\n",
        "\n",
        "document_6 = Document(\n",
        "    page_content=\"Is the new iPhone worth the price? Read this review to find out.\",\n",
        "    metadata={\"source\": \"website\"},\n",
        ")\n",
        "\n",
        "document_7 = Document(\n",
        "    page_content=\"The top 10 soccer players in the world right now.\",\n",
        "    metadata={\"source\": \"website\"},\n",
        ")\n",
        "\n",
        "document_8 = Document(\n",
        "    page_content=\"LangGraph is the best framework for building stateful, agentic applications!\",\n",
        "    metadata={\"source\": \"tweet\"},\n",
        ")\n",
        "\n",
        "document_9 = Document(\n",
        "    page_content=\"The stock market is down 500 points today due to fears of a recession.\",\n",
        "    metadata={\"source\": \"news\"},\n",
        ")\n",
        "\n",
        "document_10 = Document(\n",
        "    page_content=\"I have a bad feeling I am going to get deleted :(\",\n",
        "    metadata={\"source\": \"tweet\"},\n",
        ")\n",
        "\n",
        "documents = [\n",
        "    document_1,\n",
        "    document_2,\n",
        "    document_3,\n",
        "    document_4,\n",
        "    document_5,\n",
        "    document_6,\n",
        "    document_7,\n",
        "    document_8,\n",
        "    document_9,\n",
        "    document_10,\n",
        "]\n",
        "uuids = [str(uuid4()) for _ in range(len(documents))]\n",
        "\n",
        "vector_store.add_documents(documents=documents, ids=uuids)"
      ]
    },
    {
      "cell_type": "markdown",
      "id": "a410a2dc",
      "metadata": {
        "id": "a410a2dc"
      },
      "source": [
        "### Delete items from vector store"
      ]
    },
    {
      "cell_type": "code",
      "execution_count": 8,
      "id": "c3db04bd",
      "metadata": {
        "id": "c3db04bd",
        "outputId": "154b53e4-04ef-40bb-a947-ac692ed4a076",
        "colab": {
          "base_uri": "https://localhost:8080/"
        }
      },
      "outputs": [
        {
          "output_type": "execute_result",
          "data": {
            "text/plain": [
              "True"
            ]
          },
          "metadata": {},
          "execution_count": 8
        }
      ],
      "source": [
        "vector_store.delete(ids=[uuids[-1]])"
      ]
    },
    {
      "cell_type": "markdown",
      "id": "77de24ff",
      "metadata": {
        "id": "77de24ff"
      },
      "source": [
        "## Query vector store\n",
        "\n",
        "Once your vector store has been created and the relevant documents have been added you will most likely wish to query it during the running of your chain or agent.\n",
        "\n",
        "### Query directly\n",
        "\n",
        "#### Similarity search\n",
        "\n",
        "Performing a simple similarity search with filtering on metadata can be done as follows:"
      ]
    },
    {
      "cell_type": "code",
      "execution_count": 9,
      "id": "53d95d3f",
      "metadata": {
        "id": "53d95d3f",
        "outputId": "14d831ea-bea6-4f97-a69b-36efb0aa942f",
        "colab": {
          "base_uri": "https://localhost:8080/"
        }
      },
      "outputs": [
        {
          "output_type": "stream",
          "name": "stdout",
          "text": [
            "* LangGraph is the best framework for building stateful, agentic applications! [{'source': 'tweet'}]\n",
            "* Building an exciting new project with LangChain - come check it out! [{'source': 'tweet'}]\n"
          ]
        }
      ],
      "source": [
        "results = vector_store.similarity_search(\n",
        "    \"LangChain provides abstractions to make working with LLMs easy\",\n",
        "    k=2,\n",
        "    filter={\"source\": \"tweet\"},\n",
        ")\n",
        "for res in results:\n",
        "    print(f\"* {res.page_content} [{res.metadata}]\")"
      ]
    },
    {
      "cell_type": "markdown",
      "id": "39cb1496",
      "metadata": {
        "id": "39cb1496"
      },
      "source": [
        "Some [MongoDB query and projection operators](https://www.mongodb.com/docs/manual/reference/operator/query/) are supported for more advanced metadata filtering. The current list of supported operators are as follows:\n",
        "- `$eq` (equals)\n",
        "- `$neq` (not equals)\n",
        "- `$gt` (greater than)\n",
        "- `$lt` (less than)\n",
        "- `$gte` (greater than or equal)\n",
        "- `$lte` (less than or equal)\n",
        "- `$in` (membership in list)\n",
        "- `$nin` (not in list)\n",
        "- `$and` (all conditions must match)\n",
        "- `$or` (any condition must match)\n",
        "- `$not` (negation of condition)\n",
        "\n",
        "Performing the same above similarity search with advanced metadata filtering can be done as follows:"
      ]
    },
    {
      "cell_type": "code",
      "execution_count": null,
      "id": "1b3dd99d",
      "metadata": {
        "id": "1b3dd99d"
      },
      "outputs": [],
      "source": [
        "results = vector_store.similarity_search(\n",
        "    \"LangChain provides abstractions to make working with LLMs easy\",\n",
        "    k=2,\n",
        "    filter={\"source\": {\"$eq\": \"tweet\"}},\n",
        ")\n",
        "for res in results:\n",
        "    print(f\"* {res.page_content} [{res.metadata}]\")"
      ]
    },
    {
      "cell_type": "markdown",
      "id": "5ae35069",
      "metadata": {
        "id": "5ae35069"
      },
      "source": [
        "#### Similarity search with score\n",
        "\n",
        "You can also search with score:"
      ]
    },
    {
      "cell_type": "code",
      "execution_count": null,
      "id": "a9078ce9",
      "metadata": {
        "id": "a9078ce9"
      },
      "outputs": [],
      "source": [
        "results = vector_store.similarity_search_with_score(\n",
        "    \"Will it be hot tomorrow?\", k=1, filter={\"source\": \"news\"}\n",
        ")\n",
        "for res, score in results:\n",
        "    print(f\"* [SIM={score:3f}] {res.page_content} [{res.metadata}]\")"
      ]
    },
    {
      "cell_type": "markdown",
      "id": "e9091b1f",
      "metadata": {
        "id": "e9091b1f"
      },
      "source": [
        "#### Other search methods\n",
        "\n",
        "\n",
        "There are a variety of other ways to search a FAISS vector store. For a complete list of those methods, please refer to the [API Reference](https://python.langchain.com/api_reference/community/vectorstores/langchain_community.vectorstores.faiss.FAISS.html)\n",
        "\n",
        "### Query by turning into retriever\n",
        "\n",
        "You can also transform the vector store into a retriever for easier usage in your chains."
      ]
    },
    {
      "cell_type": "code",
      "execution_count": null,
      "id": "10da64fa",
      "metadata": {
        "id": "10da64fa"
      },
      "outputs": [],
      "source": [
        "retriever = vector_store.as_retriever(search_type=\"mmr\", search_kwargs={\"k\": 1})\n",
        "retriever.invoke(\"Stealing from the bank is a crime\", filter={\"source\": \"news\"})"
      ]
    },
    {
      "cell_type": "markdown",
      "id": "5edd1909",
      "metadata": {
        "id": "5edd1909"
      },
      "source": [
        "## Usage for retrieval-augmented generation\n",
        "\n",
        "For guides on how to use this vector store for retrieval-augmented generation (RAG), see the following sections:\n",
        "\n",
        "- [Tutorials](/docs/tutorials/)\n",
        "- [How-to: Question and answer with RAG](https://python.langchain.com/docs/how_to/#qa-with-rag)\n",
        "- [Retrieval conceptual docs](https://python.langchain.com/docs/concepts/retrieval)"
      ]
    },
    {
      "cell_type": "markdown",
      "id": "31bda7fd",
      "metadata": {
        "id": "31bda7fd"
      },
      "source": [
        "## Saving and loading\n",
        "You can also save and load a FAISS index. This is useful so you don't have to recreate it everytime you use it."
      ]
    },
    {
      "cell_type": "code",
      "execution_count": null,
      "id": "1b31fe27-e0b3-42c6-b17c-8270b517ee1f",
      "metadata": {
        "id": "1b31fe27-e0b3-42c6-b17c-8270b517ee1f"
      },
      "outputs": [],
      "source": [
        "vector_store.save_local(\"faiss_index\")\n",
        "\n",
        "new_vector_store = FAISS.load_local(\n",
        "    \"faiss_index\", embeddings, allow_dangerous_deserialization=True\n",
        ")\n",
        "\n",
        "docs = new_vector_store.similarity_search(\"qux\")"
      ]
    },
    {
      "cell_type": "code",
      "execution_count": null,
      "id": "98378c4e",
      "metadata": {
        "id": "98378c4e"
      },
      "outputs": [],
      "source": [
        "docs[0]"
      ]
    },
    {
      "cell_type": "markdown",
      "id": "57da60d4",
      "metadata": {
        "id": "57da60d4"
      },
      "source": [
        "## Merging\n",
        "You can also merge two FAISS vectorstores"
      ]
    },
    {
      "cell_type": "code",
      "execution_count": null,
      "id": "9b8f5e31-3f40-4e94-8d97-5883125efba7",
      "metadata": {
        "id": "9b8f5e31-3f40-4e94-8d97-5883125efba7"
      },
      "outputs": [],
      "source": [
        "db1 = FAISS.from_texts([\"foo\"], embeddings)\n",
        "db2 = FAISS.from_texts([\"bar\"], embeddings)\n",
        "\n",
        "db1.docstore._dict"
      ]
    },
    {
      "cell_type": "code",
      "execution_count": null,
      "id": "83392605",
      "metadata": {
        "id": "83392605"
      },
      "outputs": [],
      "source": [
        "db2.docstore._dict"
      ]
    },
    {
      "cell_type": "code",
      "execution_count": null,
      "id": "a3fcc1c7",
      "metadata": {
        "id": "a3fcc1c7"
      },
      "outputs": [],
      "source": [
        "db1.merge_from(db2)"
      ]
    },
    {
      "cell_type": "code",
      "execution_count": null,
      "id": "41c51f89",
      "metadata": {
        "id": "41c51f89"
      },
      "outputs": [],
      "source": [
        "db1.docstore._dict"
      ]
    },
    {
      "cell_type": "markdown",
      "id": "65654d80",
      "metadata": {
        "id": "65654d80"
      },
      "source": [
        "## API reference\n",
        "\n",
        "For detailed documentation of all `FAISS` vector store features and configurations head to the API reference: https://python.langchain.com/api_reference/community/vectorstores/langchain_community.vectorstores.faiss.FAISS.html"
      ]
    }
  ],
  "metadata": {
    "kernelspec": {
      "display_name": "Python 3 (ipykernel)",
      "language": "python",
      "name": "python3"
    },
    "language_info": {
      "codemirror_mode": {
        "name": "ipython",
        "version": 3
      },
      "file_extension": ".py",
      "mimetype": "text/x-python",
      "name": "python",
      "nbconvert_exporter": "python",
      "pygments_lexer": "ipython3",
      "version": "3.10.12"
    },
    "colab": {
      "provenance": [],
      "include_colab_link": true
    }
  },
  "nbformat": 4,
  "nbformat_minor": 5
}