{
  "nbformat": 4,
  "nbformat_minor": 0,
  "metadata": {
    "colab": {
      "provenance": [],
      "authorship_tag": "ABX9TyNP5ueHXV0p18UYMY2AlJnH",
      "include_colab_link": true
    },
    "kernelspec": {
      "name": "python3",
      "display_name": "Python 3"
    },
    "language_info": {
      "name": "python"
    }
  },
  "cells": [
    {
      "cell_type": "markdown",
      "metadata": {
        "id": "view-in-github",
        "colab_type": "text"
      },
      "source": [
        "<a href=\"https://colab.research.google.com/github/rvernica/notebook/blob/main/mongodb/VoyageAI_Quickstart.ipynb\" target=\"_parent\"><img src=\"https://colab.research.google.com/assets/colab-badge.svg\" alt=\"Open In Colab\"/></a>"
      ]
    },
    {
      "cell_type": "markdown",
      "source": [
        "# [Voyage AI Quickstart Tutorial](https://docs.voyageai.com/docs/quickstart-tutorial)"
      ],
      "metadata": {
        "id": "2vWYsgmAnW-P"
      }
    },
    {
      "cell_type": "code",
      "source": [
        "pip install voyageai"
      ],
      "metadata": {
        "colab": {
          "base_uri": "https://localhost:8080/"
        },
        "collapsed": true,
        "id": "MSBy38M-n3xW",
        "outputId": "28dac0ea-c6eb-4e41-ad61-0dd9d822e246"
      },
      "execution_count": 5,
      "outputs": [
        {
          "output_type": "stream",
          "name": "stdout",
          "text": [
            "Collecting voyageai\n",
            "  Downloading voyageai-0.3.5-py3-none-any.whl.metadata (2.9 kB)\n",
            "Requirement already satisfied: aiohttp in /usr/local/lib/python3.12/dist-packages (from voyageai) (3.13.1)\n",
            "Collecting aiolimiter (from voyageai)\n",
            "  Downloading aiolimiter-1.2.1-py3-none-any.whl.metadata (4.5 kB)\n",
            "Requirement already satisfied: langchain-text-splitters>=0.3.8 in /usr/local/lib/python3.12/dist-packages (from voyageai) (0.3.11)\n",
            "Requirement already satisfied: numpy in /usr/local/lib/python3.12/dist-packages (from voyageai) (2.0.2)\n",
            "Requirement already satisfied: pillow in /usr/local/lib/python3.12/dist-packages (from voyageai) (11.3.0)\n",
            "Requirement already satisfied: pydantic>=1.10.8 in /usr/local/lib/python3.12/dist-packages (from voyageai) (2.11.10)\n",
            "Requirement already satisfied: requests in /usr/local/lib/python3.12/dist-packages (from voyageai) (2.32.4)\n",
            "Requirement already satisfied: tenacity in /usr/local/lib/python3.12/dist-packages (from voyageai) (8.5.0)\n",
            "Requirement already satisfied: tokenizers>=0.14.0 in /usr/local/lib/python3.12/dist-packages (from voyageai) (0.22.1)\n",
            "Requirement already satisfied: langchain-core<2.0.0,>=0.3.75 in /usr/local/lib/python3.12/dist-packages (from langchain-text-splitters>=0.3.8->voyageai) (0.3.79)\n",
            "Requirement already satisfied: annotated-types>=0.6.0 in /usr/local/lib/python3.12/dist-packages (from pydantic>=1.10.8->voyageai) (0.7.0)\n",
            "Requirement already satisfied: pydantic-core==2.33.2 in /usr/local/lib/python3.12/dist-packages (from pydantic>=1.10.8->voyageai) (2.33.2)\n",
            "Requirement already satisfied: typing-extensions>=4.12.2 in /usr/local/lib/python3.12/dist-packages (from pydantic>=1.10.8->voyageai) (4.15.0)\n",
            "Requirement already satisfied: typing-inspection>=0.4.0 in /usr/local/lib/python3.12/dist-packages (from pydantic>=1.10.8->voyageai) (0.4.2)\n",
            "Requirement already satisfied: huggingface-hub<2.0,>=0.16.4 in /usr/local/lib/python3.12/dist-packages (from tokenizers>=0.14.0->voyageai) (0.35.3)\n",
            "Requirement already satisfied: aiohappyeyeballs>=2.5.0 in /usr/local/lib/python3.12/dist-packages (from aiohttp->voyageai) (2.6.1)\n",
            "Requirement already satisfied: aiosignal>=1.4.0 in /usr/local/lib/python3.12/dist-packages (from aiohttp->voyageai) (1.4.0)\n",
            "Requirement already satisfied: attrs>=17.3.0 in /usr/local/lib/python3.12/dist-packages (from aiohttp->voyageai) (25.4.0)\n",
            "Requirement already satisfied: frozenlist>=1.1.1 in /usr/local/lib/python3.12/dist-packages (from aiohttp->voyageai) (1.8.0)\n",
            "Requirement already satisfied: multidict<7.0,>=4.5 in /usr/local/lib/python3.12/dist-packages (from aiohttp->voyageai) (6.7.0)\n",
            "Requirement already satisfied: propcache>=0.2.0 in /usr/local/lib/python3.12/dist-packages (from aiohttp->voyageai) (0.4.1)\n",
            "Requirement already satisfied: yarl<2.0,>=1.17.0 in /usr/local/lib/python3.12/dist-packages (from aiohttp->voyageai) (1.22.0)\n",
            "Requirement already satisfied: charset_normalizer<4,>=2 in /usr/local/lib/python3.12/dist-packages (from requests->voyageai) (3.4.4)\n",
            "Requirement already satisfied: idna<4,>=2.5 in /usr/local/lib/python3.12/dist-packages (from requests->voyageai) (3.11)\n",
            "Requirement already satisfied: urllib3<3,>=1.21.1 in /usr/local/lib/python3.12/dist-packages (from requests->voyageai) (2.5.0)\n",
            "Requirement already satisfied: certifi>=2017.4.17 in /usr/local/lib/python3.12/dist-packages (from requests->voyageai) (2025.10.5)\n",
            "Requirement already satisfied: filelock in /usr/local/lib/python3.12/dist-packages (from huggingface-hub<2.0,>=0.16.4->tokenizers>=0.14.0->voyageai) (3.20.0)\n",
            "Requirement already satisfied: fsspec>=2023.5.0 in /usr/local/lib/python3.12/dist-packages (from huggingface-hub<2.0,>=0.16.4->tokenizers>=0.14.0->voyageai) (2025.3.0)\n",
            "Requirement already satisfied: packaging>=20.9 in /usr/local/lib/python3.12/dist-packages (from huggingface-hub<2.0,>=0.16.4->tokenizers>=0.14.0->voyageai) (25.0)\n",
            "Requirement already satisfied: pyyaml>=5.1 in /usr/local/lib/python3.12/dist-packages (from huggingface-hub<2.0,>=0.16.4->tokenizers>=0.14.0->voyageai) (6.0.3)\n",
            "Requirement already satisfied: tqdm>=4.42.1 in /usr/local/lib/python3.12/dist-packages (from huggingface-hub<2.0,>=0.16.4->tokenizers>=0.14.0->voyageai) (4.67.1)\n",
            "Requirement already satisfied: hf-xet<2.0.0,>=1.1.3 in /usr/local/lib/python3.12/dist-packages (from huggingface-hub<2.0,>=0.16.4->tokenizers>=0.14.0->voyageai) (1.1.10)\n",
            "Requirement already satisfied: langsmith<1.0.0,>=0.3.45 in /usr/local/lib/python3.12/dist-packages (from langchain-core<2.0.0,>=0.3.75->langchain-text-splitters>=0.3.8->voyageai) (0.4.37)\n",
            "Requirement already satisfied: jsonpatch<2.0.0,>=1.33.0 in /usr/local/lib/python3.12/dist-packages (from langchain-core<2.0.0,>=0.3.75->langchain-text-splitters>=0.3.8->voyageai) (1.33)\n",
            "Requirement already satisfied: jsonpointer>=1.9 in /usr/local/lib/python3.12/dist-packages (from jsonpatch<2.0.0,>=1.33.0->langchain-core<2.0.0,>=0.3.75->langchain-text-splitters>=0.3.8->voyageai) (3.0.0)\n",
            "Requirement already satisfied: httpx<1,>=0.23.0 in /usr/local/lib/python3.12/dist-packages (from langsmith<1.0.0,>=0.3.45->langchain-core<2.0.0,>=0.3.75->langchain-text-splitters>=0.3.8->voyageai) (0.28.1)\n",
            "Requirement already satisfied: orjson>=3.9.14 in /usr/local/lib/python3.12/dist-packages (from langsmith<1.0.0,>=0.3.45->langchain-core<2.0.0,>=0.3.75->langchain-text-splitters>=0.3.8->voyageai) (3.11.3)\n",
            "Requirement already satisfied: requests-toolbelt>=1.0.0 in /usr/local/lib/python3.12/dist-packages (from langsmith<1.0.0,>=0.3.45->langchain-core<2.0.0,>=0.3.75->langchain-text-splitters>=0.3.8->voyageai) (1.0.0)\n",
            "Requirement already satisfied: zstandard>=0.23.0 in /usr/local/lib/python3.12/dist-packages (from langsmith<1.0.0,>=0.3.45->langchain-core<2.0.0,>=0.3.75->langchain-text-splitters>=0.3.8->voyageai) (0.25.0)\n",
            "Requirement already satisfied: anyio in /usr/local/lib/python3.12/dist-packages (from httpx<1,>=0.23.0->langsmith<1.0.0,>=0.3.45->langchain-core<2.0.0,>=0.3.75->langchain-text-splitters>=0.3.8->voyageai) (4.11.0)\n",
            "Requirement already satisfied: httpcore==1.* in /usr/local/lib/python3.12/dist-packages (from httpx<1,>=0.23.0->langsmith<1.0.0,>=0.3.45->langchain-core<2.0.0,>=0.3.75->langchain-text-splitters>=0.3.8->voyageai) (1.0.9)\n",
            "Requirement already satisfied: h11>=0.16 in /usr/local/lib/python3.12/dist-packages (from httpcore==1.*->httpx<1,>=0.23.0->langsmith<1.0.0,>=0.3.45->langchain-core<2.0.0,>=0.3.75->langchain-text-splitters>=0.3.8->voyageai) (0.16.0)\n",
            "Requirement already satisfied: sniffio>=1.1 in /usr/local/lib/python3.12/dist-packages (from anyio->httpx<1,>=0.23.0->langsmith<1.0.0,>=0.3.45->langchain-core<2.0.0,>=0.3.75->langchain-text-splitters>=0.3.8->voyageai) (1.3.1)\n",
            "Downloading voyageai-0.3.5-py3-none-any.whl (28 kB)\n",
            "Downloading aiolimiter-1.2.1-py3-none-any.whl (6.7 kB)\n",
            "Installing collected packages: aiolimiter, voyageai\n",
            "Successfully installed aiolimiter-1.2.1 voyageai-0.3.5\n"
          ]
        }
      ]
    },
    {
      "cell_type": "code",
      "source": [
        "import os\n",
        "import google.colab\n",
        "import numpy\n",
        "import sklearn.metrics.pairwise\n",
        "import google.generativeai"
      ],
      "metadata": {
        "id": "zZ7ext1ApQ-m"
      },
      "execution_count": 32,
      "outputs": []
    },
    {
      "cell_type": "code",
      "execution_count": 33,
      "metadata": {
        "id": "g1HZqXB9m8yM"
      },
      "outputs": [],
      "source": [
        "documents = [\n",
        "    \"The Mediterranean diet emphasizes fish, olive oil, and vegetables, believed to reduce chronic diseases.\",\n",
        "    \"Photosynthesis in plants converts light energy into glucose and produces essential oxygen.\",\n",
        "    \"20th-century innovations, from radios to smartphones, centered on electronic advancements.\",\n",
        "    \"Rivers provide water, irrigation, and habitat for aquatic species, vital for ecosystems.\",\n",
        "    \"Apple’s conference call to discuss fourth fiscal quarter results and business updates is scheduled for Thursday, November 2, 2023 at 2:00 p.m. PT / 5:00 p.m. ET.\",\n",
        "    \"Shakespeare's works, like 'Hamlet' and 'A Midsummer Night's Dream,' endure in literature.\"\n",
        "]"
      ]
    },
    {
      "cell_type": "code",
      "source": [
        "os.environ[\"VOYAGE_API_KEY\"] = google.colab.userdata.get(\"VOYAGE_API_KEY\")\n",
        "os.environ[\"GOOGLE_API_KEY\"] = google.colab.userdata.get(\"GOOGLE_API_KEY\")"
      ],
      "metadata": {
        "id": "jrNmxJffnq0P"
      },
      "execution_count": 34,
      "outputs": []
    },
    {
      "cell_type": "code",
      "source": [
        "import voyageai\n",
        "\n",
        "vo = voyageai.Client()\n",
        "# This will automatically use the environment variable VOYAGE_API_KEY.\n",
        "# Alternatively, you can use vo = voyageai.Client(api_key=\"<your secret key>\")\n",
        "\n",
        "# Embed the documents\n",
        "documents_embeddings = vo.embed(\n",
        "    documents, model=\"voyage-3.5\", input_type=\"document\"\n",
        ").embeddings"
      ],
      "metadata": {
        "id": "WzOUZpeJnUqd"
      },
      "execution_count": 6,
      "outputs": []
    },
    {
      "cell_type": "code",
      "source": [
        "# Print the tokenized results\n",
        "tokenized = vo.tokenize(documents)\n",
        "for i in range(len(documents)):\n",
        "    print(tokenized[i].tokens)\n",
        "\n",
        "# Count the total tokens\n",
        "print(vo.count_tokens(documents))"
      ],
      "metadata": {
        "colab": {
          "base_uri": "https://localhost:8080/"
        },
        "id": "4PPNtEl9nufR",
        "outputId": "7ff42ad5-d7c7-4381-d474-bf8d52cebc95"
      },
      "execution_count": 8,
      "outputs": [
        {
          "output_type": "stream",
          "name": "stdout",
          "text": [
            "['<s>', '▁The', '▁Mediter', 'rane', 'an', '▁di', 'et', '▁emphas', 'izes', '▁fish', ',', '▁o', 'live', '▁oil', ',', '▁and', '▁veget', 'ables', ',', '▁believed', '▁to', '▁reduce', '▁chron', 'ic', '▁dise', 'ases', '.']\n",
            "['<s>', '▁Ph', 'otos', 'yn', 'thesis', '▁in', '▁plants', '▁converts', '▁light', '▁energy', '▁into', '▁gl', 'uc', 'ose', '▁and', '▁produces', '▁essential', '▁o', 'xygen', '.']\n",
            "['<s>', '▁', '2', '0', 'th', '-', 'century', '▁innov', 'ations', ',', '▁from', '▁rad', 'ios', '▁to', '▁smart', 'ph', 'ones', ',', '▁centered', '▁on', '▁electronic', '▁adv', 'anc', 'ements', '.']\n",
            "['<s>', '▁R', 'ivers', '▁provide', '▁water', ',', '▁ir', 'rig', 'ation', ',', '▁and', '▁habitat', '▁for', '▁aqu', 'atic', '▁species', ',', '▁vital', '▁for', '▁e', 'cos', 'ystem', 's', '.']\n",
            "['<s>', '▁Apple', '’', 's', '▁conference', '▁call', '▁to', '▁discuss', '▁fourth', '▁fis', 'cal', '▁quarter', '▁results', '▁and', '▁business', '▁updates', '▁is', '▁scheduled', '▁for', '▁Th', 'urs', 'day', ',', '▁November', '▁', '2', ',', '▁', '2', '0', '2', '3', '▁at', '▁', '2', ':', '0', '0', '▁p', '.', 'm', '.', '▁P', 'T', '▁/', '▁', '5', ':', '0', '0', '▁p', '.', 'm', '.', '▁E', 'T', '.']\n",
            "['<s>', '▁Shakespeare', \"'\", 's', '▁works', ',', '▁like', \"▁'\", 'H', 'am', 'let', \"'\", '▁and', \"▁'\", 'A', '▁Mid', 'sum', 'mer', '▁Night', \"'\", 's', '▁Dream', \",'\", '▁end', 'ure', '▁in', '▁literature', '.']\n",
            "181\n"
          ]
        }
      ]
    },
    {
      "cell_type": "code",
      "source": [
        "query = \"When is Apple's conference call scheduled?\""
      ],
      "metadata": {
        "id": "63wim9MNpEAH"
      },
      "execution_count": 10,
      "outputs": []
    },
    {
      "cell_type": "code",
      "source": [
        "# Get the embedding of the query\n",
        "query_embedding = vo.embed([query], model=\"voyage-3.5\", input_type=\"query\").embeddings[0]"
      ],
      "metadata": {
        "id": "TODS7ARspE87"
      },
      "execution_count": 11,
      "outputs": []
    },
    {
      "cell_type": "code",
      "source": [
        "# Compute the similarity\n",
        "# Voyage embeddings are normalized to length 1, therefore dot-product and cosine\n",
        "# similarity are the same.\n",
        "similarities = numpy.dot(documents_embeddings, query_embedding)\n",
        "print(similarities)\n",
        "\n",
        "retrieved_id = numpy.argmax(similarities)\n",
        "retrieved_doc = documents[retrieved_id]\n",
        "print(retrieved_doc)"
      ],
      "metadata": {
        "colab": {
          "base_uri": "https://localhost:8080/"
        },
        "id": "v4KZrUIDpHvq",
        "outputId": "376b7acd-a93c-425a-9394-fdd0858316ea"
      },
      "execution_count": 27,
      "outputs": [
        {
          "output_type": "stream",
          "name": "stdout",
          "text": [
            "[0.12507503 0.17040602 0.21611312 0.1184509  0.6560744  0.14526141]\n",
            "Apple’s conference call to discuss fourth fiscal quarter results and business updates is scheduled for Thursday, November 2, 2023 at 2:00 p.m. PT / 5:00 p.m. ET.\n"
          ]
        }
      ]
    },
    {
      "cell_type": "code",
      "source": [
        "def k_nearest_neighbors(query_embedding, documents_embeddings, k=5):\n",
        "    # Convert to numpy array\n",
        "    query_embedding = numpy.array(query_embedding)\n",
        "    documents_embeddings = numpy.array(documents_embeddings)\n",
        "\n",
        "    # Reshape the query vector embedding to a matrix of shape (1, n) to make it\n",
        "    # compatible with cosine_similarity\n",
        "    query_embedding = query_embedding.reshape(1, -1)\n",
        "\n",
        "    # Calculate the similarity for each item in data\n",
        "    cosine_sim = sklearn.metrics.pairwise.cosine_similarity(query_embedding, documents_embeddings)\n",
        "\n",
        "    # Sort the data by similarity in descending order and take the top k items\n",
        "    sorted_indices = numpy.argsort(cosine_sim[0])[::-1]\n",
        "\n",
        "    # Take the top k related embeddings\n",
        "    top_k_related_indices = sorted_indices[:k]\n",
        "    top_k_related_embeddings = documents_embeddings[sorted_indices[:k]]\n",
        "    top_k_related_embeddings = [\n",
        "        list(row[:]) for row in top_k_related_embeddings\n",
        "    ]  # convert to list\n",
        "\n",
        "    return top_k_related_embeddings, top_k_related_indices"
      ],
      "metadata": {
        "id": "tN442kYMqEJC"
      },
      "execution_count": 19,
      "outputs": []
    },
    {
      "cell_type": "code",
      "source": [
        "# Use the k-nearest neighbor algorithm to identify the top-k documents with the highest similarity\n",
        "retrieved_embds, retrieved_embd_indices = k_nearest_neighbors(\n",
        "    query_embedding, documents_embeddings, k=3\n",
        ")\n",
        "retrieved_docs = [documents[index] for index in retrieved_embd_indices]\n",
        "print(retrieved_docs)"
      ],
      "metadata": {
        "colab": {
          "base_uri": "https://localhost:8080/"
        },
        "id": "qZ8T1iYMpMjv",
        "outputId": "30019a6d-ac3c-4bc0-e7d0-e3de45f3c054"
      },
      "execution_count": 21,
      "outputs": [
        {
          "output_type": "stream",
          "name": "stdout",
          "text": [
            "['Apple’s conference call to discuss fourth fiscal quarter results and business updates is scheduled for Thursday, November 2, 2023 at 2:00 p.m. PT / 5:00 p.m. ET.', '20th-century innovations, from radios to smartphones, centered on electronic advancements.', 'Photosynthesis in plants converts light energy into glucose and produces essential oxygen.']\n"
          ]
        }
      ]
    },
    {
      "cell_type": "code",
      "source": [
        "# Reranking\n",
        "documents_reranked = vo.rerank(query, documents, model=\"rerank-2.5\", top_k=3)"
      ],
      "metadata": {
        "id": "A9yOsn1ZqfQx"
      },
      "execution_count": 24,
      "outputs": []
    },
    {
      "cell_type": "code",
      "source": [
        "for r in documents_reranked.results:\n",
        "    print(f\"Document: {r.document}\")\n",
        "    print(f\"Relevance Score: {r.relevance_score}\")\n",
        "    print(f\"Index: {r.index}\")\n",
        "    print()"
      ],
      "metadata": {
        "colab": {
          "base_uri": "https://localhost:8080/"
        },
        "id": "SXLtXGlhrYlv",
        "outputId": "a4a311ed-d4cf-49c0-8337-7a9435ea5e84"
      },
      "execution_count": 25,
      "outputs": [
        {
          "output_type": "stream",
          "name": "stdout",
          "text": [
            "Document: Apple’s conference call to discuss fourth fiscal quarter results and business updates is scheduled for Thursday, November 2, 2023 at 2:00 p.m. PT / 5:00 p.m. ET.\n",
            "Relevance Score: 0.94140625\n",
            "Index: 4\n",
            "\n",
            "Document: 20th-century innovations, from radios to smartphones, centered on electronic advancements.\n",
            "Relevance Score: 0.283203125\n",
            "Index: 2\n",
            "\n",
            "Document: The Mediterranean diet emphasizes fish, olive oil, and vegetables, believed to reduce chronic diseases.\n",
            "Relevance Score: 0.263671875\n",
            "Index: 0\n",
            "\n"
          ]
        }
      ]
    },
    {
      "cell_type": "code",
      "source": [
        "# Take the retrieved document and use it as a prompt for the text generation model\n",
        "prompt = f\"Based on the information: '{retrieved_doc}', generate a response of {query}\"\n",
        "print(prompt)"
      ],
      "metadata": {
        "colab": {
          "base_uri": "https://localhost:8080/"
        },
        "id": "MH_R-Wirrcma",
        "outputId": "02737035-8ef5-43fe-cca8-cb3f054fc298"
      },
      "execution_count": 29,
      "outputs": [
        {
          "output_type": "stream",
          "name": "stdout",
          "text": [
            "Based on the information: 'Apple’s conference call to discuss fourth fiscal quarter results and business updates is scheduled for Thursday, November 2, 2023 at 2:00 p.m. PT / 5:00 p.m. ET.', generate a response of When is Apple's conference call scheduled?\n"
          ]
        }
      ]
    },
    {
      "cell_type": "code",
      "source": [
        "# Initialize the Gemini model\n",
        "gemini_model = google.generativeai.GenerativeModel('gemini-2.5-flash')\n",
        "\n",
        "# Generate the response using Gemini\n",
        "response = gemini_model.generate_content(prompt)\n",
        "\n",
        "print(response.text)"
      ],
      "metadata": {
        "colab": {
          "base_uri": "https://localhost:8080/",
          "height": 35
        },
        "id": "34rpBM7Br5eU",
        "outputId": "851a4226-f3fe-45a4-b54f-14bfc4043758"
      },
      "execution_count": 35,
      "outputs": [
        {
          "output_type": "stream",
          "name": "stdout",
          "text": [
            "Apple's conference call is scheduled for Thursday, November 2, 2023 at 2:00 p.m. PT / 5:00 p.m. ET.\n"
          ]
        }
      ]
    }
  ]
}