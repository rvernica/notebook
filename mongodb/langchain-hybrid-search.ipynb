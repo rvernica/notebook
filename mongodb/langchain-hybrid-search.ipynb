{
  "cells": [
    {
      "cell_type": "markdown",
      "metadata": {
        "id": "view-in-github",
        "colab_type": "text"
      },
      "source": [
        "<a href=\"https://colab.research.google.com/github/rvernica/notebook/blob/main/mongodb/langchain-hybrid-search.ipynb\" target=\"_parent\"><img src=\"https://colab.research.google.com/assets/colab-badge.svg\" alt=\"Open In Colab\"/></a>"
      ]
    },
    {
      "cell_type": "markdown",
      "metadata": {
        "id": "xBe8oRU5Zz5R"
      },
      "source": [
        "# LangChain MongoDB Integration - Hybrid Search"
      ]
    },
    {
      "cell_type": "markdown",
      "metadata": {
        "id": "eBseB0OYZz5T"
      },
      "source": [
        "This notebook is a companion to the [LangChain Hybrid Search](https://www.mongodb.com/docs/atlas/ai-integrations/langchain/hybrid-search/) page. Refer to the page for set-up instructions and detailed explanations.\n",
        "\n",
        "<a target=\"_blank\" href=\"https://colab.research.google.com/github/mongodb/docs-notebooks/blob/main/ai-integrations/langchain-hybrid-search.ipynb\">\n",
        "  <img src=\"https://colab.research.google.com/assets/colab-badge.svg\" alt=\"Open In Colab\"/>\n",
        "</a>"
      ]
    },
    {
      "cell_type": "code",
      "execution_count": 1,
      "metadata": {
        "vscode": {
          "languageId": "shellscript"
        },
        "id": "a4YQbf2iZz5U"
      },
      "outputs": [],
      "source": [
        "!pip install --quiet --upgrade \\\n",
        "  langchain \\\n",
        "  langchain-community \\\n",
        "  langchain-core \\\n",
        "  langchain-mongodb \\\n",
        "  langchain-voyageai \\\n",
        "  langchain-google-genai \\\n",
        "  pymongo \\\n",
        "  pypdf"
      ]
    },
    {
      "cell_type": "code",
      "execution_count": 2,
      "metadata": {
        "id": "Rl7UKFoyZz5V"
      },
      "outputs": [],
      "source": [
        "import os\n",
        "from google.colab import userdata\n",
        "\n",
        "os.environ[\"GOOGLE_API_KEY\"] = userdata.get(\"GOOGLE_API_KEY\")\n",
        "os.environ[\"VOYAGE_API_KEY\"] = userdata.get(\"VOYAGE_API_KEY\")\n",
        "MONGODB_URI = userdata.get(\"MONGODB_URI\")"
      ]
    },
    {
      "cell_type": "code",
      "source": [
        "!curl ifconfig.me"
      ],
      "metadata": {
        "colab": {
          "base_uri": "https://localhost:8080/"
        },
        "id": "i-AMggeEfPhd",
        "outputId": "8b37f718-9202-4074-90dc-1ecd1f67e06c"
      },
      "execution_count": 3,
      "outputs": [
        {
          "output_type": "stream",
          "name": "stdout",
          "text": [
            "34.30.53.135"
          ]
        }
      ]
    },
    {
      "cell_type": "code",
      "execution_count": 4,
      "metadata": {
        "id": "RL5FGFySZz5V"
      },
      "outputs": [],
      "source": [
        "from langchain_mongodb import MongoDBAtlasVectorSearch\n",
        "from langchain_voyageai import VoyageAIEmbeddings\n",
        "\n",
        "# Create the vector store\n",
        "vector_store = MongoDBAtlasVectorSearch.from_connection_string(\n",
        "   connection_string = MONGODB_URI,\n",
        "   embedding = VoyageAIEmbeddings(model = \"voyage-3-large\", output_dimension = 2048),\n",
        "   namespace = \"sample_mflix.embedded_movies\",\n",
        "   text_key = \"plot\",\n",
        "   embedding_key = \"plot_embedding_voyage_3_large\",\n",
        "   relevance_score_fn = \"dotProduct\"\n",
        ")"
      ]
    },
    {
      "cell_type": "code",
      "execution_count": 5,
      "metadata": {
        "id": "QTaYYwJ0Zz5W"
      },
      "outputs": [],
      "source": [
        "# Use helper method to create the vector search index\n",
        "vector_store.create_vector_search_index(\n",
        "   dimensions = 2048, # The dimensions of the vector embeddings to be indexed\n",
        "   wait_until_complete = 60 # Number of seconds to wait for the index to build (can take around a minute)\n",
        ")"
      ]
    },
    {
      "cell_type": "code",
      "execution_count": 6,
      "metadata": {
        "id": "M1BiHeUzZz5W"
      },
      "outputs": [],
      "source": [
        "from langchain_mongodb.index import create_fulltext_search_index\n",
        "from pymongo import MongoClient\n",
        "\n",
        "# Connect to your cluster\n",
        "client = MongoClient(MONGODB_URI)\n",
        "\n",
        "# Use helper method to create the search index\n",
        "create_fulltext_search_index(\n",
        "   collection = client[\"sample_mflix\"][\"embedded_movies\"],\n",
        "   field = \"plot\",\n",
        "   index_name = \"search_index\",\n",
        "   wait_until_complete = 60\n",
        ")"
      ]
    },
    {
      "cell_type": "code",
      "execution_count": 7,
      "metadata": {
        "colab": {
          "base_uri": "https://localhost:8080/"
        },
        "id": "EqjJDbuMZz5W",
        "outputId": "cb02cb76-2863-4ac7-e196-9cc91bc5dac3"
      },
      "outputs": [
        {
          "output_type": "stream",
          "name": "stdout",
          "text": [
            "Title: The Time Traveler's Wife\n",
            "Plot: A romantic drama about a Chicago librarian with a gene that causes him to involuntarily time travel, and the complications it creates for his marriage.\n",
            "Search score: 0.0196078431372549\n",
            "Vector Search score: 0\n",
            "Total score: 0.0196078431372549\n",
            "\n",
            "Title: Timecop\n",
            "Plot: An officer for a security agency that regulates time travel, must fend for his life against a shady politician who has a tie to his past.\n",
            "Search score: 0.019230769230769232\n",
            "Vector Search score: 0\n",
            "Total score: 0.019230769230769232\n",
            "\n",
            "Title: My iz budushchego\n",
            "Plot: My iz budushchego, or We Are from the Future, is a movie about time travel. Four 21st century treasure seekers are transported back into the middle of a WWII battle in Russia. The movie's ...\n",
            "Search score: 0.018867924528301886\n",
            "Vector Search score: 0\n",
            "Total score: 0.018867924528301886\n",
            "\n",
            "Title: A.P.E.X.\n",
            "Plot: A time-travel experiment in which a robot probe is sent from the year 2073 to the year 1973 goes terribly wrong thrusting one of the project scientists, a man named Nicholas Sinclair into a...\n",
            "Search score: 0.018518518518518517\n",
            "Vector Search score: 0\n",
            "Total score: 0.018518518518518517\n",
            "\n",
            "Title: Rubinrot\n",
            "Plot: Gwendolyn Shepherd is actually a very normal 16-year-old teen. What's annoying is that her family definitely has a tad too many secrets. They all have to do with the time-travel gene that ...\n",
            "Search score: 0.01818181818181818\n",
            "Vector Search score: 0\n",
            "Total score: 0.01818181818181818\n",
            "\n"
          ]
        }
      ],
      "source": [
        "from langchain_mongodb.retrievers.hybrid_search import MongoDBAtlasHybridSearchRetriever\n",
        "\n",
        "# Initialize the retriever\n",
        "retriever = MongoDBAtlasHybridSearchRetriever(\n",
        "    vectorstore = vector_store,\n",
        "    search_index_name = \"search_index\",\n",
        "    top_k = 5,\n",
        "    fulltext_penalty = 50,\n",
        "    vector_penalty = 50,\n",
        "    post_filter=[\n",
        "        {\n",
        "            \"$project\": {\n",
        "                \"plot_embedding\": 0,\n",
        "                \"plot_embedding_voyage_3_large\": 0\n",
        "            }\n",
        "        }\n",
        "    ])\n",
        "\n",
        "# Define your query\n",
        "query = \"time travel\"\n",
        "\n",
        "# Print results\n",
        "documents = retriever.invoke(query)\n",
        "for doc in documents:\n",
        "   print(\"Title: \" + doc.metadata[\"title\"])\n",
        "   print(\"Plot: \" + doc.page_content)\n",
        "   print(\"Search score: {}\".format(doc.metadata[\"fulltext_score\"]))\n",
        "   print(\"Vector Search score: {}\".format(doc.metadata[\"vector_score\"]))\n",
        "   print(\"Total score: {}\\n\".format(doc.metadata[\"fulltext_score\"] + doc.metadata[\"vector_score\"]))"
      ]
    },
    {
      "cell_type": "code",
      "execution_count": 8,
      "metadata": {
        "colab": {
          "base_uri": "https://localhost:8080/"
        },
        "id": "JV-58p8IZz5X",
        "outputId": "4432dfa4-2eec-4ddf-da46-11776490e590"
      },
      "outputs": [
        {
          "output_type": "stream",
          "name": "stdout",
          "text": [
            "Here are some movies about time travel:\n",
            "\n",
            "*   **The Time Traveler's Wife** (2009)\n",
            "*   **Timecop** (1994)\n",
            "*   **My iz budushchego** (We Are from the Future) (2008)\n",
            "*   **A.P.E.X.** (1994)\n",
            "*   **Rubinrot** (2013)\n"
          ]
        }
      ],
      "source": [
        "from langchain_core.output_parsers import StrOutputParser\n",
        "from langchain_core.prompts import PromptTemplate\n",
        "from langchain_core.runnables import  RunnablePassthrough\n",
        "from langchain_google_genai import ChatGoogleGenerativeAI\n",
        "\n",
        "# Define a prompt template\n",
        "template = \"\"\"\n",
        "   Use the following pieces of context to answer the question at the end.\n",
        "   {context}\n",
        "   Question: Can you recommend some movies about {query}?\n",
        "\"\"\"\n",
        "prompt = PromptTemplate.from_template(template)\n",
        "model = ChatGoogleGenerativeAI(model=\"gemini-2.5-flash\")\n",
        "\n",
        "# Construct a chain to answer questions on your data\n",
        "chain = (\n",
        "   {\"context\": retriever, \"query\": RunnablePassthrough()}\n",
        "   | prompt\n",
        "   | model\n",
        "   | StrOutputParser()\n",
        ")\n",
        "\n",
        "# Prompt the chain\n",
        "query = \"time travel\"\n",
        "answer = chain.invoke(query)\n",
        "print(answer)"
      ]
    }
  ],
  "metadata": {
    "kernelspec": {
      "display_name": "Python 3",
      "language": "python",
      "name": "python3"
    },
    "language_info": {
      "codemirror_mode": {
        "name": "ipython",
        "version": 3
      },
      "file_extension": ".py",
      "mimetype": "text/x-python",
      "name": "python",
      "nbconvert_exporter": "python",
      "pygments_lexer": "ipython3",
      "version": "3.9.12"
    },
    "colab": {
      "provenance": [],
      "include_colab_link": true
    }
  },
  "nbformat": 4,
  "nbformat_minor": 0
}