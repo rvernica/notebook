{
  "cells": [
    {
      "cell_type": "markdown",
      "metadata": {
        "id": "view-in-github",
        "colab_type": "text"
      },
      "source": [
        "<a href=\"https://colab.research.google.com/github/rvernica/notebook/blob/main/mongodb/langchain-parent-document-retrieval.ipynb\" target=\"_parent\"><img src=\"https://colab.research.google.com/assets/colab-badge.svg\" alt=\"Open In Colab\"/></a>"
      ]
    },
    {
      "cell_type": "markdown",
      "metadata": {
        "id": "kTi7KrZsdMGE"
      },
      "source": [
        "# LangChain MongoDB Integration - Parent Document Retrieval"
      ]
    },
    {
      "cell_type": "markdown",
      "metadata": {
        "id": "kGN8D1mmdMGI"
      },
      "source": [
        "This notebook is a companion to the [Parent Document Retrieval](https://www.mongodb.com/docs/atlas/ai-integrations/langchain/parent-document-retrieval/) page. Refer to the page for set-up instructions and detailed explanations.\n",
        "\n",
        "<a target=\"_blank\" href=\"https://colab.research.google.com/github/mongodb/docs-notebooks/blob/main/ai-integrations/langchain-hybrid-search.ipynb\">\n",
        "  <img src=\"https://colab.research.google.com/assets/colab-badge.svg\" alt=\"Open In Colab\"/>\n",
        "</a>"
      ]
    },
    {
      "cell_type": "code",
      "execution_count": 1,
      "metadata": {
        "vscode": {
          "languageId": "shellscript"
        },
        "colab": {
          "base_uri": "https://localhost:8080/"
        },
        "id": "DzvCzT_rdMGI",
        "outputId": "a4d9ee98-a003-4a4e-c02f-5e9d7fb616bc"
      },
      "outputs": [
        {
          "output_type": "stream",
          "name": "stdout",
          "text": [
            "\u001b[?25l   \u001b[90m━━━━━━━━━━━━━━━━━━━━━━━━━━━━━━━━━━━━━━━━\u001b[0m \u001b[32m0.0/2.5 MB\u001b[0m \u001b[31m?\u001b[0m eta \u001b[36m-:--:--\u001b[0m\r\u001b[2K   \u001b[91m━━━━━━━━━━━━━━━━━━━━━━━━━━━━━━━━━━━━━━━\u001b[0m\u001b[91m╸\u001b[0m \u001b[32m2.5/2.5 MB\u001b[0m \u001b[31m121.8 MB/s\u001b[0m eta \u001b[36m0:00:01\u001b[0m\r\u001b[2K   \u001b[90m━━━━━━━━━━━━━━━━━━━━━━━━━━━━━━━━━━━━━━━━\u001b[0m \u001b[32m2.5/2.5 MB\u001b[0m \u001b[31m67.0 MB/s\u001b[0m eta \u001b[36m0:00:00\u001b[0m\n",
            "\u001b[?25h\u001b[?25l   \u001b[90m━━━━━━━━━━━━━━━━━━━━━━━━━━━━━━━━━━━━━━━━\u001b[0m \u001b[32m0.0/60.7 kB\u001b[0m \u001b[31m?\u001b[0m eta \u001b[36m-:--:--\u001b[0m\r\u001b[2K   \u001b[90m━━━━━━━━━━━━━━━━━━━━━━━━━━━━━━━━━━━━━━━━\u001b[0m \u001b[32m60.7/60.7 kB\u001b[0m \u001b[31m5.9 MB/s\u001b[0m eta \u001b[36m0:00:00\u001b[0m\n",
            "\u001b[?25h\u001b[?25l   \u001b[90m━━━━━━━━━━━━━━━━━━━━━━━━━━━━━━━━━━━━━━━━\u001b[0m \u001b[32m0.0/50.7 kB\u001b[0m \u001b[31m?\u001b[0m eta \u001b[36m-:--:--\u001b[0m\r\u001b[2K   \u001b[90m━━━━━━━━━━━━━━━━━━━━━━━━━━━━━━━━━━━━━━━━\u001b[0m \u001b[32m50.7/50.7 kB\u001b[0m \u001b[31m5.1 MB/s\u001b[0m eta \u001b[36m0:00:00\u001b[0m\n",
            "\u001b[?25h\u001b[?25l   \u001b[90m━━━━━━━━━━━━━━━━━━━━━━━━━━━━━━━━━━━━━━━━\u001b[0m \u001b[32m0.0/1.7 MB\u001b[0m \u001b[31m?\u001b[0m eta \u001b[36m-:--:--\u001b[0m\r\u001b[2K   \u001b[90m━━━━━━━━━━━━━━━━━━━━━━━━━━━━━━━━━━━━━━━━\u001b[0m \u001b[32m1.7/1.7 MB\u001b[0m \u001b[31m86.6 MB/s\u001b[0m eta \u001b[36m0:00:00\u001b[0m\n",
            "\u001b[2K   \u001b[90m━━━━━━━━━━━━━━━━━━━━━━━━━━━━━━━━━━━━━━━━\u001b[0m \u001b[32m323.9/323.9 kB\u001b[0m \u001b[31m33.9 MB/s\u001b[0m eta \u001b[36m0:00:00\u001b[0m\n",
            "\u001b[2K   \u001b[90m━━━━━━━━━━━━━━━━━━━━━━━━━━━━━━━━━━━━━━━━\u001b[0m \u001b[32m331.1/331.1 kB\u001b[0m \u001b[31m33.9 MB/s\u001b[0m eta \u001b[36m0:00:00\u001b[0m\n",
            "\u001b[2K   \u001b[90m━━━━━━━━━━━━━━━━━━━━━━━━━━━━━━━━━━━━━━━━\u001b[0m \u001b[32m1.4/1.4 MB\u001b[0m \u001b[31m84.5 MB/s\u001b[0m eta \u001b[36m0:00:00\u001b[0m\n",
            "\u001b[2K   \u001b[90m━━━━━━━━━━━━━━━━━━━━━━━━━━━━━━━━━━━━━━━━\u001b[0m \u001b[32m64.7/64.7 kB\u001b[0m \u001b[31m7.0 MB/s\u001b[0m eta \u001b[36m0:00:00\u001b[0m\n",
            "\u001b[2K   \u001b[90m━━━━━━━━━━━━━━━━━━━━━━━━━━━━━━━━━━━━━━━━\u001b[0m \u001b[32m50.9/50.9 kB\u001b[0m \u001b[31m4.4 MB/s\u001b[0m eta \u001b[36m0:00:00\u001b[0m\n",
            "\u001b[?25h\u001b[31mERROR: pip's dependency resolver does not currently take into account all the packages that are installed. This behaviour is the source of the following dependency conflicts.\n",
            "google-colab 1.0.0 requires requests==2.32.4, but you have requests 2.32.5 which is incompatible.\n",
            "google-generativeai 0.8.5 requires google-ai-generativelanguage==0.6.15, but you have google-ai-generativelanguage 0.9.0 which is incompatible.\u001b[0m\u001b[31m\n",
            "\u001b[0m"
          ]
        }
      ],
      "source": [
        "!pip install --quiet --upgrade \\\n",
        "  langchain \\\n",
        "  langchain-community \\\n",
        "  langchain-core \\\n",
        "  langchain-mongodb \\\n",
        "  langchain-voyageai \\\n",
        "  langchain-google-genai \\\n",
        "  pymongo \\\n",
        "  pypdf"
      ]
    },
    {
      "cell_type": "code",
      "source": [
        "!curl ifconfig.me"
      ],
      "metadata": {
        "colab": {
          "base_uri": "https://localhost:8080/"
        },
        "id": "Ea0rLuIzemTg",
        "outputId": "625d5caa-aa48-44c2-b0d7-f2735b783404"
      },
      "execution_count": 5,
      "outputs": [
        {
          "output_type": "stream",
          "name": "stdout",
          "text": [
            "35.245.220.36"
          ]
        }
      ]
    },
    {
      "cell_type": "code",
      "execution_count": 2,
      "metadata": {
        "id": "lkbDOTqRdMGJ"
      },
      "outputs": [],
      "source": [
        "import os\n",
        "from google.colab import userdata\n",
        "\n",
        "os.environ[\"GOOGLE_API_KEY\"] = userdata.get(\"GOOGLE_API_KEY\")\n",
        "os.environ[\"VOYAGE_API_KEY\"] = userdata.get(\"VOYAGE_API_KEY\")\n",
        "MONGODB_URI = userdata.get(\"MONGODB_URI\")"
      ]
    },
    {
      "cell_type": "code",
      "execution_count": 21,
      "metadata": {
        "colab": {
          "base_uri": "https://localhost:8080/",
          "height": 366
        },
        "id": "XljDWm21dMGJ",
        "outputId": "9c57ee5b-302c-4ea5-d1c2-47c330545097"
      },
      "outputs": [
        {
          "output_type": "stream",
          "name": "stdout",
          "text": [
            "{\n",
            "    \"producer\": \"West Corporation using ABCpdf\",\n",
            "    \"creator\": \"PyPDF\",\n",
            "    \"creationdate\": \"2024-12-09T21:06:39+00:00\",\n",
            "    \"title\": \"MongoDB, Inc. Announces Third Quarter Fiscal 2025 Financial Results\",\n",
            "    \"source\": \"https://investors.mongodb.com/node/12881/pdf\",\n",
            "    \"total_pages\": 8,\n",
            "    \"page\": 0,\n",
            "    \"page_label\": \"1\"\n",
            "}\n"
          ]
        },
        {
          "output_type": "execute_result",
          "data": {
            "text/plain": [
              "'MongoDB, Inc. Announces Third Quarter Fiscal 2025 Financial Results\\nDecember 9, 2024\\nThird Quarter Fiscal 2025 Total Revenue of $529.4 million, up 22% Year-over-Year\\nContinued Strong Customer Growth with Over 52,600 Customers as of October 31, 2024\\nMongoDB Atlas Revenue up 26% Year-over-Year; 68% of Total Q3 Revenue\\nNEW YORK , Dec. 9, 2024 /PRNewswire/ -- MongoDB, Inc. (NASDAQ: MDB) today announced its financial results for the third quarter ended October\\n31, 2024.\\n\\xa0\\n  \\xa0\\n\"MongoDB\\'s third quarter results were significantly ahead of expectations on the top and bottom line, driven by better-than-expected EA performance\\nand 26% Atlas revenue growth.\\xa0 We continue to see success winning new business due to the superiority of MongoDB\\'s developer data platform in\\naddressing a wide variety of mission-critical use cases,\" said Dev Ittycheria, President and Chief Executive Officer of MongoDB .\\n\"We continue to invest in our legacy app modernization and AI offerings as our document model and distributed architecture are exceptionally well\\nsuited for customers looking to build highly-performant, modern applications.\\xa0 MongoDB  is in a great position to be a central pillar of the emerging AI\\ntech stack and benefit from the next wave of application development in the years ahead.\"\\nThird Quarter Fiscal 2025 Financial Highlights\\nRevenue: Total revenue was $529.4 million for the third quarter of fiscal 2025, an increase of 22% year-over-year.\\nSubscription revenue was $512.2 million, an increase of 22% year-over-year, and services revenue was $17.2 million, an\\nincrease of 18% year-over-year.\\nGross Profit: Gross profit was $394.0 million for the third quarter of fiscal 2025, representing a 74% gross margin\\ncompared to 75% in the year-ago period. Non-GAAP gross profit was $405.7 million, representing a 77% non-GAAP gross\\nmargin, consistent with a non-GAAP gross margin of 77% in the year-ago period.'"
            ],
            "application/vnd.google.colaboratory.intrinsic+json": {
              "type": "string"
            }
          },
          "metadata": {},
          "execution_count": 21
        }
      ],
      "source": [
        "from langchain.text_splitter import RecursiveCharacterTextSplitter\n",
        "from langchain_community.document_loaders import PyPDFLoader\n",
        "import json\n",
        "\n",
        "# Load the PDF\n",
        "loader = PyPDFLoader(\"https://investors.mongodb.com/node/12881/pdf\")\n",
        "data = loader.load()\n",
        "\n",
        "# Chunk into parent documents\n",
        "parent_splitter = RecursiveCharacterTextSplitter(chunk_size=2000, chunk_overlap=20)\n",
        "docs = parent_splitter.split_documents(data)\n",
        "\n",
        "# Print a document\n",
        "print(json.dumps(docs[0].metadata, indent=4))\n",
        "docs[0].page_content"
      ]
    },
    {
      "cell_type": "code",
      "execution_count": 6,
      "metadata": {
        "id": "feYiy7PAdMGK"
      },
      "outputs": [],
      "source": [
        "from langchain_mongodb.retrievers import MongoDBAtlasParentDocumentRetriever\n",
        "from langchain_voyageai import VoyageAIEmbeddings\n",
        "\n",
        "# Define the embedding model to use\n",
        "embedding_model = VoyageAIEmbeddings(model=\"voyage-3-large\")\n",
        "\n",
        "# Define the chunking method for the child documents\n",
        "child_splitter = RecursiveCharacterTextSplitter(chunk_size=200, chunk_overlap=20)\n",
        "\n",
        "# Specify the database and collection name\n",
        "database_name = \"langchain_db\"\n",
        "collection_name = \"parent_document\"\n",
        "\n",
        "# Create the parent document retriever\n",
        "parent_doc_retriever = MongoDBAtlasParentDocumentRetriever.from_connection_string(\n",
        "    connection_string = MONGODB_URI,\n",
        "    child_splitter = child_splitter,\n",
        "    embedding_model = embedding_model,\n",
        "    database_name = database_name,\n",
        "    collection_name = collection_name,\n",
        "    text_key = \"page_content\",\n",
        "    relevance_score_fn = \"dotProduct\",\n",
        "    search_kwargs = { \"k\": 10 },\n",
        ")"
      ]
    },
    {
      "cell_type": "code",
      "execution_count": 17,
      "metadata": {
        "id": "pQMSCGt_dMGK"
      },
      "outputs": [],
      "source": [
        "# Ingest the documents into Atlas\n",
        "parent_doc_retriever.add_documents(docs)"
      ]
    },
    {
      "cell_type": "code",
      "execution_count": 22,
      "metadata": {
        "id": "Izb3Gw5pdMGK"
      },
      "outputs": [],
      "source": [
        "# Get the vector store instance from the retriever\n",
        "vector_store = parent_doc_retriever.vectorstore\n",
        "\n",
        "# Use helper method to create the vector search index\n",
        "vector_store.create_vector_search_index(\n",
        "   dimensions = 1024,       # The dimensions of the vector embeddings to be indexed\n",
        "   wait_until_complete = 60 # Number of seconds to wait for the index to build (can take around a minute)\n",
        ")\n"
      ]
    },
    {
      "cell_type": "code",
      "execution_count": 23,
      "metadata": {
        "colab": {
          "base_uri": "https://localhost:8080/"
        },
        "id": "kVofBNPwdMGL",
        "outputId": "d1302a70-a9c1-48a7-85fa-a3618037216f"
      },
      "outputs": [
        {
          "output_type": "execute_result",
          "data": {
            "text/plain": [
              "[Document(metadata={'_id': '49f6557c-1f16-456e-babe-cbd6be6721af', 'producer': 'West Corporation using ABCpdf', 'creator': 'PyPDF', 'creationdate': '2024-12-09T21:06:39+00:00', 'title': 'MongoDB, Inc. Announces Third Quarter Fiscal 2025 Financial Results', 'source': 'https://investors.mongodb.com/node/12881/pdf', 'total_pages': 8, 'page': 1, 'page_label': '2'}, page_content='that it obtained the AWS Modernization Competency designation and launched a MongoDB University course focused on\\nbuilding AI applications with MongoDB  and AWS. At Microsoft Ignite, MongoDB  announced new technology integrations for\\nAI, data analytics, and automating database deployments across on-premises, cloud, and edge environments.\\nLaunched in July 2024, the MongoDB AI Applications Program (MAAP) is designed to help companies unleash the power\\nof their data and to take advantage of rapidly advancing AI technologies. We recently announced that Capgemini,\\nConfluent, IBM, Unstructured, and QuantumBlack, AI by McKinsey have joined the MAAP ecosystem, offering customers\\nadditional integration and solution options.\\nExecutive Leadership Update\\nMichael Gordon, MongoDB\\'s Chief Operating Officer and Chief Financial Officer, will be stepping down at the end of the Company\\'s fiscal year on\\nJanuary 31, 2025, and afterwards will serve as an advisor to ensure a smooth transition. The Company has commenced an executive search process\\nfor a new CFO and will evaluate internal and external candidates.\\xa0 Serge Tanjga, MongoDB\\'s Senior Vice President of Finance, will serve as interim\\nCFO starting February 1st if a permanent successor has not been named by that date.\\nDev Ittycheria commented, \"On behalf of everyone at MongoDB , I want to thank Michael for everything he has done to contribute to our success in his\\nnearly 10 years with the company.\\xa0 In Michael\\'s time here, MongoDB  had a successful IPO, has grown revenue nearly 50x and has successfully\\nscaled the business model to generate meaningful operating leverage. Michael has also built out a world-class finance team that I am confident will\\ndeliver a smooth transition to a new CFO in the coming months.\"\\nMichael Gordon said, \"I am incredibly proud of what we have accomplished as a team in my almost ten years with the company.\\xa0 While we have'),\n",
              " Document(metadata={'_id': 'bf362080-fa47-49c1-bfcf-54c2fedb995f', 'producer': 'West Corporation using ABCpdf', 'creator': 'PyPDF', 'creationdate': '2024-12-09T21:06:39+00:00', 'title': 'MongoDB, Inc. Announces Third Quarter Fiscal 2025 Financial Results', 'source': 'https://investors.mongodb.com/node/12881/pdf', 'total_pages': 8, 'page': 1, 'page_label': '2'}, page_content='downturns and/or the effects of rising interest rates, inflation and volatility in the global economy and financial markets on our business and future\\noperating results; our potential failure to meet publicly announced guidance or other expectations about our business and future operating results; our\\nlimited operating history; our history of losses; failure of our platform to satisfy customer demands; the effects of increased competition; our\\ninvestments in new products and our ability to introduce new features, services or enhancements; our ability to effectively expand our sales and\\nmarketing organization; our ability to continue to build and maintain credibility with the developer community; our ability to add new customers or\\nincrease sales to our existing customers; our ability to maintain, protect, enforce and enhance our intellectual property; the effects of social, ethical and\\nregulatory issues relating to the use of new and evolving technologies, such as artificial intelligence, in our offerings or partnerships; the growth and\\nexpansion of the market for database products and our ability to penetrate that market; our ability to integrate acquired businesses and technologies\\nsuccessfully or achieve the expected benefits of such acquisitions; our ability to maintain the security of our software and adequately address privacy\\nconcerns; our ability to manage our growth effectively and successfully recruit and retain additional highly-qualified personnel; and the price volatility of')]"
            ]
          },
          "metadata": {},
          "execution_count": 23
        }
      ],
      "source": [
        "# Run a vector search query\n",
        "parent_doc_retriever.invoke(\"AI technology\")"
      ]
    },
    {
      "cell_type": "code",
      "execution_count": 24,
      "metadata": {
        "colab": {
          "base_uri": "https://localhost:8080/"
        },
        "id": "C02hRR1wdMGL",
        "outputId": "985eddad-671e-4cfe-9013-9fea89adef4a"
      },
      "outputs": [
        {
          "output_type": "stream",
          "name": "stdout",
          "text": [
            "MongoDB's latest AI announcements include:\n",
            "\n",
            "*   Launched a MongoDB University course focused on building AI applications with MongoDB and AWS.\n",
            "*   Announced new technology integrations for AI, data analytics, and automating database deployments across on-premises, cloud, and edge environments at Microsoft Ignite.\n",
            "*   Launched the MongoDB AI Applications Program (MAAP) in July 2024.\n",
            "*   Capgemini, Confluent, IBM, Unstructured, and QuantumBlack, AI by McKinsey have joined the MAAP ecosystem.\n"
          ]
        }
      ],
      "source": [
        "from langchain_core.output_parsers import StrOutputParser\n",
        "from langchain_core.prompts import PromptTemplate\n",
        "from langchain_core.runnables import  RunnablePassthrough\n",
        "from langchain_google_genai import ChatGoogleGenerativeAI\n",
        "\n",
        "# Define a prompt template\n",
        "template = \"\"\"\n",
        "   Use the following pieces of context to answer the question at the end.\n",
        "   {context}\n",
        "   Question: {query}?\n",
        "\"\"\"\n",
        "prompt = PromptTemplate.from_template(template)\n",
        "model = ChatGoogleGenerativeAI(model=\"gemini-2.5-flash\")\n",
        "\n",
        "# Construct a chain to answer questions on your data\n",
        "chain = (\n",
        "   {\"context\": parent_doc_retriever, \"query\": RunnablePassthrough()}\n",
        "   | prompt\n",
        "   | model\n",
        "   | StrOutputParser()\n",
        ")\n",
        "\n",
        "# Prompt the chain\n",
        "query = \"In a list, what are MongoDB's latest AI announcements?\"\n",
        "answer = chain.invoke(query)\n",
        "print(answer)"
      ]
    }
  ],
  "metadata": {
    "kernelspec": {
      "display_name": "Python 3",
      "language": "python",
      "name": "python3"
    },
    "language_info": {
      "codemirror_mode": {
        "name": "ipython",
        "version": 3
      },
      "file_extension": ".py",
      "mimetype": "text/x-python",
      "name": "python",
      "nbconvert_exporter": "python",
      "pygments_lexer": "ipython3",
      "version": "3.9.12"
    },
    "colab": {
      "provenance": [],
      "include_colab_link": true
    }
  },
  "nbformat": 4,
  "nbformat_minor": 0
}